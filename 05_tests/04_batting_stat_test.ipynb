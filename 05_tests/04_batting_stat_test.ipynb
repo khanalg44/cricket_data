{
 "cells": [
  {
   "cell_type": "markdown",
   "metadata": {},
   "source": [
    "## Batting Statistics in TESTS"
   ]
  },
  {
   "cell_type": "code",
   "execution_count": 1,
   "metadata": {},
   "outputs": [],
   "source": [
    "import numpy as np\n",
    "import matplotlib.pyplot as plt\n",
    "import pandas as pd\n",
    "import os, glob, yaml, pickle\n",
    "import datetime\n",
    "\n",
    "database_dir = '../database/'"
   ]
  },
  {
   "cell_type": "code",
   "execution_count": null,
   "metadata": {},
   "outputs": [],
   "source": []
  },
  {
   "cell_type": "code",
   "execution_count": 2,
   "metadata": {},
   "outputs": [
    {
     "ename": "SyntaxError",
     "evalue": "invalid syntax (<ipython-input-2-340e51e9cf27>, line 10)",
     "output_type": "error",
     "traceback": [
      "\u001b[0;36m  File \u001b[0;32m\"<ipython-input-2-340e51e9cf27>\"\u001b[0;36m, line \u001b[0;32m10\u001b[0m\n\u001b[0;31m    Innings_ =\u001b[0m\n\u001b[0m               ^\u001b[0m\n\u001b[0;31mSyntaxError\u001b[0m\u001b[0;31m:\u001b[0m invalid syntax\n"
     ]
    }
   ],
   "source": [
    "def batting_summary_test():\n",
    "    df=pickle.load(open(database_dir+'batting_record_test_2020.df', 'rb'))\n",
    "    all_players = df['batsman'].unique()\n",
    "    \n",
    "    data=[]\n",
    "    for player in all_players:\n",
    "        dfp = df[ df['batsman']==player ]\n",
    "        \n",
    "        Mats_ = dfp.shape[0]\n",
    "        Innings_ = \n",
    "        Runs_ = dfp.Runs.sum()\n",
    "        BF_   = dfp.BF.sum()\n",
    "        NOs_  = dfp.NO.sum()\n",
    "        \n",
    "        HS    = max(dfp.Runs)\n",
    "        Fifty = ((dfp.Runs>=50) & (dfp.Runs<100) ).sum()\n",
    "        Hundred = (dfp.Runs>=100).sum()\n",
    "        \n",
    "        Wins  = sum(dfp.Win)\n",
    "        Toss_wins = sum(dfp.Toss)\n",
    "        \n",
    "        SR    = np.round(100*Runs_/(BF_+0.1), 2) # add 0.1 to avoide deviding by 0\n",
    "        \n",
    "        if Inns_== NOs_:\n",
    "            Ave=dfp.Runs.sum() \n",
    "        else:\n",
    "            Ave   = np.round(Runs_/(Inns_-NOs_), 2)\n",
    "        Fours = dfp['4s'].sum()\n",
    "        Sixes = dfp['6s'].sum()\n",
    "        \n",
    "        data.append([player, Mats_, Inns_, NOs_, Runs_, BF_, HS,\n",
    "                     Fifty, Hundred, Ave, SR, Fours, Sixes] )\n",
    "        \n",
    "    df_all = pd.DataFrame(data, columns=['player', 'Matches','Innings', 'NO', 'Runs', 'BF', 'HS',\n",
    "                                         '50s', '100s', 'Ave', 'SR', '4s', '6s'])\n",
    "    return df_all\n",
    "\n",
    "df=batting_summary_test()\n",
    "df.head(2)"
   ]
  },
  {
   "cell_type": "code",
   "execution_count": null,
   "metadata": {},
   "outputs": [],
   "source": [
    "def sorted_table(sort_by='Runs', min_runs=2000, min_balls=1500):\n",
    "    df_summary = batting_summary_()\n",
    "    df_summary = df_summary[ (df_summary['Runs']>=min_runs) & (df_summary['BF']>=min_balls) ]\n",
    "    df_sorted  = df_summary.sort_values(by=[sort_by], ascending=False)\n",
    "    return df_sorted"
   ]
  },
  {
   "cell_type": "code",
   "execution_count": null,
   "metadata": {},
   "outputs": [],
   "source": [
    "def get_top_players():\n",
    "    sorting_list=['Innings', 'NO', 'Runs', 'BF', 'HS','Ave', 'SR', '50s', '100s', '4s', '6s']\n",
    "    for sort_item in sorting_list:\n",
    "        df_sorted = sorted_table(sort_by=sort_item)\n",
    "        print ('Sorted by :',sort_item)\n",
    "        display(df_sorted[:5])\n",
    "get_top_players()"
   ]
  },
  {
   "cell_type": "code",
   "execution_count": null,
   "metadata": {},
   "outputs": [],
   "source": []
  }
 ],
 "metadata": {
  "kernelspec": {
   "display_name": "Python 3",
   "language": "python",
   "name": "python3"
  },
  "language_info": {
   "codemirror_mode": {
    "name": "ipython",
    "version": 3
   },
   "file_extension": ".py",
   "mimetype": "text/x-python",
   "name": "python",
   "nbconvert_exporter": "python",
   "pygments_lexer": "ipython3",
   "version": "3.8.5"
  }
 },
 "nbformat": 4,
 "nbformat_minor": 4
}
