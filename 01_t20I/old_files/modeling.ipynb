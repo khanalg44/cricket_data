{
 "cells": [
  {
   "cell_type": "markdown",
   "metadata": {},
   "source": [
    "# ML on cricket data"
   ]
  },
  {
   "cell_type": "code",
   "execution_count": 1,
   "metadata": {},
   "outputs": [],
   "source": [
    "import numpy as np\n",
    "import matplotlib.pyplot as plt\n",
    "import pandas as pd\n",
    "import seaborn as sns\n",
    "\n",
    "sns.set(style='whitegrid')\n",
    "data_dir='./datasets/'"
   ]
  },
  {
   "cell_type": "code",
   "execution_count": 2,
   "metadata": {},
   "outputs": [],
   "source": [
    "df = pd.read_csv(data_dir+'data_full.csv')"
   ]
  },
  {
   "cell_type": "code",
   "execution_count": 3,
   "metadata": {},
   "outputs": [
    {
     "data": {
      "text/html": [
       "<div>\n",
       "<style scoped>\n",
       "    .dataframe tbody tr th:only-of-type {\n",
       "        vertical-align: middle;\n",
       "    }\n",
       "\n",
       "    .dataframe tbody tr th {\n",
       "        vertical-align: top;\n",
       "    }\n",
       "\n",
       "    .dataframe thead th {\n",
       "        text-align: right;\n",
       "    }\n",
       "</style>\n",
       "<table border=\"1\" class=\"dataframe\">\n",
       "  <thead>\n",
       "    <tr style=\"text-align: right;\">\n",
       "      <th></th>\n",
       "      <th>date</th>\n",
       "      <th>team1</th>\n",
       "      <th>score1</th>\n",
       "      <th>wkts1</th>\n",
       "      <th>score1_at6</th>\n",
       "      <th>wkts1_at6</th>\n",
       "      <th>score1_at10</th>\n",
       "      <th>wkts1_at10</th>\n",
       "      <th>score1_at15</th>\n",
       "      <th>wkts1_at15</th>\n",
       "      <th>...</th>\n",
       "      <th>wkts2</th>\n",
       "      <th>score2_at6</th>\n",
       "      <th>wkts2_at6</th>\n",
       "      <th>score2_at10</th>\n",
       "      <th>wkts2_at10</th>\n",
       "      <th>score2_at15</th>\n",
       "      <th>wkts2_at15</th>\n",
       "      <th>toss_winner</th>\n",
       "      <th>toss_decision</th>\n",
       "      <th>winner</th>\n",
       "    </tr>\n",
       "  </thead>\n",
       "  <tbody>\n",
       "    <tr>\n",
       "      <th>0</th>\n",
       "      <td>2005-02-17</td>\n",
       "      <td>New Zealand</td>\n",
       "      <td>214</td>\n",
       "      <td>5</td>\n",
       "      <td>58</td>\n",
       "      <td>4</td>\n",
       "      <td>89</td>\n",
       "      <td>4</td>\n",
       "      <td>141</td>\n",
       "      <td>5</td>\n",
       "      <td>...</td>\n",
       "      <td>10</td>\n",
       "      <td>52</td>\n",
       "      <td>2</td>\n",
       "      <td>92</td>\n",
       "      <td>3</td>\n",
       "      <td>123</td>\n",
       "      <td>7</td>\n",
       "      <td>Australia</td>\n",
       "      <td>bat</td>\n",
       "      <td>Australia</td>\n",
       "    </tr>\n",
       "    <tr>\n",
       "      <th>1</th>\n",
       "      <td>2005-06-13</td>\n",
       "      <td>England</td>\n",
       "      <td>179</td>\n",
       "      <td>8</td>\n",
       "      <td>50</td>\n",
       "      <td>2</td>\n",
       "      <td>93</td>\n",
       "      <td>2</td>\n",
       "      <td>124</td>\n",
       "      <td>5</td>\n",
       "      <td>...</td>\n",
       "      <td>10</td>\n",
       "      <td>31</td>\n",
       "      <td>7</td>\n",
       "      <td>65</td>\n",
       "      <td>7</td>\n",
       "      <td>79</td>\n",
       "      <td>10</td>\n",
       "      <td>England</td>\n",
       "      <td>bat</td>\n",
       "      <td>England</td>\n",
       "    </tr>\n",
       "  </tbody>\n",
       "</table>\n",
       "<p>2 rows × 22 columns</p>\n",
       "</div>"
      ],
      "text/plain": [
       "         date        team1  score1  wkts1  score1_at6  wkts1_at6  score1_at10  \\\n",
       "0  2005-02-17  New Zealand     214      5          58          4           89   \n",
       "1  2005-06-13      England     179      8          50          2           93   \n",
       "\n",
       "   wkts1_at10  score1_at15  wkts1_at15  ... wkts2  score2_at6  wkts2_at6  \\\n",
       "0           4          141           5  ...    10          52          2   \n",
       "1           2          124           5  ...    10          31          7   \n",
       "\n",
       "   score2_at10  wkts2_at10  score2_at15  wkts2_at15  toss_winner  \\\n",
       "0           92           3          123           7    Australia   \n",
       "1           65           7           79          10      England   \n",
       "\n",
       "   toss_decision     winner  \n",
       "0            bat  Australia  \n",
       "1            bat    England  \n",
       "\n",
       "[2 rows x 22 columns]"
      ]
     },
     "execution_count": 3,
     "metadata": {},
     "output_type": "execute_result"
    }
   ],
   "source": [
    "df.head(2)"
   ]
  },
  {
   "cell_type": "markdown",
   "metadata": {},
   "source": [
    "## Data Preparation\n",
    "- Y will be win or loss so 0 and 1. (and it can only represented by win for 1 team)\n",
    "- X will have score (run and wkt) at 6 score at 10, score at 15 and final score. one column for toss (0|1) (1 if won the toss by team1). one column for innings (0|1) ( 0 for first innings by team1 and 1 for second innings)"
   ]
  },
  {
   "cell_type": "code",
   "execution_count": 4,
   "metadata": {},
   "outputs": [],
   "source": [
    "top_teams = ['Afghanistan', 'Australia', 'Bangladesh', 'England', 'India',\n",
    "             'Ireland', 'New Zealand', 'Pakistan', 'South Africa', 'Sri Lanka', 'West Indies']\n",
    "\n",
    "def prepare_data(dff, teams=top_teams):\n",
    "    # remove the bottom teams from df\n",
    "    bottom_team_index = [i for i in dff.index if (dff.team1[i] not in top_teams or dff.team2[i] not in top_teams)]\n",
    "    df = dff.drop(index=bottom_team_index) # donot use inplace=True here\n",
    "    \n",
    "    df['toss1']=(df.toss_winner==df.team1).astype(int)\n",
    "    df['toss2']=(df.toss_winner==df.team2).astype(int)\n",
    "    df['inn1']=[0]*df.shape[0]\n",
    "    df['inn2']=[1]*df.shape[0]\n",
    "    df['win1']=(df.winner==df.team1).astype(int)\n",
    "    df['win2']=(df.winner==df.team2).astype(int)\n",
    "    \n",
    "    data = df[[\"score1\", \"wkts1\", \"score1_at6\", \"wkts1_at6\", \"score1_at10\", \"wkts1_at10\",\n",
    "              \"score1_at15\", \"wkts1_at15\", \"score2\", \"wkts2\", \"score2_at6\", \"wkts2_at6\",\n",
    "              \"score2_at10\", \"wkts2_at10\", \"score2_at15\", \"wkts2_at15\", \"toss1\", \"inn1\", \"win1\"]]\n",
    "    \n",
    "    return data"
   ]
  },
  {
   "cell_type": "code",
   "execution_count": 5,
   "metadata": {},
   "outputs": [
    {
     "name": "stdout",
     "output_type": "stream",
     "text": [
      "(452, 19)\n"
     ]
    },
    {
     "data": {
      "text/html": [
       "<div>\n",
       "<style scoped>\n",
       "    .dataframe tbody tr th:only-of-type {\n",
       "        vertical-align: middle;\n",
       "    }\n",
       "\n",
       "    .dataframe tbody tr th {\n",
       "        vertical-align: top;\n",
       "    }\n",
       "\n",
       "    .dataframe thead th {\n",
       "        text-align: right;\n",
       "    }\n",
       "</style>\n",
       "<table border=\"1\" class=\"dataframe\">\n",
       "  <thead>\n",
       "    <tr style=\"text-align: right;\">\n",
       "      <th></th>\n",
       "      <th>score1</th>\n",
       "      <th>wkts1</th>\n",
       "      <th>score1_at6</th>\n",
       "      <th>wkts1_at6</th>\n",
       "      <th>score1_at10</th>\n",
       "      <th>wkts1_at10</th>\n",
       "      <th>score1_at15</th>\n",
       "      <th>wkts1_at15</th>\n",
       "      <th>score2</th>\n",
       "      <th>wkts2</th>\n",
       "      <th>score2_at6</th>\n",
       "      <th>wkts2_at6</th>\n",
       "      <th>score2_at10</th>\n",
       "      <th>wkts2_at10</th>\n",
       "      <th>score2_at15</th>\n",
       "      <th>wkts2_at15</th>\n",
       "      <th>toss1</th>\n",
       "      <th>inn1</th>\n",
       "      <th>win1</th>\n",
       "    </tr>\n",
       "  </thead>\n",
       "  <tbody>\n",
       "    <tr>\n",
       "      <th>0</th>\n",
       "      <td>214</td>\n",
       "      <td>5</td>\n",
       "      <td>58</td>\n",
       "      <td>4</td>\n",
       "      <td>89</td>\n",
       "      <td>4</td>\n",
       "      <td>141</td>\n",
       "      <td>5</td>\n",
       "      <td>170</td>\n",
       "      <td>10</td>\n",
       "      <td>52</td>\n",
       "      <td>2</td>\n",
       "      <td>92</td>\n",
       "      <td>3</td>\n",
       "      <td>123</td>\n",
       "      <td>7</td>\n",
       "      <td>0</td>\n",
       "      <td>0</td>\n",
       "      <td>0</td>\n",
       "    </tr>\n",
       "  </tbody>\n",
       "</table>\n",
       "</div>"
      ],
      "text/plain": [
       "   score1  wkts1  score1_at6  wkts1_at6  score1_at10  wkts1_at10  score1_at15  \\\n",
       "0     214      5          58          4           89           4          141   \n",
       "\n",
       "   wkts1_at15  score2  wkts2  score2_at6  wkts2_at6  score2_at10  wkts2_at10  \\\n",
       "0           5     170     10          52          2           92           3   \n",
       "\n",
       "   score2_at15  wkts2_at15  toss1  inn1  win1  \n",
       "0          123           7      0     0     0  "
      ]
     },
     "execution_count": 5,
     "metadata": {},
     "output_type": "execute_result"
    }
   ],
   "source": [
    "data = prepare_data(df)\n",
    "print (data.shape)\n",
    "data.head(1)"
   ]
  },
  {
   "cell_type": "code",
   "execution_count": 26,
   "metadata": {
    "scrolled": true
   },
   "outputs": [
    {
     "name": "stdout",
     "output_type": "stream",
     "text": [
      "X_train.shape: (361, 18) X_test.shape: (91, 18)\n"
     ]
    }
   ],
   "source": [
    "from sklearn.model_selection import train_test_split\n",
    "\n",
    "y = data[\"win1\"]\n",
    "X = data.drop(\"win1\", axis=1)\n",
    "(X_train, X_test, y_train, y_test) = train_test_split(X, y, test_size=0.2)\n",
    "print (f\"X_train.shape: {X_train.shape} X_test.shape: {X_test.shape}\")"
   ]
  },
  {
   "cell_type": "code",
   "execution_count": 27,
   "metadata": {},
   "outputs": [
    {
     "name": "stdout",
     "output_type": "stream",
     "text": [
      "X_train.shape: (361, 6) X_test.shape: (91, 6)\n"
     ]
    }
   ],
   "source": [
    "from sklearn.model_selection import train_test_split\n",
    "\n",
    "y = data[\"win1\"]\n",
    "#X = data.drop([\"win1\", axis=1)\n",
    "to_drop = [\"win1\", \"score1_at6\", \"wkts1_at6\", \"score1_at10\", \"wkts1_at10\", \"score1_at15\", \"wkts1_at15\", \"score2_at6\", \"wkts2_at6\", \"score2_at10\", \"wkts2_at10\", \"score2_at15\", \"wkts2_at15\"]\n",
    "X = data.drop(to_drop, axis=1)\n",
    "\n",
    "(X_train, X_test, y_train, y_test) = train_test_split(X, y, test_size=0.2)\n",
    "print (f\"X_train.shape: {X_train.shape} X_test.shape: {X_test.shape}\")\n"
   ]
  },
  {
   "cell_type": "markdown",
   "metadata": {},
   "source": [
    "## Model"
   ]
  },
  {
   "cell_type": "code",
   "execution_count": 28,
   "metadata": {},
   "outputs": [],
   "source": [
    "from sklearn.linear_model import LogisticRegression\n",
    "from sklearn.metrics import accuracy_score\n",
    "from xgboost import XGBClassifier\n",
    "from sklearn.ensemble import AdaBoostClassifier\n"
   ]
  },
  {
   "cell_type": "code",
   "execution_count": 29,
   "metadata": {},
   "outputs": [],
   "source": [
    "clf_dict={\"LR\" : LogisticRegression(max_iter=1000),\n",
    "          \"XGB\" : XGBClassifier(),\n",
    "          \"ADB\": AdaBoostClassifier(n_estimators = 100)}\n",
    "\n",
    "def train(clf_name):\n",
    "    \n",
    "    model = clf_dict[clf_name]\n",
    "    model.fit(X_train, y_train)\n",
    "    y_preds_train = model.predict(X_train)\n",
    "    y_preds_test = model.predict(X_test)\n",
    "\n",
    "    acc_train = accuracy_score(y_train, y_preds_train)\n",
    "    acc_test  = accuracy_score(y_test,  y_preds_test)\n",
    "\n",
    "    return (acc_train, acc_test)\n",
    "\n",
    "#clf = LogisticRegression(max_iter=1000)\n",
    "#train(clf)"
   ]
  },
  {
   "cell_type": "code",
   "execution_count": null,
   "metadata": {},
   "outputs": [],
   "source": [
    "train(clf)"
   ]
  },
  {
   "cell_type": "code",
   "execution_count": 30,
   "metadata": {},
   "outputs": [
    {
     "data": {
      "text/html": [
       "<div>\n",
       "<style scoped>\n",
       "    .dataframe tbody tr th:only-of-type {\n",
       "        vertical-align: middle;\n",
       "    }\n",
       "\n",
       "    .dataframe tbody tr th {\n",
       "        vertical-align: top;\n",
       "    }\n",
       "\n",
       "    .dataframe thead th {\n",
       "        text-align: right;\n",
       "    }\n",
       "</style>\n",
       "<table border=\"1\" class=\"dataframe\">\n",
       "  <thead>\n",
       "    <tr style=\"text-align: right;\">\n",
       "      <th></th>\n",
       "      <th>model</th>\n",
       "      <th>accuracy train</th>\n",
       "      <th>accuracy test</th>\n",
       "    </tr>\n",
       "  </thead>\n",
       "  <tbody>\n",
       "    <tr>\n",
       "      <th>0</th>\n",
       "      <td>LR</td>\n",
       "      <td>0.523546</td>\n",
       "      <td>0.483516</td>\n",
       "    </tr>\n",
       "    <tr>\n",
       "      <th>1</th>\n",
       "      <td>XGB</td>\n",
       "      <td>1.000000</td>\n",
       "      <td>0.483516</td>\n",
       "    </tr>\n",
       "    <tr>\n",
       "      <th>2</th>\n",
       "      <td>ADB</td>\n",
       "      <td>0.750693</td>\n",
       "      <td>0.450549</td>\n",
       "    </tr>\n",
       "  </tbody>\n",
       "</table>\n",
       "</div>"
      ],
      "text/plain": [
       "  model  accuracy train   accuracy test\n",
       "0    LR         0.523546       0.483516\n",
       "1   XGB         1.000000       0.483516\n",
       "2   ADB         0.750693       0.450549"
      ]
     },
     "execution_count": 30,
     "metadata": {},
     "output_type": "execute_result"
    }
   ],
   "source": [
    "\n",
    "\n",
    "res = []\n",
    "for clf in [\"LR\", \"XGB\", \"ADB\"]:\n",
    "    (acc_train, acc_test) = train(clf)\n",
    "    res.append([clf, acc_train, acc_test])\n",
    "    \n",
    "\n",
    "res_df = pd.DataFrame(res, columns=[\"model\", \"accuracy train \", \"accuracy test\"])\n",
    "res_df\n"
   ]
  },
  {
   "cell_type": "code",
   "execution_count": null,
   "metadata": {},
   "outputs": [],
   "source": []
  }
 ],
 "metadata": {
  "kernelspec": {
   "display_name": "Python 3",
   "language": "python",
   "name": "python3"
  },
  "language_info": {
   "codemirror_mode": {
    "name": "ipython",
    "version": 3
   },
   "file_extension": ".py",
   "mimetype": "text/x-python",
   "name": "python",
   "nbconvert_exporter": "python",
   "pygments_lexer": "ipython3",
   "version": "3.8.5"
  }
 },
 "nbformat": 4,
 "nbformat_minor": 4
}
