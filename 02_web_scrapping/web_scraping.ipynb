{
 "cells": [
  {
   "cell_type": "markdown",
   "metadata": {},
   "source": [
    "# Ball-by-ball commentary from ESPN\n",
    "\n",
    "- [how to web scrape with python TDS](https://towardsdatascience.com/how-to-web-scrape-with-python-in-4-minutes-bc49186a8460)"
   ]
  },
  {
   "cell_type": "code",
   "execution_count": 1,
   "metadata": {},
   "outputs": [],
   "source": [
    "#import numpy as np\n",
    "#import pylab as plt\n",
    "import pandas as pd\n",
    "import requests\n",
    "from bs4 import BeautifulSoup\n",
    "\n",
    "data_dir = './datasets/'"
   ]
  },
  {
   "cell_type": "code",
   "execution_count": 2,
   "metadata": {},
   "outputs": [],
   "source": [
    "\n",
    "##<a href=\"data/nyct/turnstile/turnstile_200912.txt\">Saturday, September 12, 2020</a>"
   ]
  },
  {
   "cell_type": "code",
   "execution_count": 3,
   "metadata": {},
   "outputs": [],
   "source": [
    "import requests\n",
    "import urllib.request\n",
    "import time\n",
    "from bs4 import BeautifulSoup"
   ]
  },
  {
   "cell_type": "code",
   "execution_count": 4,
   "metadata": {},
   "outputs": [
    {
     "data": {
      "text/plain": [
       "<Response [200]>"
      ]
     },
     "execution_count": 4,
     "metadata": {},
     "output_type": "execute_result"
    }
   ],
   "source": [
    "url = 'http://web.mta.info/developers/turnstile.html'\n",
    "response = requests.get(url)\n",
    "response"
   ]
  },
  {
   "cell_type": "code",
   "execution_count": 5,
   "metadata": {},
   "outputs": [],
   "source": [
    "soup = BeautifulSoup(response.text, \"html.parser\")"
   ]
  },
  {
   "cell_type": "code",
   "execution_count": 6,
   "metadata": {},
   "outputs": [],
   "source": [
    "all_a = soup.find_all('a')"
   ]
  },
  {
   "cell_type": "code",
   "execution_count": 7,
   "metadata": {},
   "outputs": [
    {
     "name": "stdout",
     "output_type": "stream",
     "text": [
      "<a href=\"data/nyct/turnstile/turnstile_200905.txt\">Saturday, September 05, 2020</a>\n"
     ]
    },
    {
     "data": {
      "text/plain": [
       "'data/nyct/turnstile/turnstile_200905.txt'"
      ]
     },
     "execution_count": 7,
     "metadata": {},
     "output_type": "execute_result"
    }
   ],
   "source": [
    "a_38 = all_a[38]\n",
    "print (a_38)\n",
    "link = a_38['href']\n",
    "link"
   ]
  },
  {
   "cell_type": "code",
   "execution_count": 8,
   "metadata": {},
   "outputs": [
    {
     "data": {
      "text/plain": [
       "('./datasets/turnstile_200905.txt', <http.client.HTTPMessage at 0x1118de700>)"
      ]
     },
     "execution_count": 8,
     "metadata": {},
     "output_type": "execute_result"
    }
   ],
   "source": [
    "download_url = 'http://web.mta.info/developers/'+ link\n",
    "urllib.request.urlretrieve(download_url,'./datasets/'+link.split('/')[3])\n",
    "#urllib.request.urlretrieve(download_url,'./'+link[link.find('/turnstile_')+1:])"
   ]
  },
  {
   "cell_type": "markdown",
   "metadata": {},
   "source": [
    "## For ESPN webpage\n",
    "\n",
    "**Reference**\n",
    "- [codeacademy article on web scraping](https://news.codecademy.com/web-scraping-python-beautiful-soup-mlb-stats/)"
   ]
  },
  {
   "cell_type": "code",
   "execution_count": 9,
   "metadata": {},
   "outputs": [
    {
     "name": "stdout",
     "output_type": "stream",
     "text": [
      "<Response [200]>\n"
     ]
    }
   ],
   "source": [
    "url='http://www.espn.com/mlb/history/leaders/_/breakdown/season/year/2018/start/1'\n",
    "page = requests.get(url)\n",
    "print (page)"
   ]
  },
  {
   "cell_type": "code",
   "execution_count": 10,
   "metadata": {},
   "outputs": [],
   "source": [
    "#print ( page.text )"
   ]
  },
  {
   "cell_type": "code",
   "execution_count": 11,
   "metadata": {},
   "outputs": [],
   "source": [
    "soup = BeautifulSoup(page.text, \"html.parser\")"
   ]
  },
  {
   "cell_type": "code",
   "execution_count": 12,
   "metadata": {},
   "outputs": [],
   "source": [
    "all_a = soup.find_all('a')"
   ]
  },
  {
   "cell_type": "code",
   "execution_count": 13,
   "metadata": {},
   "outputs": [
    {
     "name": "stdout",
     "output_type": "stream",
     "text": [
      "<a href=\"/mlb/history/awards\">Awards</a>\n"
     ]
    }
   ],
   "source": [
    "print ( all_a[12] )"
   ]
  },
  {
   "cell_type": "code",
   "execution_count": 14,
   "metadata": {},
   "outputs": [
    {
     "data": {
      "text/plain": [
       "[<tr align=\"right\" class=\"oddrow player-10-33039\"><td align=\"left\">1</td><td align=\"left\"><a href=\"http://www.espn.com/mlb/player/_/id/33039/mookie-betts\"><span class=\"bi\">Mookie Betts</span></a></td><td align=\"left\">6</td><td>136</td><td>520</td><td>129</td><td>180</td><td>47</td><td>5</td><td>32</td><td>80</td><td>81</td><td>91</td><td>30</td><td>6</td><td class=\"sortcell\">.346</td></tr>]"
      ]
     },
     "execution_count": 14,
     "metadata": {},
     "output_type": "execute_result"
    }
   ],
   "source": [
    "soup.find_all('tr', attrs={'class': 'oddrow player-10-33039'})"
   ]
  },
  {
   "cell_type": "code",
   "execution_count": 15,
   "metadata": {},
   "outputs": [
    {
     "data": {
      "text/plain": [
       "<tr align=\"right\" class=\"oddrow player-10-33039\"><td align=\"left\">1</td><td align=\"left\"><a href=\"http://www.espn.com/mlb/player/_/id/33039/mookie-betts\"><span class=\"bi\">Mookie Betts</span></a></td><td align=\"left\">6</td><td>136</td><td>520</td><td>129</td><td>180</td><td>47</td><td>5</td><td>32</td><td>80</td><td>81</td><td>91</td><td>30</td><td>6</td><td class=\"sortcell\">.346</td></tr>"
      ]
     },
     "execution_count": 15,
     "metadata": {},
     "output_type": "execute_result"
    }
   ],
   "source": [
    "soup.find('tr', attrs={'class': 'oddrow player-10-33039'})"
   ]
  },
  {
   "cell_type": "code",
   "execution_count": 16,
   "metadata": {},
   "outputs": [
    {
     "data": {
      "text/plain": [
       "<tr align=\"right\" class=\"colhead\"><td></td><td align=\"left\" width=\"30%\">PLAYER</td><td align=\"left\">YRS</td><td><a href=\"//www.espn.com/mlb/history/leaders/_/breakdown/season/year/2018/sort/gamesPlayed\" title=\"Games\">G</a></td><td><a href=\"//www.espn.com/mlb/history/leaders/_/breakdown/season/year/2018/sort/atBats\" title=\"At Bats\">AB</a></td><td><a href=\"//www.espn.com/mlb/history/leaders/_/breakdown/season/year/2018/sort/runs\" title=\"Runs Scored\">R</a></td><td><a href=\"//www.espn.com/mlb/history/leaders/_/breakdown/season/year/2018/sort/hits\" title=\"Hits\">H</a></td><td><a href=\"//www.espn.com/mlb/history/leaders/_/breakdown/season/year/2018/sort/doubles\" title=\"Doubles\">2B</a></td><td><a href=\"//www.espn.com/mlb/history/leaders/_/breakdown/season/year/2018/sort/triples\" title=\"Triples\">3B</a></td><td><a href=\"//www.espn.com/mlb/history/leaders/_/breakdown/season/year/2018/sort/homeRuns\" title=\"Home Runs\">HR</a></td><td><a href=\"//www.espn.com/mlb/history/leaders/_/breakdown/season/year/2018/sort/RBIs\" title=\"Runs Batted In\">RBI</a></td><td><a href=\"//www.espn.com/mlb/history/leaders/_/breakdown/season/year/2018/sort/walks\" title=\"Walks\">BB</a></td><td><a href=\"//www.espn.com/mlb/history/leaders/_/breakdown/season/year/2018/sort/strikeouts\" title=\"Strikeouts\">SO</a></td><td><a href=\"//www.espn.com/mlb/history/leaders/_/breakdown/season/year/2018/sort/stolenBases\" title=\"Stolen Bases\">SB</a></td><td><a href=\"//www.espn.com/mlb/history/leaders/_/breakdown/season/year/2018/sort/caughtStealing\" title=\"Caught Stealing\">CS</a></td><td class=\"sortcell\">BA</td></tr>"
      ]
     },
     "execution_count": 16,
     "metadata": {},
     "output_type": "execute_result"
    }
   ],
   "source": [
    "soup.find('tr', attrs={'class': 'colhead'})"
   ]
  },
  {
   "cell_type": "code",
   "execution_count": 17,
   "metadata": {},
   "outputs": [
    {
     "data": {
      "text/plain": [
       "<tr align=\"right\" class=\"oddrow player-10-33039\"><td align=\"left\">1</td><td align=\"left\"><a href=\"http://www.espn.com/mlb/player/_/id/33039/mookie-betts\"><span class=\"bi\">Mookie Betts</span></a></td><td align=\"left\">6</td><td>136</td><td>520</td><td>129</td><td>180</td><td>47</td><td>5</td><td>32</td><td>80</td><td>81</td><td>91</td><td>30</td><td>6</td><td class=\"sortcell\">.346</td></tr>"
      ]
     },
     "execution_count": 17,
     "metadata": {},
     "output_type": "execute_result"
    }
   ],
   "source": [
    "soup.find('tr', attrs={'class': 'oddrow player-10-33039'})"
   ]
  },
  {
   "cell_type": "code",
   "execution_count": 18,
   "metadata": {},
   "outputs": [
    {
     "name": "stdout",
     "output_type": "stream",
     "text": [
      "<tr align=\"right\" class=\"oddrow player-10-33039\"><td align=\"left\">1</td><td align=\"left\"><a href=\"http://www.espn.com/mlb/player/_/id/33039/mookie-betts\"><span class=\"bi\">Mookie Betts</span></a></td><td align=\"left\">6</td><td>136</td><td>520</td><td>129</td><td>180</td><td>47</td><td>5</td><td>32</td><td>80</td><td>81</td><td>91</td><td>30</td><td>6</td><td class=\"sortcell\">.346</td></tr>\n",
      "1\n",
      "Mookie Betts\n",
      "6\n",
      "136\n",
      "520\n",
      "129\n",
      "180\n",
      "47\n",
      "5\n",
      "32\n",
      "80\n",
      "81\n",
      "91\n",
      "30\n",
      "6\n",
      ".346\n"
     ]
    }
   ],
   "source": [
    "row = soup.find('tr', attrs={'class': 'oddrow player-10-33039'})\n",
    "\n",
    "print(row)\n",
    "for data in row.find_all('td'):\n",
    "    print (data.get_text())"
   ]
  },
  {
   "cell_type": "markdown",
   "metadata": {},
   "source": [
    "## creating a df"
   ]
  },
  {
   "cell_type": "code",
   "execution_count": 19,
   "metadata": {},
   "outputs": [],
   "source": [
    "header = soup.find('tr', attrs={'class': 'colhead'})\n",
    "columns = [col.get_text() for col in header.find_all('td')]"
   ]
  },
  {
   "cell_type": "code",
   "execution_count": 20,
   "metadata": {},
   "outputs": [
    {
     "data": {
      "text/html": [
       "<div>\n",
       "<style scoped>\n",
       "    .dataframe tbody tr th:only-of-type {\n",
       "        vertical-align: middle;\n",
       "    }\n",
       "\n",
       "    .dataframe tbody tr th {\n",
       "        vertical-align: top;\n",
       "    }\n",
       "\n",
       "    .dataframe thead th {\n",
       "        text-align: right;\n",
       "    }\n",
       "</style>\n",
       "<table border=\"1\" class=\"dataframe\">\n",
       "  <thead>\n",
       "    <tr style=\"text-align: right;\">\n",
       "      <th></th>\n",
       "      <th></th>\n",
       "      <th>PLAYER</th>\n",
       "      <th>YRS</th>\n",
       "      <th>G</th>\n",
       "      <th>AB</th>\n",
       "      <th>R</th>\n",
       "      <th>H</th>\n",
       "      <th>2B</th>\n",
       "      <th>3B</th>\n",
       "      <th>HR</th>\n",
       "      <th>RBI</th>\n",
       "      <th>BB</th>\n",
       "      <th>SO</th>\n",
       "      <th>SB</th>\n",
       "      <th>CS</th>\n",
       "      <th>BA</th>\n",
       "    </tr>\n",
       "  </thead>\n",
       "  <tbody>\n",
       "  </tbody>\n",
       "</table>\n",
       "</div>"
      ],
      "text/plain": [
       "Empty DataFrame\n",
       "Columns: [, PLAYER, YRS, G, AB, R, H, 2B, 3B, HR, RBI, BB, SO, SB, CS, BA]\n",
       "Index: []"
      ]
     },
     "execution_count": 20,
     "metadata": {},
     "output_type": "execute_result"
    }
   ],
   "source": [
    "final_df = pd.DataFrame(columns=columns)\n",
    "final_df"
   ]
  },
  {
   "cell_type": "code",
   "execution_count": 21,
   "metadata": {},
   "outputs": [],
   "source": [
    "import re\n",
    "\n",
    "players = soup.find_all('tr', attrs={'class':re.compile('row player-10-')})\n",
    "#print ( players )"
   ]
  },
  {
   "cell_type": "code",
   "execution_count": 22,
   "metadata": {},
   "outputs": [],
   "source": [
    "for player in players:\n",
    "    #print (player)\n",
    "    stats = [stat.get_text() for stat in player.find_all('td')]\n",
    "    tmp_df = pd.DataFrame(stats).transpose()\n",
    "    tmp_df.columns = columns\n",
    "    #print (stats)\n",
    "    final_df = pd.concat([final_df, tmp_df], ignore_index=True)\n",
    "    # we can do final_df.append(tmp_df, ignore_index = True)\n",
    "    \n",
    "    \n",
    "    "
   ]
  },
  {
   "cell_type": "code",
   "execution_count": 23,
   "metadata": {},
   "outputs": [
    {
     "name": "stdout",
     "output_type": "stream",
     "text": [
      "(50, 16)\n"
     ]
    },
    {
     "data": {
      "text/html": [
       "<div>\n",
       "<style scoped>\n",
       "    .dataframe tbody tr th:only-of-type {\n",
       "        vertical-align: middle;\n",
       "    }\n",
       "\n",
       "    .dataframe tbody tr th {\n",
       "        vertical-align: top;\n",
       "    }\n",
       "\n",
       "    .dataframe thead th {\n",
       "        text-align: right;\n",
       "    }\n",
       "</style>\n",
       "<table border=\"1\" class=\"dataframe\">\n",
       "  <thead>\n",
       "    <tr style=\"text-align: right;\">\n",
       "      <th></th>\n",
       "      <th></th>\n",
       "      <th>PLAYER</th>\n",
       "      <th>YRS</th>\n",
       "      <th>G</th>\n",
       "      <th>AB</th>\n",
       "      <th>R</th>\n",
       "      <th>H</th>\n",
       "      <th>2B</th>\n",
       "      <th>3B</th>\n",
       "      <th>HR</th>\n",
       "      <th>RBI</th>\n",
       "      <th>BB</th>\n",
       "      <th>SO</th>\n",
       "      <th>SB</th>\n",
       "      <th>CS</th>\n",
       "      <th>BA</th>\n",
       "    </tr>\n",
       "  </thead>\n",
       "  <tbody>\n",
       "    <tr>\n",
       "      <th>0</th>\n",
       "      <td>1</td>\n",
       "      <td>Mookie Betts</td>\n",
       "      <td>6</td>\n",
       "      <td>136</td>\n",
       "      <td>520</td>\n",
       "      <td>129</td>\n",
       "      <td>180</td>\n",
       "      <td>47</td>\n",
       "      <td>5</td>\n",
       "      <td>32</td>\n",
       "      <td>80</td>\n",
       "      <td>81</td>\n",
       "      <td>91</td>\n",
       "      <td>30</td>\n",
       "      <td>6</td>\n",
       "      <td>.346</td>\n",
       "    </tr>\n",
       "    <tr>\n",
       "      <th>1</th>\n",
       "      <td>2</td>\n",
       "      <td>J.D. Martinez</td>\n",
       "      <td>9</td>\n",
       "      <td>150</td>\n",
       "      <td>569</td>\n",
       "      <td>111</td>\n",
       "      <td>188</td>\n",
       "      <td>37</td>\n",
       "      <td>2</td>\n",
       "      <td>43</td>\n",
       "      <td>130</td>\n",
       "      <td>69</td>\n",
       "      <td>146</td>\n",
       "      <td>6</td>\n",
       "      <td>1</td>\n",
       "      <td>.330</td>\n",
       "    </tr>\n",
       "  </tbody>\n",
       "</table>\n",
       "</div>"
      ],
      "text/plain": [
       "             PLAYER YRS    G   AB    R    H  2B 3B  HR  RBI  BB   SO  SB CS  \\\n",
       "0  1   Mookie Betts   6  136  520  129  180  47  5  32   80  81   91  30  6   \n",
       "1  2  J.D. Martinez   9  150  569  111  188  37  2  43  130  69  146   6  1   \n",
       "\n",
       "     BA  \n",
       "0  .346  \n",
       "1  .330  "
      ]
     },
     "execution_count": 23,
     "metadata": {},
     "output_type": "execute_result"
    }
   ],
   "source": [
    "print (final_df.shape)\n",
    "final_df.head(2)"
   ]
  },
  {
   "cell_type": "markdown",
   "metadata": {},
   "source": [
    "### Scrapping info for all the 331 players"
   ]
  },
  {
   "cell_type": "code",
   "execution_count": 24,
   "metadata": {},
   "outputs": [
    {
     "name": "stdout",
     "output_type": "stream",
     "text": [
      "df.shape: (331, 16)\n"
     ]
    },
    {
     "data": {
      "text/html": [
       "<div>\n",
       "<style scoped>\n",
       "    .dataframe tbody tr th:only-of-type {\n",
       "        vertical-align: middle;\n",
       "    }\n",
       "\n",
       "    .dataframe tbody tr th {\n",
       "        vertical-align: top;\n",
       "    }\n",
       "\n",
       "    .dataframe thead th {\n",
       "        text-align: right;\n",
       "    }\n",
       "</style>\n",
       "<table border=\"1\" class=\"dataframe\">\n",
       "  <thead>\n",
       "    <tr style=\"text-align: right;\">\n",
       "      <th></th>\n",
       "      <th></th>\n",
       "      <th>PLAYER</th>\n",
       "      <th>YRS</th>\n",
       "      <th>G</th>\n",
       "      <th>AB</th>\n",
       "      <th>R</th>\n",
       "      <th>H</th>\n",
       "      <th>2B</th>\n",
       "      <th>3B</th>\n",
       "      <th>HR</th>\n",
       "      <th>RBI</th>\n",
       "      <th>BB</th>\n",
       "      <th>SO</th>\n",
       "      <th>SB</th>\n",
       "      <th>CS</th>\n",
       "      <th>BA</th>\n",
       "    </tr>\n",
       "  </thead>\n",
       "  <tbody>\n",
       "    <tr>\n",
       "      <th>0</th>\n",
       "      <td>1</td>\n",
       "      <td>Mookie Betts</td>\n",
       "      <td>6</td>\n",
       "      <td>136</td>\n",
       "      <td>520</td>\n",
       "      <td>129</td>\n",
       "      <td>180</td>\n",
       "      <td>47</td>\n",
       "      <td>5</td>\n",
       "      <td>32</td>\n",
       "      <td>80</td>\n",
       "      <td>81</td>\n",
       "      <td>91</td>\n",
       "      <td>30</td>\n",
       "      <td>6</td>\n",
       "      <td>.346</td>\n",
       "    </tr>\n",
       "    <tr>\n",
       "      <th>1</th>\n",
       "      <td>2</td>\n",
       "      <td>J.D. Martinez</td>\n",
       "      <td>9</td>\n",
       "      <td>150</td>\n",
       "      <td>569</td>\n",
       "      <td>111</td>\n",
       "      <td>188</td>\n",
       "      <td>37</td>\n",
       "      <td>2</td>\n",
       "      <td>43</td>\n",
       "      <td>130</td>\n",
       "      <td>69</td>\n",
       "      <td>146</td>\n",
       "      <td>6</td>\n",
       "      <td>1</td>\n",
       "      <td>.330</td>\n",
       "    </tr>\n",
       "  </tbody>\n",
       "</table>\n",
       "</div>"
      ],
      "text/plain": [
       "             PLAYER YRS    G   AB    R    H  2B 3B  HR  RBI  BB   SO  SB CS  \\\n",
       "0  1   Mookie Betts   6  136  520  129  180  47  5  32   80  81   91  30  6   \n",
       "1  2  J.D. Martinez   9  150  569  111  188  37  2  43  130  69  146   6  1   \n",
       "\n",
       "     BA  \n",
       "0  .346  \n",
       "1  .330  "
      ]
     },
     "metadata": {},
     "output_type": "display_data"
    }
   ],
   "source": [
    "def get_all_players():    \n",
    "    url_1='http://www.espn.com/mlb/history/leaders/_/breakdown/season/year/2018/start/1'\n",
    "    page = requests.get(url_1)\n",
    "    soup = BeautifulSoup(page.text, \"html.parser\")\n",
    "\n",
    "    header = soup.find('tr', attrs={'class': 'colhead'})\n",
    "    columns = [col.get_text() for col in header.find_all('td')]\n",
    "\n",
    "    df = pd.DataFrame(columns=columns)\n",
    "\n",
    "    for i in range(1, 331, 50):\n",
    "        url='http://www.espn.com/mlb/history/leaders/_/breakdown/season/year/2018/start/'+str(i)\n",
    "        page = requests.get(url)\n",
    "        soup = BeautifulSoup(page.text, \"html.parser\")\n",
    "\n",
    "        players = soup.find_all('tr', attrs={'class':re.compile('row player-10-')})\n",
    "\n",
    "        for player in players:\n",
    "            #print (player)\n",
    "            stats = [stat.get_text() for stat in player.find_all('td')]\n",
    "            tmp_df = pd.DataFrame(stats).transpose()\n",
    "            tmp_df.columns = columns\n",
    "            #print (stats)\n",
    "            df = pd.concat([df, tmp_df], ignore_index=True)\n",
    "            # we can do final_df.append(tmp_df, ignore_index = True)\n",
    "\n",
    "    return df\n",
    "\n",
    "df = get_all_players()\n",
    "\n",
    "print (f\"df.shape: {df.shape}\")\n",
    "\n",
    "display( df.head(2) )"
   ]
  },
  {
   "cell_type": "code",
   "execution_count": null,
   "metadata": {},
   "outputs": [],
   "source": []
  },
  {
   "cell_type": "code",
   "execution_count": null,
   "metadata": {},
   "outputs": [],
   "source": []
  },
  {
   "cell_type": "markdown",
   "metadata": {},
   "source": [
    "### Cricket data from Cricinfo"
   ]
  },
  {
   "cell_type": "code",
   "execution_count": 84,
   "metadata": {},
   "outputs": [],
   "source": [
    "#url = 'https://www.espncricinfo.com/series/19496/commentary/1198239/england-vs-australia-2nd-odi-england-v-australia-2020'\n",
    "url = 'https://www.espncricinfo.com/series/19496/commentary/1198240/england-vs-australia-3rd-odi-england-v-australia-2020'\n",
    "page = requests.get(url)\n",
    "soup = BeautifulSoup(page.text, \"html.parser\")\n"
   ]
  },
  {
   "cell_type": "code",
   "execution_count": 85,
   "metadata": {},
   "outputs": [
    {
     "data": {
      "text/plain": [
       "[<div class=\"description\">Sam Billings, Chris Woakes add half-centuries after hosts had slumped to 2 for 0 in first two balls</div>,\n",
       " <div class=\"description\">Australia will make a decision shortly before the start of the deciding match</div>,\n",
       " <div class=\"description\">England gunning to extend unbeaten home run in ODIs after thrilling fightback in second match</div>,\n",
       " <div class=\"description\">\"He has ticked every box at the moment,\" coach Justin Langer said</div>,\n",
       " <div class=\"description\">ECB redundancies overshadow final ODI as central contracts loom for England players</div>,\n",
       " <div class=\"description\">1:00</div>]"
      ]
     },
     "execution_count": 85,
     "metadata": {},
     "output_type": "execute_result"
    }
   ],
   "source": [
    "div = soup.find('div')\n",
    "#div.find('div', {'class': 'over-circle'})\n",
    "div.find_all('div', {'class': 'description'})\n",
    "#div.find('a')"
   ]
  },
  {
   "cell_type": "code",
   "execution_count": 121,
   "metadata": {},
   "outputs": [
    {
     "name": "stdout",
     "output_type": "stream",
     "text": [
      "DA Warner\n",
      "AJ Finch\n",
      "MP Stoinis\n",
      "M Labuschagne\n",
      "MR Marsh\n",
      "AT Carey\n",
      "GJ Maxwell\n",
      "PJ Cummins\n",
      "MA Starc\n",
      "A Zampa\n",
      "JR Hazlewood\n"
     ]
    }
   ],
   "source": [
    "for row in div.find_all('div')[400].find_all('div')[0].find_all('a'):\n",
    "    print (row.attrs['data-hover'])"
   ]
  },
  {
   "cell_type": "code",
   "execution_count": 136,
   "metadata": {},
   "outputs": [
    {
     "name": "stdout",
     "output_type": "stream",
     "text": [
      "412\n",
      "{'class': []}\n",
      "{}\n",
      "{}\n",
      "{'class': ['container', 'd-none', 'd-lg-block']}\n",
      "{'class': ['row']}\n",
      "{'class': ['col-16']}\n",
      "{'class': ['leagues-container']}\n",
      "{}\n"
     ]
    }
   ],
   "source": [
    "print ( len(div.find_all('div')) )\n",
    "for row in div.find_all('div')[:8]:\n",
    "    print (row.find('div').attrs)\n",
    "    #[400].find_all('div'):\n",
    "    #print (row)\n",
    "    #.find_all('a'):\n",
    "    #print (row.attrs['data-hover'])"
   ]
  },
  {
   "cell_type": "code",
   "execution_count": 77,
   "metadata": {},
   "outputs": [],
   "source": [
    "for div in soup('div', {'class': 'time-stamp'}):\n",
    "    # ball_data[div.find('div').attrs['class'][0]] = div.text.strip()\n",
    "    print ( div.text )"
   ]
  },
  {
   "cell_type": "code",
   "execution_count": null,
   "metadata": {},
   "outputs": [],
   "source": [
    "\n",
    "for div in innings_soup.findAll('div', {'class': 'time-stamp'}):\n",
    "    # ball_data[div.find('div').attrs['class'][0]] = div.text.strip()\n",
    "    ball_numbers.append(div.text)"
   ]
  },
  {
   "cell_type": "code",
   "execution_count": 40,
   "metadata": {},
   "outputs": [
    {
     "name": "stdout",
     "output_type": "stream",
     "text": [
      "['Player Name', 'R', 'B']\n",
      "['DA Warner', 'caught †', '6', '11']\n",
      "['AJ Finch', 'bowled', '73', '105']\n",
      "['MP Stoinis', 'caught †', '9', '14']\n",
      "['M Labuschagne', 'lbw', '48', '59']\n",
      "['MR Marsh', 'bowled', '1', '6']\n",
      "['AT Carey', 'stumped', '36', '41']\n",
      "['GJ Maxwell', 'bowled', '1', '8']\n",
      "['PJ Cummins', 'bowled', '11', '19']\n",
      "['MA Starc', 'caught †', '0', '1']\n",
      "['A Zampa', 'caught', '2', '19']\n",
      "['JR Hazlewood', 'not out', '7', '10']\n",
      "['Extras', '(lb 11, w 1, nb 1)']\n",
      "['Total', '207(all out; 48.4 ovs)']\n",
      "['Player Name', 'O', 'M', 'R', 'W', 'Econ']\n",
      "['CR Woakes', '10', '1', '32', '3', '3.20 ']\n",
      "['JC Archer', '10', '2', '34', '3', '3.40 ']\n",
      "['TK Curran', '10', '2', '28', '0', '2.80 ']\n",
      "['AU Rashid', '9.4', '0', '67', '1', '6.93 (1nb)']\n",
      "['SM Curran', '9', '0', '35', '3', '3.88 (1w)']\n",
      "['WKT', 'RUNS', 'Players']\n",
      "['1st', '9', 'AJ Finch', 'DA Warner']\n",
      "['2nd', '28', 'AJ Finch', 'MP Stoinis']\n",
      "['3rd', '107', 'AJ Finch', 'M Labuschagne']\n",
      "['4th', '1', 'AJ Finch', 'MR Marsh']\n",
      "['5th', '0', 'AJ Finch', 'AT Carey']\n",
      "['6th', '2', 'GJ Maxwell', 'AT Carey']\n",
      "['7th', '19', 'AT Carey', 'PJ Cummins']\n",
      "['8th', '0', 'MA Starc', 'AT Carey']\n",
      "['9th', '10', 'AT Carey', 'A Zampa']\n",
      "['10th', '31', 'JR Hazlewood', 'AT Carey']\n"
     ]
    }
   ],
   "source": [
    "#soup.find_all('tr')\n",
    "\n",
    "rows = soup.find_all('tr')\n",
    "\n",
    "for row in rows:\n",
    "    stats = [stat.get_text() for stat in row.find_all('td')]\n",
    "    print ( stats )\n",
    "#[d.get_text() for d in soup.find_all('tr')]\n",
    " \n",
    "#columns = [col.get_text() for col in header.find_all('td')]"
   ]
  },
  {
   "cell_type": "code",
   "execution_count": 30,
   "metadata": {},
   "outputs": [],
   "source": [
    "header"
   ]
  },
  {
   "cell_type": "code",
   "execution_count": 52,
   "metadata": {},
   "outputs": [],
   "source": [
    "x=['a','b','c']\n",
    "x1=[1,2,3]\n",
    "x2=[4,5,6]\n",
    "x3=[7,8,9]\n",
    "x4=[10,11,12]\n",
    "\n",
    "dff=pd.DataFrame([x1,x2,x3,x4], columns=x)"
   ]
  },
  {
   "cell_type": "code",
   "execution_count": 53,
   "metadata": {},
   "outputs": [
    {
     "data": {
      "text/html": [
       "<div>\n",
       "<style scoped>\n",
       "    .dataframe tbody tr th:only-of-type {\n",
       "        vertical-align: middle;\n",
       "    }\n",
       "\n",
       "    .dataframe tbody tr th {\n",
       "        vertical-align: top;\n",
       "    }\n",
       "\n",
       "    .dataframe thead th {\n",
       "        text-align: right;\n",
       "    }\n",
       "</style>\n",
       "<table border=\"1\" class=\"dataframe\">\n",
       "  <thead>\n",
       "    <tr style=\"text-align: right;\">\n",
       "      <th></th>\n",
       "      <th>a</th>\n",
       "      <th>b</th>\n",
       "      <th>c</th>\n",
       "    </tr>\n",
       "  </thead>\n",
       "  <tbody>\n",
       "    <tr>\n",
       "      <th>0</th>\n",
       "      <td>1</td>\n",
       "      <td>2</td>\n",
       "      <td>3</td>\n",
       "    </tr>\n",
       "    <tr>\n",
       "      <th>1</th>\n",
       "      <td>4</td>\n",
       "      <td>5</td>\n",
       "      <td>6</td>\n",
       "    </tr>\n",
       "    <tr>\n",
       "      <th>2</th>\n",
       "      <td>7</td>\n",
       "      <td>8</td>\n",
       "      <td>9</td>\n",
       "    </tr>\n",
       "    <tr>\n",
       "      <th>3</th>\n",
       "      <td>10</td>\n",
       "      <td>11</td>\n",
       "      <td>12</td>\n",
       "    </tr>\n",
       "  </tbody>\n",
       "</table>\n",
       "</div>"
      ],
      "text/plain": [
       "    a   b   c\n",
       "0   1   2   3\n",
       "1   4   5   6\n",
       "2   7   8   9\n",
       "3  10  11  12"
      ]
     },
     "execution_count": 53,
     "metadata": {},
     "output_type": "execute_result"
    }
   ],
   "source": [
    "dff"
   ]
  },
  {
   "cell_type": "code",
   "execution_count": 56,
   "metadata": {},
   "outputs": [],
   "source": [
    "dff.loc[4]=[13,14,15]"
   ]
  },
  {
   "cell_type": "code",
   "execution_count": 57,
   "metadata": {},
   "outputs": [
    {
     "data": {
      "text/html": [
       "<div>\n",
       "<style scoped>\n",
       "    .dataframe tbody tr th:only-of-type {\n",
       "        vertical-align: middle;\n",
       "    }\n",
       "\n",
       "    .dataframe tbody tr th {\n",
       "        vertical-align: top;\n",
       "    }\n",
       "\n",
       "    .dataframe thead th {\n",
       "        text-align: right;\n",
       "    }\n",
       "</style>\n",
       "<table border=\"1\" class=\"dataframe\">\n",
       "  <thead>\n",
       "    <tr style=\"text-align: right;\">\n",
       "      <th></th>\n",
       "      <th>a</th>\n",
       "      <th>b</th>\n",
       "      <th>c</th>\n",
       "    </tr>\n",
       "  </thead>\n",
       "  <tbody>\n",
       "    <tr>\n",
       "      <th>0</th>\n",
       "      <td>1</td>\n",
       "      <td>2</td>\n",
       "      <td>3</td>\n",
       "    </tr>\n",
       "    <tr>\n",
       "      <th>1</th>\n",
       "      <td>4</td>\n",
       "      <td>5</td>\n",
       "      <td>6</td>\n",
       "    </tr>\n",
       "    <tr>\n",
       "      <th>2</th>\n",
       "      <td>7</td>\n",
       "      <td>8</td>\n",
       "      <td>9</td>\n",
       "    </tr>\n",
       "    <tr>\n",
       "      <th>3</th>\n",
       "      <td>10</td>\n",
       "      <td>11</td>\n",
       "      <td>12</td>\n",
       "    </tr>\n",
       "    <tr>\n",
       "      <th>4</th>\n",
       "      <td>13</td>\n",
       "      <td>14</td>\n",
       "      <td>15</td>\n",
       "    </tr>\n",
       "  </tbody>\n",
       "</table>\n",
       "</div>"
      ],
      "text/plain": [
       "    a   b   c\n",
       "0   1   2   3\n",
       "1   4   5   6\n",
       "2   7   8   9\n",
       "3  10  11  12\n",
       "4  13  14  15"
      ]
     },
     "execution_count": 57,
     "metadata": {},
     "output_type": "execute_result"
    }
   ],
   "source": [
    "dff"
   ]
  },
  {
   "cell_type": "code",
   "execution_count": 69,
   "metadata": {},
   "outputs": [],
   "source": [
    "dft = pd.DataFrame(columns=['a','b','c'])"
   ]
  },
  {
   "cell_type": "code",
   "execution_count": 71,
   "metadata": {},
   "outputs": [
    {
     "data": {
      "text/plain": [
       "(Empty DataFrame\n",
       " Columns: [a, b, c]\n",
       " Index: [],\n",
       " Index([], dtype='object'))"
      ]
     },
     "execution_count": 71,
     "metadata": {},
     "output_type": "execute_result"
    }
   ],
   "source": [
    "dft, dft.index"
   ]
  },
  {
   "cell_type": "code",
   "execution_count": 74,
   "metadata": {},
   "outputs": [
    {
     "data": {
      "text/plain": [
       "0"
      ]
     },
     "execution_count": 74,
     "metadata": {},
     "output_type": "execute_result"
    }
   ],
   "source": [
    "len(dft.index)"
   ]
  },
  {
   "cell_type": "code",
   "execution_count": 64,
   "metadata": {},
   "outputs": [
    {
     "data": {
      "text/html": [
       "<div>\n",
       "<style scoped>\n",
       "    .dataframe tbody tr th:only-of-type {\n",
       "        vertical-align: middle;\n",
       "    }\n",
       "\n",
       "    .dataframe tbody tr th {\n",
       "        vertical-align: top;\n",
       "    }\n",
       "\n",
       "    .dataframe thead th {\n",
       "        text-align: right;\n",
       "    }\n",
       "</style>\n",
       "<table border=\"1\" class=\"dataframe\">\n",
       "  <thead>\n",
       "    <tr style=\"text-align: right;\">\n",
       "      <th></th>\n",
       "      <th>a</th>\n",
       "      <th>b</th>\n",
       "      <th>c</th>\n",
       "    </tr>\n",
       "  </thead>\n",
       "  <tbody>\n",
       "    <tr>\n",
       "      <th>0</th>\n",
       "      <td>0</td>\n",
       "      <td>1</td>\n",
       "      <td>2</td>\n",
       "    </tr>\n",
       "    <tr>\n",
       "      <th>1</th>\n",
       "      <td>3</td>\n",
       "      <td>4</td>\n",
       "      <td>5</td>\n",
       "    </tr>\n",
       "    <tr>\n",
       "      <th>2</th>\n",
       "      <td>6</td>\n",
       "      <td>7</td>\n",
       "      <td>8</td>\n",
       "    </tr>\n",
       "    <tr>\n",
       "      <th>3</th>\n",
       "      <td>9</td>\n",
       "      <td>10</td>\n",
       "      <td>11</td>\n",
       "    </tr>\n",
       "    <tr>\n",
       "      <th>4</th>\n",
       "      <td>12</td>\n",
       "      <td>13</td>\n",
       "      <td>14</td>\n",
       "    </tr>\n",
       "  </tbody>\n",
       "</table>\n",
       "</div>"
      ],
      "text/plain": [
       "    a   b   c\n",
       "0   0   1   2\n",
       "1   3   4   5\n",
       "2   6   7   8\n",
       "3   9  10  11\n",
       "4  12  13  14"
      ]
     },
     "execution_count": 64,
     "metadata": {},
     "output_type": "execute_result"
    }
   ],
   "source": [
    "dat = [0, 3,6,9,12]\n",
    "for i, d in enumerate(dat):\n",
    "    dft.loc[i] = range(dat[i], dat[i]+3) \n",
    "dft"
   ]
  },
  {
   "cell_type": "code",
   "execution_count": 62,
   "metadata": {},
   "outputs": [
    {
     "data": {
      "text/plain": [
       "[3, 4, 5]"
      ]
     },
     "execution_count": 62,
     "metadata": {},
     "output_type": "execute_result"
    }
   ],
   "source": [
    "[i for i in range(3,6)]"
   ]
  },
  {
   "cell_type": "code",
   "execution_count": 68,
   "metadata": {},
   "outputs": [
    {
     "data": {
      "text/plain": [
       "4"
      ]
     },
     "execution_count": 68,
     "metadata": {},
     "output_type": "execute_result"
    }
   ],
   "source": [
    "max(dft.index)"
   ]
  },
  {
   "cell_type": "code",
   "execution_count": 75,
   "metadata": {},
   "outputs": [
    {
     "data": {
      "text/html": [
       "<div>\n",
       "<style scoped>\n",
       "    .dataframe tbody tr th:only-of-type {\n",
       "        vertical-align: middle;\n",
       "    }\n",
       "\n",
       "    .dataframe tbody tr th {\n",
       "        vertical-align: top;\n",
       "    }\n",
       "\n",
       "    .dataframe thead th {\n",
       "        text-align: right;\n",
       "    }\n",
       "</style>\n",
       "<table border=\"1\" class=\"dataframe\">\n",
       "  <thead>\n",
       "    <tr style=\"text-align: right;\">\n",
       "      <th></th>\n",
       "      <th>a</th>\n",
       "      <th>b</th>\n",
       "      <th>c</th>\n",
       "    </tr>\n",
       "  </thead>\n",
       "  <tbody>\n",
       "    <tr>\n",
       "      <th>0</th>\n",
       "      <td>1</td>\n",
       "      <td>2</td>\n",
       "      <td>3</td>\n",
       "    </tr>\n",
       "    <tr>\n",
       "      <th>1</th>\n",
       "      <td>4</td>\n",
       "      <td>5</td>\n",
       "      <td>6</td>\n",
       "    </tr>\n",
       "  </tbody>\n",
       "</table>\n",
       "</div>"
      ],
      "text/plain": [
       "   a  b  c\n",
       "0  1  2  3\n",
       "1  4  5  6"
      ]
     },
     "execution_count": 75,
     "metadata": {},
     "output_type": "execute_result"
    }
   ],
   "source": [
    "def add_row(df, data):\n",
    "    if len(df.index)==0:\n",
    "        new_indx = 0\n",
    "    else:\n",
    "        new_indx = max(df.index)+1\n",
    "        \n",
    "    for i, row in enumerate(data):\n",
    "        df.loc[new_indx+i] = row\n",
    "        \n",
    "    return df\n",
    "\n",
    "dft = pd.DataFrame(columns=['a','b','c'])\n",
    "dat = [ [1,2,3], [4,5,6] ]\n",
    "df_new = add_row(dft, dat)\n",
    "df_new\n",
    "    "
   ]
  },
  {
   "cell_type": "code",
   "execution_count": 76,
   "metadata": {},
   "outputs": [
    {
     "data": {
      "text/html": [
       "<div>\n",
       "<style scoped>\n",
       "    .dataframe tbody tr th:only-of-type {\n",
       "        vertical-align: middle;\n",
       "    }\n",
       "\n",
       "    .dataframe tbody tr th {\n",
       "        vertical-align: top;\n",
       "    }\n",
       "\n",
       "    .dataframe thead th {\n",
       "        text-align: right;\n",
       "    }\n",
       "</style>\n",
       "<table border=\"1\" class=\"dataframe\">\n",
       "  <thead>\n",
       "    <tr style=\"text-align: right;\">\n",
       "      <th></th>\n",
       "      <th>a</th>\n",
       "      <th>b</th>\n",
       "      <th>c</th>\n",
       "    </tr>\n",
       "  </thead>\n",
       "  <tbody>\n",
       "    <tr>\n",
       "      <th>0</th>\n",
       "      <td>1</td>\n",
       "      <td>2</td>\n",
       "      <td>3</td>\n",
       "    </tr>\n",
       "    <tr>\n",
       "      <th>1</th>\n",
       "      <td>4</td>\n",
       "      <td>5</td>\n",
       "      <td>6</td>\n",
       "    </tr>\n",
       "    <tr>\n",
       "      <th>2</th>\n",
       "      <td>11</td>\n",
       "      <td>12</td>\n",
       "      <td>13</td>\n",
       "    </tr>\n",
       "    <tr>\n",
       "      <th>3</th>\n",
       "      <td>14</td>\n",
       "      <td>15</td>\n",
       "      <td>16</td>\n",
       "    </tr>\n",
       "  </tbody>\n",
       "</table>\n",
       "</div>"
      ],
      "text/plain": [
       "    a   b   c\n",
       "0   1   2   3\n",
       "1   4   5   6\n",
       "2  11  12  13\n",
       "3  14  15  16"
      ]
     },
     "execution_count": 76,
     "metadata": {},
     "output_type": "execute_result"
    }
   ],
   "source": [
    "dat = [ [11,12,13], [14,15,16] ]\n",
    "df_new = add_row(df_new, dat)\n",
    "\n",
    "df_new\n"
   ]
  },
  {
   "cell_type": "code",
   "execution_count": 168,
   "metadata": {},
   "outputs": [
    {
     "name": "stdout",
     "output_type": "stream",
     "text": [
      "9.30pm So, that's the end of that. And the end of that as well ... that being the bio-secure English summer. It's been a remarkable effort to get 18 fixtures up and running into the teeth of a pandemic, and the quality of the cricket has been remarkable in the circumstances. An absolute humdinger to close out the festivities. Thanks to all of you for joining us, and stay tuned for post-match reaction, with George Dobell cranking it up as we speak. From Miller, Danyal, Thilak and the team. Thanks and goodnight!Akhilesh: \"They didn't win this game, but what a season of cricket it has been for England! In tests, they've sorted out their opening and wicketkeeping issues and have got a bowling unit that's bowling with terrific rhythm. And in white-ball cricket, they continue to assert their dominance, winning from ridiculous positions and their bench strength is so formidable that 'every player in the 11 is replaceable' as Morgan rightly put it. We are truly witnessing the golden age of England cricket.\"Tasmeem: \"The perfect choice for both awards. Good on you, Maxi. Hopefully you continue to mature a bit more and hold your nerves till the end.\"Glenn Maxwell is Player of the Match, and of the Series \"It's a short boundary out there, we tried to target it, and take it deep. It was tempting, I tried most balls to go that way, but also pick my moments, get the right length, get it up in the air and I was confident it would travel. My technique doesn't look traditional but I feel calm at the crease, not so much moving around.\"Eoin Morgan: \"We were still in the game, when you break big partnerships and the ball is offering a bit, you're never out of the game. But Australia were too good for us today, starting in the first over, to post over 300 is a huge positive for us. Pegging Australia back, we were right in the game but Carey and Maxwell played outstandingly well.\"\"Small opportunities that we might have taken advantage of might have changed the game, but when you've been beaten  by a better side you have to put your hand up.\"Who knows what's next for England... \"sitting around and waiting until tours are confirmed.\" South Africa next, in theory. India at some stage, hopefully.Aaron Finch: \"An incredible game of cricket. When you've got Pat Cummins behind Maxwell [you're in trouble] but Maxi can counterattack and that partnership with Alex was outstanding. The work they've put in has paid off. There's not many bowlers can stop him when he's having one of his days.\"9.18pm Pranav: \"I think George Dobell wrote the article after the first game \"Australia will always be the benchmark for England\". Bang on! Whattta game!! \" He certainly did ... \"Ollie Pope has been diligently watching Surrey all evening, but has just gone inside to watch this finish on the TV,\" says Matt Roller, down at The Oval. So he's the bloke who moved on the balcony then!Patch: \"Fascinating series - not sure the better team won but we will take it. Consigning the collapse from game two to history books is a bad idea, as it doing exactly not that that has made Australia a World Cup powerhouse - two out of three isn't good enough if you want the trophy! Also a quick thanks to the Cricinfo team for covering this unusual English summer, it's helped me along during the lockdown restrictions of Melbourne winter. Cheers!\" You are very welcome, it's been lively! And a lot more fun than most late September ODIs in living memory!9.12pm Good lord, what a contest, what a series! Australia were dead and buried in that chase, but a stunning stand between Maxwell and Carey turns the tables.Centuries for both men, and though they both succumbed at the death, their tail held firm to secure a memorable triumph. The whole Aussie squad have bundled onto the pitch, scenes oddly reminiscent of West Indies' squad at The Oval in the Champions Trophy final in 2004... similar time of the year, autumn closing in, and odds overturned by the visitors. That meltdown in game two can be consigned to the history books ...Piyush: \"A bit too much of a gamble by Morgan. Always easier for a decent tailender to smack a spinner vs a tearaway fast bowler like Woods! Having said that, Australia have snatched victory from the jaws of defeat!\" True. Though Rashid's variations have done for many a tail. Superb strike from Starc settled the manner to be fair!Gautmas: \"73/5 everybody wrote Australia off considering they were facing the current WC champions at home. Little did they know they are up against 5 time WC champions\"49.44Rashid to Starc, FOUR runsswept, and nailed through backward square! Australia win the match, win the series, end England's unbeaten home run! Scenes!\n",
      "Samip Dahal: \"My heartbeat does not allow for a super over. I repeat. No super over please.....\"49.31Rashid to Cummins, 1 runback of a length, thumped hard to long-on, just the single. Two to get, three balls...The right-hander on strike. Time for some big legbreaks I sense...\n",
      "49.21Rashid to Starc, 1 runanother googly, clawed into the leg side, Bairstow is lurking at deep midwicket, and it's just as well he didn't make better contact... another run ticked off!\n",
      "49.16Rashid to Starc, SIX runsHigh and handsome! Archer's back on the rope at long on... but Starc has nailed the googly! Right in his slot, Rashid went for the wrong option there, and the new man was waiting for it!\n",
      "end of over 494 runs • 1 wicketAUS:  293/7CRR: 5.97 • RRR: 10.00 • Need 10 runs from 6bPat Cummins3 (4)Jofra Archer9-0-60-1Adil Rashid7-0-56-1And well, there you go, the wicket changes Morgan's mind. Two tailenders in the sights... it's going to be Rashid! Ten to defend. He can't, can he? It won't be, will it ...?48.6wArcher to Carey, OUTstunning catch at third man! Mark Wood! Tumbling forward, like a mirror image of Simon Jones at Edgbaston ... swooping low, as Archer banged in the short wide one! The umpires are taking a look to make sure, but that reaction was unequivocal! Dipping out of the lights, amazing athleticism, stretching to the pitch, and suddenly, the key man is gone, and perhaps as importantly, it's another dot!AT Carey c Wood b Archer 106 (168m 114b 7x4 2x6) SR: 92.98\n",
      "48.61wArcher to Carey, 1 widethat one is a wide though! Tried for the same ball, but just the wrong side of reachable. Good option though ... I wonder if he'll try it again...\n",
      "48.5•Archer to Carey, no runwell bowled, Carey made room, Archer dangled it just inside the tramline, and he can't make contact! Precious dot!\n"
     ]
    }
   ],
   "source": [
    "def scrapCommentary():\n",
    "    \n",
    "    url = 'https://www.espncricinfo.com/series/19496/commentary/1198240/england-vs-australia-3rd-odi-england-v-australia-2020'\n",
    "    page = requests.get(url)\n",
    "    soup = BeautifulSoup(page.text, \"html.parser\")\n",
    "    \n",
    "    # Find all the comments \n",
    "    #com = soup.find('div', attrs={'class': 'match-comment'})  # find_all will give you 7\n",
    "    #print (com.find('div', attrs={'class': 'match-comment-long-text'}))\n",
    "    \n",
    "    com_wkt_all = soup.find_all('div', attrs={'class': 'match-comment'})\n",
    "    \n",
    "    for com_wkt in com_wkt_all:\n",
    "        print (com_wkt.text)\n",
    "        \n",
    "        \n",
    "    ##<div itemprop=\"articleBody\" class=\"match-comment-long-text\"><span><strong>that one is a wide though!</strong> Tried for the same ball, but just the wrong side of reachable. Good option though ... I wonder if he'll try it again...</span></div>\n",
    "    \n",
    "scrapCommentary()\n"
   ]
  },
  {
   "cell_type": "code",
   "execution_count": null,
   "metadata": {},
   "outputs": [],
   "source": []
  }
 ],
 "metadata": {
  "kernelspec": {
   "display_name": "Python 3",
   "language": "python",
   "name": "python3"
  },
  "language_info": {
   "codemirror_mode": {
    "name": "ipython",
    "version": 3
   },
   "file_extension": ".py",
   "mimetype": "text/x-python",
   "name": "python",
   "nbconvert_exporter": "python",
   "pygments_lexer": "ipython3",
   "version": "3.8.4"
  }
 },
 "nbformat": 4,
 "nbformat_minor": 4
}
