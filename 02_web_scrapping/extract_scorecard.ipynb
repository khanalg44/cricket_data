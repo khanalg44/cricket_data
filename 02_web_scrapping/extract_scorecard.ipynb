{
 "cells": [
  {
   "cell_type": "markdown",
   "id": "c936816a",
   "metadata": {},
   "source": [
    "## Web Scraping from cricinfo\n",
    "\n",
    "- https://medium.com/swlh/web-scraping-cricinfo-data-c134fce79a33"
   ]
  },
  {
   "cell_type": "code",
   "execution_count": 4,
   "id": "a9b854f6",
   "metadata": {},
   "outputs": [],
   "source": [
    "import requests\n",
    "from bs4 import BeautifulSoup\n",
    "import pandas as pd\n",
    "import re\n",
    "import numpy as np"
   ]
  },
  {
   "cell_type": "code",
   "execution_count": 53,
   "id": "5cc3fe07",
   "metadata": {},
   "outputs": [],
   "source": [
    "def extract_batting_data(series_id, match_id):\n",
    "\n",
    "    URL = 'https://www.espncricinfo.com/series/'+ str(series_id) + '/scorecard/' + str(match_id)\n",
    "    print (URL)\n",
    "    page = requests.get(URL)\n",
    "    bs = BeautifulSoup(page.content, 'lxml')\n",
    "\n",
    "    table_body=bs.find_all('tbody')\n",
    "    batsmen_df = pd.DataFrame(columns=[\"Name\",\"Desc\",\"Runs\", \"Balls\", \"4s\", \"6s\", \"SR\", \"Team\"])\n",
    "    for i, table in enumerate(table_body[0:4:2]):\n",
    "        rows = table.find_all('tr')\n",
    "        for row in rows[::2]:\n",
    "            cols=row.find_all('td')\n",
    "            cols=[x.text.strip() for x in cols]\n",
    "            if cols[0] == 'Extras':\n",
    "                continue\n",
    "            if len(cols) > 7:\n",
    "                batsmen_df = batsmen_df.append(pd.Series(\n",
    "                [re.sub(r\"\\W+\", ' ', cols[0].split(\"(c)\")[0]).strip(), cols[1], \n",
    "                cols[2], cols[3], cols[5], cols[6], cols[7], i+1], \n",
    "                index=batsmen_df.columns ), ignore_index=True)\n",
    "            else:\n",
    "                batsmen_df = batsmen_df.append(pd.Series(\n",
    "                [re.sub(r\"\\W+\", ' ', cols[0].split(\"(c)\")[0]).strip(), cols[1], \n",
    "                0, 0, 0, 0, 0, i+1], index = batsmen_df.columns), ignore_index=True)\n",
    "                    \n",
    "    for i in range(2):\n",
    "        dnb_row = bs.find_all(\"tfoot\")[i].find_all(\"div\")\n",
    "        for c in dnb_row:\n",
    "            dnb_cols = c.find_all('span')\n",
    "            dnb = [x.text.strip().split(\"(c)\")[0] for x in dnb_cols]\n",
    "            dnb = filter(lambda item: item, [re.sub(r\"\\W+\", ' ', x).strip() for x in dnb])\n",
    "            for dnb_batsman in dnb:\n",
    "                batsmen_df = batsmen_df.append(pd.Series([dnb_batsman, \"DNB\", 0, 0, 0, 0, 0, i+1], index = batsmen_df.columns), ignore_index =True)\n",
    "\n",
    "    return batsmen_df"
   ]
  },
  {
   "cell_type": "code",
   "execution_count": 55,
   "id": "79e3925a",
   "metadata": {},
   "outputs": [
    {
     "name": "stdout",
     "output_type": "stream",
     "text": [
      "https://www.espncricinfo.com/series/8048/scorecard/1136561\n"
     ]
    },
    {
     "data": {
      "text/html": [
       "<div>\n",
       "<style scoped>\n",
       "    .dataframe tbody tr th:only-of-type {\n",
       "        vertical-align: middle;\n",
       "    }\n",
       "\n",
       "    .dataframe tbody tr th {\n",
       "        vertical-align: top;\n",
       "    }\n",
       "\n",
       "    .dataframe thead th {\n",
       "        text-align: right;\n",
       "    }\n",
       "</style>\n",
       "<table border=\"1\" class=\"dataframe\">\n",
       "  <thead>\n",
       "    <tr style=\"text-align: right;\">\n",
       "      <th></th>\n",
       "      <th>Name</th>\n",
       "      <th>Desc</th>\n",
       "      <th>Runs</th>\n",
       "      <th>Balls</th>\n",
       "      <th>4s</th>\n",
       "      <th>6s</th>\n",
       "      <th>SR</th>\n",
       "      <th>Team</th>\n",
       "    </tr>\n",
       "  </thead>\n",
       "  <tbody>\n",
       "    <tr>\n",
       "      <th>0</th>\n",
       "      <td>Rohit Sharma</td>\n",
       "      <td>c Rayudu b Watson</td>\n",
       "      <td>15</td>\n",
       "      <td>18</td>\n",
       "      <td>1</td>\n",
       "      <td>1</td>\n",
       "      <td>83.33</td>\n",
       "      <td>1</td>\n",
       "    </tr>\n",
       "    <tr>\n",
       "      <th>1</th>\n",
       "      <td>Evin Lewis</td>\n",
       "      <td>lbw b Chahar</td>\n",
       "      <td>0</td>\n",
       "      <td>2</td>\n",
       "      <td>0</td>\n",
       "      <td>0</td>\n",
       "      <td>0.00</td>\n",
       "      <td>1</td>\n",
       "    </tr>\n",
       "  </tbody>\n",
       "</table>\n",
       "</div>"
      ],
      "text/plain": [
       "           Name               Desc Runs Balls 4s 6s     SR Team\n",
       "0  Rohit Sharma  c Rayudu b Watson   15    18  1  1  83.33    1\n",
       "1    Evin Lewis       lbw b Chahar    0     2  0  0   0.00    1"
      ]
     },
     "execution_count": 55,
     "metadata": {},
     "output_type": "execute_result"
    }
   ],
   "source": [
    "dff = extract_batting_data(series_id = 8048, match_id = 1136561)\n",
    "dff.head(2)"
   ]
  },
  {
   "cell_type": "code",
   "execution_count": 54,
   "id": "8ac6d174",
   "metadata": {},
   "outputs": [],
   "source": [
    "def extract_bowling_data(series_id, match_id):\n",
    "\n",
    "    URL = 'https://www.espncricinfo.com/series/'+ str(series_id) + '/scorecard/' + str(match_id)\n",
    "    page = requests.get(URL)\n",
    "    bs = BeautifulSoup(page.content, 'lxml')\n",
    "\n",
    "    table_body=bs.find_all('tbody')\n",
    "    bowler_df = pd.DataFrame(columns=['Name', 'Overs', 'Maidens', 'Runs', 'Wickets',\n",
    "                                      'Econ', 'Dots', '4s', '6s', 'Wd', 'Nb','Team'])\n",
    "    for i, table in enumerate(table_body[1:4:2]):\n",
    "        rows = table.find_all('tr')\n",
    "        for row in rows:\n",
    "            cols=row.find_all('td')\n",
    "            cols=[x.text.strip() for x in cols]\n",
    "            bowler_df = bowler_df.append(pd.Series([cols[0], cols[1], cols[2], cols[3], cols[4], cols[5], \n",
    "                                                    cols[6], cols[7], cols[8], cols[9], cols[10], (i==0)+1], \n",
    "                                                   index=bowler_df.columns ), ignore_index=True)\n",
    "    return bowler_df\n",
    "    "
   ]
  },
  {
   "cell_type": "code",
   "execution_count": 56,
   "id": "5580a615",
   "metadata": {},
   "outputs": [
    {
     "data": {
      "text/html": [
       "<div>\n",
       "<style scoped>\n",
       "    .dataframe tbody tr th:only-of-type {\n",
       "        vertical-align: middle;\n",
       "    }\n",
       "\n",
       "    .dataframe tbody tr th {\n",
       "        vertical-align: top;\n",
       "    }\n",
       "\n",
       "    .dataframe thead th {\n",
       "        text-align: right;\n",
       "    }\n",
       "</style>\n",
       "<table border=\"1\" class=\"dataframe\">\n",
       "  <thead>\n",
       "    <tr style=\"text-align: right;\">\n",
       "      <th></th>\n",
       "      <th>Name</th>\n",
       "      <th>Overs</th>\n",
       "      <th>Maidens</th>\n",
       "      <th>Runs</th>\n",
       "      <th>Wickets</th>\n",
       "      <th>Econ</th>\n",
       "      <th>Dots</th>\n",
       "      <th>4s</th>\n",
       "      <th>6s</th>\n",
       "      <th>Wd</th>\n",
       "      <th>Nb</th>\n",
       "      <th>Team</th>\n",
       "    </tr>\n",
       "  </thead>\n",
       "  <tbody>\n",
       "    <tr>\n",
       "      <th>0</th>\n",
       "      <td>Deepak Chahar</td>\n",
       "      <td>3</td>\n",
       "      <td>0</td>\n",
       "      <td>14</td>\n",
       "      <td>1</td>\n",
       "      <td>4.66</td>\n",
       "      <td>12</td>\n",
       "      <td>2</td>\n",
       "      <td>0</td>\n",
       "      <td>0</td>\n",
       "      <td>0</td>\n",
       "      <td>2</td>\n",
       "    </tr>\n",
       "    <tr>\n",
       "      <th>1</th>\n",
       "      <td>Shane Watson</td>\n",
       "      <td>4</td>\n",
       "      <td>0</td>\n",
       "      <td>29</td>\n",
       "      <td>2</td>\n",
       "      <td>7.25</td>\n",
       "      <td>12</td>\n",
       "      <td>1</td>\n",
       "      <td>2</td>\n",
       "      <td>1</td>\n",
       "      <td>0</td>\n",
       "      <td>2</td>\n",
       "    </tr>\n",
       "  </tbody>\n",
       "</table>\n",
       "</div>"
      ],
      "text/plain": [
       "            Name Overs Maidens Runs Wickets  Econ Dots 4s 6s Wd Nb Team\n",
       "0  Deepak Chahar     3       0   14       1  4.66   12  2  0  0  0    2\n",
       "1   Shane Watson     4       0   29       2  7.25   12  1  2  1  0    2"
      ]
     },
     "execution_count": 56,
     "metadata": {},
     "output_type": "execute_result"
    }
   ],
   "source": [
    "dff = extract_bowling_data(series_id = 8048, match_id = 1136561)\n",
    "dff.head(2)"
   ]
  },
  {
   "cell_type": "code",
   "execution_count": null,
   "id": "635d4b80",
   "metadata": {},
   "outputs": [],
   "source": [
    "series_id = 8048;\n",
    "match_id = 1136561\n",
    "URL = 'https://www.espncricinfo.com/series/'+ str(series_id) + '/scorecard/' + str(match_id)\n",
    "page = requests.get(URL)\n",
    "soup = BeautifulSoup(page.content, 'lxml')"
   ]
  },
  {
   "cell_type": "code",
   "execution_count": 23,
   "id": "2da39b12",
   "metadata": {},
   "outputs": [],
   "source": [
    "table_body=soup.find_all('tbody')"
   ]
  },
  {
   "cell_type": "code",
   "execution_count": 24,
   "id": "31eab772",
   "metadata": {},
   "outputs": [
    {
     "data": {
      "text/plain": [
       "9"
      ]
     },
     "execution_count": 24,
     "metadata": {},
     "output_type": "execute_result"
    }
   ],
   "source": [
    "len(table_body)"
   ]
  },
  {
   "cell_type": "code",
   "execution_count": 25,
   "id": "c3c21c6e",
   "metadata": {},
   "outputs": [
    {
     "data": {
      "text/plain": [
       "[<tbody><tr><td class=\"batsman-cell text-truncate out\"><a class=\"small\" data-hover=\"\" href=\"/player/rohit-sharma-34102\" rel=\"\" target=\"_self\" title=\"View full profile of Rohit Sharma\">Rohit Sharma<!-- --> <span>(c)</span></a></td><td class=\"text-left\"><span class=\"cursor-pointer\"><i class=\"espn-icon icon-caret-sm2-down-after icon-sm text-danger font-weight-bold small pr-1\" id=\"caret-0\"></i>c Rayudu b Watson</span></td><td class=\"font-weight-bold\">15</td><td>18</td><td style=\"display:none\">-</td><td>1</td><td>1</td><td>83.33</td></tr><tr><td class=\"p-0 border-0 d-none out\" colspan=\"9\"></td></tr><tr><td class=\"batsman-cell text-truncate out\"><a class=\"small\" data-hover=\"\" href=\"/player/evin-lewis-431901\" rel=\"\" target=\"_self\" title=\"View full profile of Evin Lewis\">Evin Lewis<!-- --> </a></td><td class=\"text-left\"><span class=\"cursor-pointer\"><i class=\"espn-icon icon-caret-sm2-down-after icon-sm text-danger font-weight-bold small pr-1\" id=\"caret-1\"></i>lbw b Chahar</span></td><td class=\"font-weight-bold\">0</td><td>2</td><td style=\"display:none\">-</td><td>0</td><td>0</td><td>0.00</td></tr><tr><td class=\"p-0 border-0 d-none out\" colspan=\"9\"></td></tr><tr><td class=\"batsman-cell text-truncate out\"><a class=\"small\" data-hover=\"\" href=\"/player/ishan-kishan-720471\" rel=\"\" target=\"_self\" title=\"View full profile of Ishan Kishan\">Ishan Kishan<!-- --> <span>†</span></a></td><td class=\"text-left\"><span class=\"cursor-pointer\"><i class=\"espn-icon icon-caret-sm2-down-after icon-sm text-danger font-weight-bold small pr-1\" id=\"caret-2\"></i>c Wood b Imran Tahir</span></td><td class=\"font-weight-bold\">40</td><td>29</td><td style=\"display:none\">-</td><td>4</td><td>1</td><td>137.93</td></tr><tr><td class=\"p-0 border-0 d-none out\" colspan=\"9\"></td></tr><tr><td class=\"batsman-cell text-truncate out\"><a class=\"small\" data-hover=\"\" href=\"/player/suryakumar-yadav-446507\" rel=\"\" target=\"_self\" title=\"View full profile of Suryakumar Yadav\">Suryakumar Yadav<!-- --> </a></td><td class=\"text-left\"><span class=\"cursor-pointer\"><i class=\"espn-icon icon-caret-sm2-down-after icon-sm text-danger font-weight-bold small pr-1\" id=\"caret-3\"></i>c Harbhajan Singh b Watson</span></td><td class=\"font-weight-bold\">43</td><td>29</td><td style=\"display:none\">-</td><td>6</td><td>1</td><td>148.27</td></tr><tr><td class=\"p-0 border-0 d-none out\" colspan=\"9\"></td></tr><tr><td class=\"batsman-cell text-truncate not-out\"><a class=\"small\" data-hover=\"\" href=\"/player/hardik-pandya-625371\" rel=\"\" target=\"_self\" title=\"View full profile of Hardik Pandya\">Hardik Pandya<!-- --> </a></td><td class=\"text-left\">not out </td><td class=\"font-weight-bold\">22</td><td>20</td><td style=\"display:none\">-</td><td>2</td><td>0</td><td>110.00</td></tr><tr><td class=\"p-0 border-0 d-none not-out\" colspan=\"9\"></td></tr><tr><td class=\"batsman-cell text-truncate not-out\"><a class=\"small\" data-hover=\"\" href=\"/player/krunal-pandya-471342\" rel=\"\" target=\"_self\" title=\"View full profile of Krunal Pandya\">Krunal Pandya<!-- --> </a></td><td class=\"text-left\">not out </td><td class=\"font-weight-bold\">41</td><td>22</td><td style=\"display:none\">-</td><td>5</td><td>2</td><td>186.36</td></tr><tr><td class=\"p-0 border-0 d-none not-out\" colspan=\"9\"></td></tr><tr class=\"extras\"><td colspan=\"1\">Extras</td><td class=\"text-left\">(lb 2, w 2)</td><td class=\"text-right font-weight-bold\" colspan=\"1\">4</td><td class=\"text-right\" colspan=\"7\"></td></tr></tbody>,\n",
       " <tbody><tr><td class=\"batsman-cell text-truncate out\"><a class=\"small\" data-hover=\"\" href=\"/player/shane-watson-8180\" rel=\"\" target=\"_self\" title=\"View full profile of Shane Watson\">Shane Watson<!-- --> </a></td><td class=\"text-left\"><span class=\"cursor-pointer\"><i class=\"espn-icon icon-caret-sm2-down-after icon-sm text-danger font-weight-bold small pr-1\" id=\"caret-0\"></i>c Lewis b HH Pandya</span></td><td class=\"font-weight-bold\">16</td><td>14</td><td style=\"display:none\">-</td><td>1</td><td>1</td><td>114.28</td></tr><tr><td class=\"p-0 border-0 d-none out\" colspan=\"9\"></td></tr><tr><td class=\"batsman-cell text-truncate out\"><a class=\"small\" data-hover=\"\" href=\"/player/ambati-rayudu-33141\" rel=\"\" target=\"_self\" title=\"View full profile of Ambati Rayudu\">Ambati Rayudu<!-- --> </a></td><td class=\"text-left\"><span class=\"cursor-pointer\"><i class=\"espn-icon icon-caret-sm2-down-after icon-sm text-danger font-weight-bold small pr-1\" id=\"caret-1\"></i>lbw b Markande</span></td><td class=\"font-weight-bold\">22</td><td>19</td><td style=\"display:none\">-</td><td>4</td><td>0</td><td>115.78</td></tr><tr><td class=\"p-0 border-0 d-none out\" colspan=\"9\"></td></tr><tr><td class=\"batsman-cell text-truncate out\"><a class=\"small\" data-hover=\"\" href=\"/player/suresh-raina-33335\" rel=\"\" target=\"_self\" title=\"View full profile of Suresh Raina\">Suresh Raina<!-- --> </a></td><td class=\"text-left\"><span class=\"cursor-pointer\"><i class=\"espn-icon icon-caret-sm2-down-after icon-sm text-danger font-weight-bold small pr-1\" id=\"caret-2\"></i>c KH Pandya b HH Pandya</span></td><td class=\"font-weight-bold\">4</td><td>6</td><td style=\"display:none\">-</td><td>0</td><td>0</td><td>66.66</td></tr><tr><td class=\"p-0 border-0 d-none out\" colspan=\"9\"></td></tr><tr><td class=\"batsman-cell text-truncate not-out\"><a class=\"small\" data-hover=\"\" href=\"/player/kedar-jadhav-290716\" rel=\"\" target=\"_self\" title=\"View full profile of Kedar Jadhav\">Kedar Jadhav<!-- --> </a></td><td class=\"text-left\">not out </td><td class=\"font-weight-bold\">24</td><td>22</td><td style=\"display:none\">-</td><td>1</td><td>2</td><td>109.09</td></tr><tr><td class=\"p-0 border-0 d-none not-out\" colspan=\"9\"></td></tr><tr><td class=\"batsman-cell text-truncate out\"><a class=\"small\" data-hover=\"\" href=\"/player/ms-dhoni-28081\" rel=\"\" target=\"_self\" title=\"View full profile of MS Dhoni\">MS Dhoni<!-- --> <span>(c)†</span></a></td><td class=\"text-left\"><span class=\"cursor-pointer\"><i class=\"espn-icon icon-caret-sm2-down-after icon-sm text-danger font-weight-bold small pr-1\" id=\"caret-4\"></i>lbw b Markande</span></td><td class=\"font-weight-bold\">5</td><td>5</td><td style=\"display:none\">-</td><td>0</td><td>0</td><td>100.00</td></tr><tr><td class=\"p-0 border-0 d-none out\" colspan=\"9\"></td></tr><tr><td class=\"batsman-cell text-truncate out\"><a class=\"small\" data-hover=\"\" href=\"/player/ravindra-jadeja-234675\" rel=\"\" target=\"_self\" title=\"View full profile of Ravindra Jadeja\">Ravindra Jadeja<!-- --> </a></td><td class=\"text-left\"><span class=\"cursor-pointer\"><i class=\"espn-icon icon-caret-sm2-down-after icon-sm text-danger font-weight-bold small pr-1\" id=\"caret-5\"></i>c Yadav b Mustafizur Rahman</span></td><td class=\"font-weight-bold\">12</td><td>13</td><td style=\"display:none\">-</td><td>1</td><td>0</td><td>92.30</td></tr><tr><td class=\"p-0 border-0 d-none out\" colspan=\"9\"></td></tr><tr><td class=\"batsman-cell text-truncate out\"><a class=\"small\" data-hover=\"\" href=\"/player/dwayne-bravo-51439\" rel=\"\" target=\"_self\" title=\"View full profile of Dwayne Bravo\">Dwayne Bravo<!-- --> </a></td><td class=\"text-left\"><span class=\"cursor-pointer\"><i class=\"espn-icon icon-caret-sm2-down-after icon-sm text-danger font-weight-bold small pr-1\" id=\"caret-6\"></i>c Sharma b Bumrah</span></td><td class=\"font-weight-bold\">68</td><td>30</td><td style=\"display:none\">-</td><td>3</td><td>7</td><td>226.66</td></tr><tr><td class=\"p-0 border-0 d-none out\" colspan=\"9\"></td></tr><tr><td class=\"batsman-cell text-truncate out\"><a class=\"small\" data-hover=\"\" href=\"/player/deepak-chahar-447261\" rel=\"\" target=\"_self\" title=\"View full profile of Deepak Chahar\">Deepak Chahar<!-- --> </a></td><td class=\"text-left\"><span class=\"cursor-pointer\"><i class=\"espn-icon icon-caret-sm2-down-after icon-sm text-danger font-weight-bold small pr-1\" id=\"caret-7\"></i>st †Ishan Kishan b Markande</span></td><td class=\"font-weight-bold\">0</td><td>1</td><td style=\"display:none\">-</td><td>0</td><td>0</td><td>0.00</td></tr><tr><td class=\"p-0 border-0 d-none out\" colspan=\"9\"></td></tr><tr><td class=\"batsman-cell text-truncate out\"><a class=\"small\" data-hover=\"\" href=\"/player/harbhajan-singh-29264\" rel=\"\" target=\"_self\" title=\"View full profile of Harbhajan Singh\">Harbhajan Singh<!-- --> </a></td><td class=\"text-left\"><span class=\"cursor-pointer\"><i class=\"espn-icon icon-caret-sm2-down-after icon-sm text-danger font-weight-bold small pr-1\" id=\"caret-8\"></i>c Bumrah b McClenaghan</span></td><td class=\"font-weight-bold\">8</td><td>5</td><td style=\"display:none\">-</td><td>1</td><td>0</td><td>160.00</td></tr><tr><td class=\"p-0 border-0 d-none out\" colspan=\"9\"></td></tr><tr><td class=\"batsman-cell text-truncate out\"><a class=\"small\" data-hover=\"\" href=\"/player/mark-wood-351588\" rel=\"\" target=\"_self\" title=\"View full profile of Mark Wood\">Mark Wood<!-- --> </a></td><td class=\"text-left\"><span class=\"cursor-pointer\"><i class=\"espn-icon icon-caret-sm2-down-after icon-sm text-danger font-weight-bold small pr-1\" id=\"caret-9\"></i>c Mustafizur Rahman b HH Pandya</span></td><td class=\"font-weight-bold\">1</td><td>3</td><td style=\"display:none\">-</td><td>0</td><td>0</td><td>33.33</td></tr><tr><td class=\"p-0 border-0 d-none out\" colspan=\"9\"></td></tr><tr><td class=\"batsman-cell text-truncate not-out\"><a class=\"small\" data-hover=\"\" href=\"/player/imran-tahir-40618\" rel=\"\" target=\"_self\" title=\"View full profile of Imran Tahir\">Imran Tahir<!-- --> </a></td><td class=\"text-left\">not out </td><td class=\"font-weight-bold\">2</td><td>2</td><td style=\"display:none\">-</td><td>0</td><td>0</td><td>100.00</td></tr><tr><td class=\"p-0 border-0 d-none not-out\" colspan=\"9\"></td></tr><tr class=\"extras\"><td colspan=\"1\">Extras</td><td class=\"text-left\">(lb 2, nb 1, w 4)</td><td class=\"text-right font-weight-bold\" colspan=\"1\">7</td><td class=\"text-right\" colspan=\"7\"></td></tr></tbody>]"
      ]
     },
     "execution_count": 25,
     "metadata": {},
     "output_type": "execute_result"
    }
   ],
   "source": [
    "table_body[0:4:2]"
   ]
  },
  {
   "cell_type": "code",
   "execution_count": null,
   "id": "15730f6b",
   "metadata": {},
   "outputs": [],
   "source": []
  },
  {
   "cell_type": "code",
   "execution_count": 27,
   "id": "0826b6e3",
   "metadata": {},
   "outputs": [],
   "source": [
    "table = table_body[0]\n",
    "rows = table.find_all('tr')"
   ]
  },
  {
   "cell_type": "code",
   "execution_count": 51,
   "id": "e61915ff",
   "metadata": {},
   "outputs": [
    {
     "data": {
      "text/plain": [
       "<a class=\"small\" data-hover=\"\" href=\"/player/ishan-kishan-720471\" rel=\"\" target=\"_self\" title=\"View full profile of Ishan Kishan\">Ishan Kishan<!-- --> <span>†</span></a>"
      ]
     },
     "execution_count": 51,
     "metadata": {},
     "output_type": "execute_result"
    }
   ],
   "source": [
    "rows[4].find_all('td')[0].find_all('a')[0]"
   ]
  },
  {
   "cell_type": "code",
   "execution_count": 28,
   "id": "30ebe10a",
   "metadata": {},
   "outputs": [
    {
     "data": {
      "text/plain": [
       "13"
      ]
     },
     "execution_count": 28,
     "metadata": {},
     "output_type": "execute_result"
    }
   ],
   "source": [
    "\n",
    "#link = a_38['href']"
   ]
  },
  {
   "cell_type": "code",
   "execution_count": 19,
   "id": "b21e2d75",
   "metadata": {},
   "outputs": [],
   "source": [
    "match_body=soup.find_all('match-body')"
   ]
  },
  {
   "cell_type": "code",
   "execution_count": 21,
   "id": "80bca8e4",
   "metadata": {},
   "outputs": [
    {
     "data": {
      "text/plain": [
       "[]"
      ]
     },
     "execution_count": 21,
     "metadata": {},
     "output_type": "execute_result"
    }
   ],
   "source": [
    "teams = soup.find_all('teams')\n",
    "teams"
   ]
  },
  {
   "cell_type": "code",
   "execution_count": null,
   "id": "9aed4d45",
   "metadata": {},
   "outputs": [],
   "source": []
  }
 ],
 "metadata": {
  "kernelspec": {
   "display_name": "Python 3",
   "language": "python",
   "name": "python3"
  },
  "language_info": {
   "codemirror_mode": {
    "name": "ipython",
    "version": 3
   },
   "file_extension": ".py",
   "mimetype": "text/x-python",
   "name": "python",
   "nbconvert_exporter": "python",
   "pygments_lexer": "ipython3",
   "version": "3.9.5"
  }
 },
 "nbformat": 4,
 "nbformat_minor": 5
}
