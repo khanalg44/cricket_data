{
 "cells": [
  {
   "cell_type": "markdown",
   "metadata": {},
   "source": [
    "# Analysis of the Batting scores on t20 Cricket results"
   ]
  },
  {
   "cell_type": "markdown",
   "metadata": {},
   "source": [
    "# 1. Data Extraction  \n",
    "\n",
    "## Load some random file and display the data"
   ]
  },
  {
   "cell_type": "code",
   "execution_count": 2,
   "metadata": {},
   "outputs": [],
   "source": [
    "import numpy as np\n",
    "import matplotlib.pyplot as plt\n",
    "import pandas as pd\n",
    "import os, glob"
   ]
  },
  {
   "cell_type": "markdown",
   "metadata": {},
   "source": [
    "# Main idea\n",
    "I want to extract the following from all the matches\n",
    "\n",
    "1. match_date\n",
    "2. team1\n",
    "3. score1\n",
    "4. wkt1\n",
    "5. team2\n",
    "6. score2\n",
    "7. wkt2\n",
    "8. winner \n",
    "\n",
    "Since the data is not as clean as I'd have liked it to be, I have to figure out how to clean the data and extract the information I want. For that the first thing I noticed was the inconsistent number of the info line at the begining of all the csv file. So the solution for that was to separately open the file and read those lines which start from *info* and save the index somewhere for later use. And that index was used later to skip the rows before that indexed line. So, **read_info** function reads a file and returns only the info part as a dictionary as well as the index for the end of info line."
   ]
  },
  {
   "cell_type": "code",
   "execution_count": 3,
   "metadata": {
    "scrolled": false
   },
   "outputs": [
    {
     "name": "stdout",
     "output_type": "stream",
     "text": [
      "{'gender': 'male', 'season': '2007/08', 'date': '2008/04/20', 'venue': 'National Stadium', 'city': 'Karachi', 'toss_winner': 'Pakistan', 'toss_decision': 'bat', 'player_of_match': 'Misbah-ul-Haq', 'umpire': 'Zameer Haider', 'reserve_umpire': 'Khalid Mahmood', 'tv_umpire': 'Saleem Badar', 'match_referee': 'MJ Procter', 'winner': 'Pakistan', 'winner_runs': '102', 'teams': ['Pakistan', 'Bangladesh']} 18\n"
     ]
    }
   ],
   "source": [
    "database_dir = '../dataset/csv/t20_csv_male/'\n",
    "def read_info(fil):\n",
    "    f = open(fil, 'r')\n",
    "    lines = f.readlines(); f.close() \n",
    "    \n",
    "    info ={}\n",
    "    c=1\n",
    "    teams=[]\n",
    "    for line in lines[1:]:\n",
    "        if line[:4] != 'info':\n",
    "            break\n",
    "        lsp = (line.strip('\\n').split(',')[1:])\n",
    "        if 'team' in lsp:\n",
    "            teams.append(lsp[1])\n",
    "        else:\n",
    "            info[lsp[0]] = lsp[1]\n",
    "        c+=1\n",
    "    info['teams'] = teams  \n",
    "    return (info, c)\n",
    "\n",
    "\n",
    "f = '343764.csv'\n",
    "fil=os.path.join(database_dir,  f )\n",
    "(info, c) = read_info(fil)\n",
    "print (info, c)\n"
   ]
  },
  {
   "cell_type": "markdown",
   "metadata": {},
   "source": [
    "Next step is to extract the dat I need from the scoreboard. I need the following: **match_date, team1, score1, wkt1, team2, score2, wkt2, winner** from each of the match. match_date and winner was retrieved from the info dictionary whereas scores and teams were also read easily with some pandas function. Finding the total wickets lost was a little difficult, as I had to count the number of cells in the wkt_type column which weren't NaN. So for that I subtracted the total length of each innings in terms of balls and subtracted the *NaN* values. May be there is a better way to dot it. But at the moment I don't know about that. And this method works just fine as well. One more thing I did was to give *NaN* in the case where there was no winner, possibly the abandoned game. I am giving it anyway which can easily be removed in the analysis part, using **df= df.dropna()**. \n",
    "\n",
    "After reading the things for all the files, I save the information as a **csv** file.\n",
    "\n"
   ]
  },
  {
   "cell_type": "code",
   "execution_count": 4,
   "metadata": {},
   "outputs": [
    {
     "name": "stdout",
     "output_type": "stream",
     "text": [
      "data saved as file: data_full.csv\n"
     ]
    }
   ],
   "source": [
    "def get_data(savename='data_full.csv'):\n",
    "    match_date_L = []; winner_L= []\n",
    "    team1_L = []; score1_L = []; wkt1_L = []; \n",
    "    team2_L = []; score2_L = []; wkt2_L = [];\n",
    "    toss_winner_L = []\n",
    "    toss_decision_L = []\n",
    "\n",
    "    all_fils = glob.glob(database_dir+'*.csv')\n",
    "    \n",
    "    for fil in all_fils:\n",
    "\n",
    "        # get the info as well as the index for the ball line\n",
    "        col_names=['ball', 'innings', 'overs', 'team', 'batsman1', 'batsman2', \\\n",
    "                   'bowler', 'runs', 'extras', 'wkt_type', 'wkt_batsman']\n",
    "        (info, indx) = read_info(fil)\n",
    "        df=pd.read_csv(fil, skiprows=indx, header=None, names=col_names)\n",
    "\n",
    "        df1=df[df['innings']==1]\n",
    "        score1 = df1.sum().runs; \n",
    "        wkt1 = len(df1['wkt_type']) - df1['wkt_type'].isnull().sum()\n",
    "\n",
    "        df2=df[df['innings']==2]\n",
    "        score2 = df1.sum().runs;\n",
    "        wkt2 = len(df2['wkt_type']) - df2['wkt_type'].isnull().sum()\n",
    "\n",
    "        match_date_L.append(info['date'])\n",
    "\n",
    "        if 'winner' not in info:\n",
    "            info['winner'] = 'NaN'\n",
    "        winner_L.append(info['winner'])\n",
    "        \n",
    "        toss_winner_L.append(info['toss_winner'])\n",
    "        toss_decision_L.append(info['toss_decision'])\n",
    "\n",
    "        team1_L.append(info['teams'][0])\n",
    "        team2_L.append(info['teams'][1])\n",
    "\n",
    "        score1_L.append(score1);\n",
    "        score2_L.append(score2);\n",
    "\n",
    "        wkt1_L.append(wkt1);\n",
    "        wkt2_L.append(wkt2);\n",
    "\n",
    "        #print (info['date'], info['winner'], ' ', info['teams'][0], info['teams'][1], score1, score2, wkt1, wkt2)\n",
    "\n",
    "    dff = pd.DataFrame({ 'Date' : match_date_L, \n",
    "                        'Team1' : team1_L, 'Score1' : score1_L, 'Wkt1' : wkt1_L,\n",
    "                        'Team2' : team2_L, 'Score2' : score2_L, 'Wkt2' : wkt2_L,\n",
    "                        'Toss Winner':toss_winner_L, 'Toss Decision':toss_decision_L, \n",
    "                        'Winner' : winner_L} )\n",
    "\n",
    "    dff[\"Date\"] = pd.to_datetime(dff[\"Date\"])\n",
    "    dff = dff.sort_values(by=\"Date\")\n",
    "    dff.to_csv(savename, index=False)\n",
    "    \n",
    "    print ('data saved as file:',savename)\n",
    "\n",
    "get_data(savename='data_full.csv')"
   ]
  },
  {
   "cell_type": "code",
   "execution_count": null,
   "metadata": {},
   "outputs": [],
   "source": []
  }
 ],
 "metadata": {
  "kernelspec": {
   "display_name": "Python 3",
   "language": "python",
   "name": "python3"
  },
  "language_info": {
   "codemirror_mode": {
    "name": "ipython",
    "version": 3
   },
   "file_extension": ".py",
   "mimetype": "text/x-python",
   "name": "python",
   "nbconvert_exporter": "python",
   "pygments_lexer": "ipython3",
   "version": "3.7.5"
  }
 },
 "nbformat": 4,
 "nbformat_minor": 2
}
