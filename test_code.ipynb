{
 "cells": [
  {
   "cell_type": "code",
   "execution_count": 1,
   "metadata": {},
   "outputs": [],
   "source": [
    "import numpy as np\n",
    "import matplotlib.pyplot as plt\n",
    "import pandas as pd\n"
   ]
  },
  {
   "cell_type": "markdown",
   "metadata": {},
   "source": [
    "# Removing arrays with multiple conditions in dataframe"
   ]
  },
  {
   "cell_type": "code",
   "execution_count": 12,
   "metadata": {},
   "outputs": [
    {
     "data": {
      "text/html": [
       "<div>\n",
       "<style scoped>\n",
       "    .dataframe tbody tr th:only-of-type {\n",
       "        vertical-align: middle;\n",
       "    }\n",
       "\n",
       "    .dataframe tbody tr th {\n",
       "        vertical-align: top;\n",
       "    }\n",
       "\n",
       "    .dataframe thead th {\n",
       "        text-align: right;\n",
       "    }\n",
       "</style>\n",
       "<table border=\"1\" class=\"dataframe\">\n",
       "  <thead>\n",
       "    <tr style=\"text-align: right;\">\n",
       "      <th></th>\n",
       "      <th>a1</th>\n",
       "      <th>a11</th>\n",
       "      <th>names</th>\n",
       "    </tr>\n",
       "  </thead>\n",
       "  <tbody>\n",
       "    <tr>\n",
       "      <th>0</th>\n",
       "      <td>1</td>\n",
       "      <td>11</td>\n",
       "      <td>apple</td>\n",
       "    </tr>\n",
       "    <tr>\n",
       "      <th>1</th>\n",
       "      <td>2</td>\n",
       "      <td>22</td>\n",
       "      <td>banana</td>\n",
       "    </tr>\n",
       "    <tr>\n",
       "      <th>2</th>\n",
       "      <td>3</td>\n",
       "      <td>33</td>\n",
       "      <td>orange</td>\n",
       "    </tr>\n",
       "    <tr>\n",
       "      <th>3</th>\n",
       "      <td>4</td>\n",
       "      <td>44</td>\n",
       "      <td>grape</td>\n",
       "    </tr>\n",
       "    <tr>\n",
       "      <th>4</th>\n",
       "      <td>5</td>\n",
       "      <td>55</td>\n",
       "      <td>mango</td>\n",
       "    </tr>\n",
       "    <tr>\n",
       "      <th>5</th>\n",
       "      <td>6</td>\n",
       "      <td>66</td>\n",
       "      <td>apple</td>\n",
       "    </tr>\n",
       "    <tr>\n",
       "      <th>6</th>\n",
       "      <td>7</td>\n",
       "      <td>77</td>\n",
       "      <td>banana</td>\n",
       "    </tr>\n",
       "  </tbody>\n",
       "</table>\n",
       "</div>"
      ],
      "text/plain": [
       "   a1  a11   names\n",
       "0   1   11   apple\n",
       "1   2   22  banana\n",
       "2   3   33  orange\n",
       "3   4   44   grape\n",
       "4   5   55   mango\n",
       "5   6   66   apple\n",
       "6   7   77  banana"
      ]
     },
     "execution_count": 12,
     "metadata": {},
     "output_type": "execute_result"
    }
   ],
   "source": [
    "a1= [1,2,3,4,5, 6, 7]\n",
    "a11 = [11, 22, 33, 44, 55, 66, 77]\n",
    "names = ['apple', 'banana', 'orange', 'grape', 'mango', 'apple', 'banana']\n",
    "df= pd.DataFrame({'a1':a1, 'a11':a11, 'names':names})\n",
    "df"
   ]
  },
  {
   "cell_type": "code",
   "execution_count": 14,
   "metadata": {},
   "outputs": [
    {
     "name": "stdout",
     "output_type": "stream",
     "text": [
      "   a1  a11   names\n",
      "0   1   11   apple\n",
      "1   2   22  banana\n",
      "2   3   33  orange\n",
      "3   4   44   grape\n",
      "4   5   55   mango\n",
      "5   6   66   apple\n",
      "6   7   77  banana\n",
      "without apple\n",
      "   a1  a11   names\n",
      "1   2   22  banana\n",
      "2   3   33  orange\n",
      "3   4   44   grape\n",
      "4   5   55   mango\n",
      "6   7   77  banana\n",
      "without apple and grape\n",
      "   a1  a11   names\n",
      "1   2   22  banana\n",
      "2   3   33  orange\n",
      "4   5   55   mango\n",
      "6   7   77  banana\n"
     ]
    }
   ],
   "source": [
    "df= pd.DataFrame({'a1':a1, 'a11':a11, 'names':names})\n",
    "\n",
    "print (df)\n",
    "df.drop(df[df['names']=='apple'].index, inplace=True)\n",
    "print ('without apple')\n",
    "print (df)\n",
    "df.drop( df[df['names']=='apple'].index | df[df['names']=='grape'].index, inplace=True) #works good\n",
    "print ('without apple and grape')\n",
    "print (df)\n"
   ]
  },
  {
   "cell_type": "code",
   "execution_count": 18,
   "metadata": {},
   "outputs": [
    {
     "data": {
      "text/plain": [
       "['apple', 'banana', 'orange', 'grape', 'mango']"
      ]
     },
     "execution_count": 18,
     "metadata": {},
     "output_type": "execute_result"
    }
   ],
   "source": [
    "df= pd.DataFrame({'a1':a1, 'a11':a11, 'names':names})\n",
    "list(df['names'].unique() )\n"
   ]
  },
  {
   "cell_type": "code",
   "execution_count": 10,
   "metadata": {},
   "outputs": [
    {
     "name": "stdout",
     "output_type": "stream",
     "text": [
      "   a1  a11   names\n",
      "0   1   11   apple\n",
      "1   2   22  banana\n",
      "2   3   33  orange\n",
      "3   4   44   grape\n",
      "4   5   55   mango\n",
      "\n",
      "   a1  a11  names\n",
      "0   1   11  apple\n",
      "3   4   44  grape\n",
      "4   5   55  mango\n"
     ]
    }
   ],
   "source": [
    "df= pd.DataFrame({'a1':a1, 'a11':a11, 'names':names})\n",
    "df.head()\n",
    "print (df)\n",
    "#df.drop( df[df['names'] != 'apple'].index & df[df['names'] !='grape'].index  & df[df['names'] !='mango'].index, inplace=True) #works good\n",
    "print ()\n",
    "print (df)\n"
   ]
  },
  {
   "cell_type": "markdown",
   "metadata": {},
   "source": [
    "# subtracting a list"
   ]
  },
  {
   "cell_type": "code",
   "execution_count": null,
   "metadata": {},
   "outputs": [],
   "source": [
    "l1 = ['a','b','c', 'x']\n",
    "l2 = ['e','f','a','b']\n",
    "\n",
    "l3 = l1+l2\n",
    "l4 = list( set(l1)-set(l2) )\n",
    "\n",
    "l5 = [x for x in l1 if x not in l2]\n",
    "print (l1, '\\n', l2, '\\n', l3, '\\n', l4, '\\n', l5)\n",
    "\n",
    " "
   ]
  }
 ],
 "metadata": {
  "kernelspec": {
   "display_name": "Python 3",
   "language": "python",
   "name": "python3"
  },
  "language_info": {
   "codemirror_mode": {
    "name": "ipython",
    "version": 3
   },
   "file_extension": ".py",
   "mimetype": "text/x-python",
   "name": "python",
   "nbconvert_exporter": "python",
   "pygments_lexer": "ipython3",
   "version": "3.7.5"
  }
 },
 "nbformat": 4,
 "nbformat_minor": 2
}
