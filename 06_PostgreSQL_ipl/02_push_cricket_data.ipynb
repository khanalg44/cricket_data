{
 "cells": [
  {
   "cell_type": "markdown",
   "metadata": {},
   "source": [
    "# Extracting player information\n",
    "\n",
    "- For a comparision, the 1st match has an id='335982' and it's scoreboard can be found in the [cricinfo page.](https://www.espncricinfo.com/series/8048/scorecard/335982/royal-challengers-bangalore-vs-kolkata-knight-riders-1st-match-indian-premier-league-2007-08)\n",
    "\n",
    "- The ball-by-ball data can be downloaded from (https://cricsheet.org/downloads/).\n",
    "\n"
   ]
  },
  {
   "cell_type": "code",
   "execution_count": 1,
   "metadata": {},
   "outputs": [],
   "source": [
    "import numpy as np\n",
    "import pandas as pd\n",
    "import pickle\n",
    "\n",
    "from utils import get_match_list\n",
    "from print_scorecard import print_scorecard\n",
    "\n",
    "data_dir='../datasets/ipl/'"
   ]
  },
  {
   "cell_type": "code",
   "execution_count": 2,
   "metadata": {},
   "outputs": [],
   "source": [
    "import psycopg2\n",
    "\n",
    "# load the postgress credentials\n",
    "import sys\n",
    "sys.path.insert(0, '/Users/gshyam/creds/')\n",
    "from load_credentials import load_credentials\n",
    "fil='/Users/gshyam/creds/postgress.dat'\n",
    "my_info = load_credentials(fil)\n",
    "\n",
    "conn = psycopg2.connect(\n",
    "    host=\"127.0.0.1\",\n",
    "    database=\"myfirstdb\",\n",
    "    user = my_info[\"user\"],\n",
    "    password = my_info[\"password\"]\n",
    ")\n",
    "# cursor\n",
    "c = conn.cursor()"
   ]
  },
  {
   "cell_type": "markdown",
   "metadata": {},
   "source": [
    "## Generalize the submission"
   ]
  },
  {
   "cell_type": "code",
   "execution_count": 3,
   "metadata": {},
   "outputs": [],
   "source": [
    "col_names = ['batsman', 'zeros', 'ones', 'twos', 'threes', 'fours',\n",
    "             'fives', 'sixes', 'runs', 'balls_faced', 'not_out', 'team', 'against',\n",
    "             'tied', 'win', 'toss', 'team_total', 'season', 'date', 'match_id']\n",
    "col_types = ['text', 'int', 'int', 'int', 'int', 'int',\n",
    "             'int', 'int', 'int', 'int', 'boolean', 'text', 'text',\n",
    "             'boolean', 'boolean', 'boolean', 'int', 'int', 'text', 'int']\n",
    "\n",
    "#for i in range(len(col_names)):\n",
    "#    print (\"'\"+col_names[i]+\"' : '\"+col_types[i]+\"',\")"
   ]
  },
  {
   "cell_type": "code",
   "execution_count": 4,
   "metadata": {},
   "outputs": [],
   "source": [
    "col_dict = {'batsman' : 'text',\n",
    "            'zeros' : 'int',\n",
    "            'ones' : 'int',\n",
    "            'twos' : 'int',\n",
    "            'threes' : 'int',\n",
    "            'fours' : 'int',\n",
    "            'fives' : 'int',\n",
    "            'sixes' : 'int',\n",
    "            'runs' : 'int',\n",
    "            'balls_faced' : 'int',\n",
    "            'not_out' : 'boolean',\n",
    "            'team' : 'text',\n",
    "            'against' : 'text',\n",
    "            'tied' : 'boolean',\n",
    "            'win' : 'boolean',\n",
    "            'toss' : 'boolean',\n",
    "            'team_total' : 'int',\n",
    "            'season' : 'int',\n",
    "            'date' : 'text',\n",
    "            'match_id' : 'int'}\n",
    "    \n",
    "def create_table_full(table_name, col_dict=col_dict):\n",
    "    #pd.read_sql(cmd, con) # This command doesn't work in creating empty table\n",
    "    cmd = \"CREATE TABLE  \"+table_name+\" ( \"\n",
    "    for k, v in col_dict.items():\n",
    "        cmd = cmd+ k +\" \"+ v +\", \"\n",
    "    cmd = cmd[:-2] + \" )\"  # :-2 to get rid of last comma\n",
    "    c.execute(cmd)\n",
    "    conn.commit()\n",
    "\n",
    "#table_name = 'gri0'\n",
    "#create_table_full(table_name)"
   ]
  },
  {
   "cell_type": "code",
   "execution_count": 7,
   "metadata": {},
   "outputs": [
    {
     "name": "stdout",
     "output_type": "stream",
     "text": [
      "INSERT INTO gri0 VALUES ('SC Ganguly', 8, 2, 0, 0, 2, 0, 0, 10, 12, False, 'Kolkata Knight Riders', 'Royal Challengers Bangalore', False, True, False, 222, 2008, '2008-04-18', 335982)\n",
      "INSERT INTO gri0 VALUES ('BB McCullum', 23, 22, 9, 0, 10, 0, 13, 158, 73, True, 'Kolkata Knight Riders', 'Royal Challengers Bangalore', False, True, False, 222, 2008, '2008-04-18', 335982)\n",
      "INSERT INTO gri0 VALUES ('RT Ponting', 9, 8, 1, 0, 1, 0, 1, 20, 20, False, 'Kolkata Knight Riders', 'Royal Challengers Bangalore', False, True, False, 222, 2008, '2008-04-18', 335982)\n",
      "INSERT INTO gri0 VALUES ('DJ Hussey', 4, 6, 1, 0, 1, 0, 0, 12, 12, False, 'Kolkata Knight Riders', 'Royal Challengers Bangalore', False, True, False, 222, 2008, '2008-04-18', 335982)\n",
      "INSERT INTO gri0 VALUES ('Mohammad Hafeez', 1, 1, 0, 0, 1, 0, 0, 5, 3, True, 'Kolkata Knight Riders', 'Royal Challengers Bangalore', False, True, False, 222, 2008, '2008-04-18', 335982)\n",
      "INSERT INTO gri0 VALUES ('R Dravid', 1, 2, 0, 0, 0, 0, 0, 2, 3, False, 'Royal Challengers Bangalore', 'Kolkata Knight Riders', False, False, True, 82, 2008, '2008-04-18', 335982)\n",
      "INSERT INTO gri0 VALUES ('W Jaffer', 13, 4, 1, 0, 0, 0, 0, 6, 16, False, 'Royal Challengers Bangalore', 'Kolkata Knight Riders', False, False, True, 82, 2008, '2008-04-18', 335982)\n",
      "INSERT INTO gri0 VALUES ('V Kohli', 4, 1, 0, 0, 0, 0, 0, 1, 5, False, 'Royal Challengers Bangalore', 'Kolkata Knight Riders', False, False, True, 82, 2008, '2008-04-18', 335982)\n",
      "INSERT INTO gri0 VALUES ('JH Kallis', 4, 2, 0, 0, 0, 0, 1, 8, 7, False, 'Royal Challengers Bangalore', 'Kolkata Knight Riders', False, False, True, 82, 2008, '2008-04-18', 335982)\n",
      "INSERT INTO gri0 VALUES ('CL White', 5, 4, 1, 0, 0, 0, 0, 6, 10, False, 'Royal Challengers Bangalore', 'Kolkata Knight Riders', False, False, True, 82, 2008, '2008-04-18', 335982)\n",
      "INSERT INTO gri0 VALUES ('MV Boucher', 8, 1, 1, 0, 1, 0, 0, 7, 9, False, 'Royal Challengers Bangalore', 'Kolkata Knight Riders', False, False, True, 82, 2008, '2008-04-18', 335982)\n",
      "INSERT INTO gri0 VALUES ('B Akhil', 2, 0, 0, 0, 0, 0, 0, 0, 2, False, 'Royal Challengers Bangalore', 'Kolkata Knight Riders', False, False, True, 82, 2008, '2008-04-18', 335982)\n",
      "INSERT INTO gri0 VALUES ('AA Noffke', 6, 5, 0, 0, 1, 0, 0, 9, 10, False, 'Royal Challengers Bangalore', 'Kolkata Knight Riders', False, False, True, 82, 2008, '2008-04-18', 335982)\n",
      "INSERT INTO gri0 VALUES ('P Kumar', 12, 2, 0, 0, 1, 0, 2, 18, 15, True, 'Royal Challengers Bangalore', 'Kolkata Knight Riders', False, False, True, 82, 2008, '2008-04-18', 335982)\n",
      "INSERT INTO gri0 VALUES ('Z Khan', 5, 3, 0, 0, 0, 0, 0, 3, 8, False, 'Royal Challengers Bangalore', 'Kolkata Knight Riders', False, False, True, 82, 2008, '2008-04-18', 335982)\n",
      "INSERT INTO gri0 VALUES ('SB Joshi', 5, 3, 0, 0, 0, 0, 0, 3, 6, False, 'Royal Challengers Bangalore', 'Kolkata Knight Riders', False, False, True, 82, 2008, '2008-04-18', 335982)\n"
     ]
    }
   ],
   "source": [
    "def push_to_database_(match_id, table_name):\n",
    "    df_bat, df_bowl = print_scorecard(str(match_id)+'.yaml', data_dir=data_dir)\n",
    "    batters = df_bat.batsman.unique()\n",
    "    for batter in batters:\n",
    "        data = df_bat[df_bat['batsman']==batter].values[0]        \n",
    "\n",
    "        cmd = \"INSERT INTO \"+ table_name+\" VALUES (\"\n",
    "        for i, (k, v) in enumerate(col_dict.items()):\n",
    "            if v == 'text':\n",
    "                cmd = cmd + \"'\"+data[i]+\"', \"\n",
    "            else:\n",
    "                cmd = cmd + str(data[i]) +\", \"\n",
    "                \n",
    "        cmd = cmd[:-2]+\")\" # -2 to get rid of comma from the last entry\n",
    "        #print (cmd)\n",
    "        c.execute(cmd)\n",
    "        conn.commit()\n",
    "\n",
    "match_id = 335982\n",
    "push_to_database_(match_id, table_name)"
   ]
  },
  {
   "cell_type": "code",
   "execution_count": 5,
   "metadata": {},
   "outputs": [
    {
     "name": "stdout",
     "output_type": "stream",
     "text": [
      "(16, 20)\n"
     ]
    },
    {
     "data": {
      "text/html": [
       "<div>\n",
       "<style scoped>\n",
       "    .dataframe tbody tr th:only-of-type {\n",
       "        vertical-align: middle;\n",
       "    }\n",
       "\n",
       "    .dataframe tbody tr th {\n",
       "        vertical-align: top;\n",
       "    }\n",
       "\n",
       "    .dataframe thead th {\n",
       "        text-align: right;\n",
       "    }\n",
       "</style>\n",
       "<table border=\"1\" class=\"dataframe\">\n",
       "  <thead>\n",
       "    <tr style=\"text-align: right;\">\n",
       "      <th></th>\n",
       "      <th>batsman</th>\n",
       "      <th>zeros</th>\n",
       "      <th>ones</th>\n",
       "      <th>twos</th>\n",
       "      <th>threes</th>\n",
       "      <th>fours</th>\n",
       "      <th>fives</th>\n",
       "      <th>sixes</th>\n",
       "      <th>runs</th>\n",
       "      <th>balls_faced</th>\n",
       "      <th>not_out</th>\n",
       "      <th>team</th>\n",
       "      <th>against</th>\n",
       "      <th>tied</th>\n",
       "      <th>win</th>\n",
       "      <th>toss</th>\n",
       "      <th>team_total</th>\n",
       "      <th>season</th>\n",
       "      <th>date</th>\n",
       "      <th>match_id</th>\n",
       "    </tr>\n",
       "  </thead>\n",
       "  <tbody>\n",
       "    <tr>\n",
       "      <th>0</th>\n",
       "      <td>SC Ganguly</td>\n",
       "      <td>8</td>\n",
       "      <td>2</td>\n",
       "      <td>0</td>\n",
       "      <td>0</td>\n",
       "      <td>2</td>\n",
       "      <td>0</td>\n",
       "      <td>0</td>\n",
       "      <td>10</td>\n",
       "      <td>12</td>\n",
       "      <td>False</td>\n",
       "      <td>Kolkata Knight Riders</td>\n",
       "      <td>Royal Challengers Bangalore</td>\n",
       "      <td>False</td>\n",
       "      <td>True</td>\n",
       "      <td>False</td>\n",
       "      <td>222</td>\n",
       "      <td>2008</td>\n",
       "      <td>2008-04-18</td>\n",
       "      <td>335982</td>\n",
       "    </tr>\n",
       "    <tr>\n",
       "      <th>1</th>\n",
       "      <td>BB McCullum</td>\n",
       "      <td>23</td>\n",
       "      <td>22</td>\n",
       "      <td>9</td>\n",
       "      <td>0</td>\n",
       "      <td>10</td>\n",
       "      <td>0</td>\n",
       "      <td>13</td>\n",
       "      <td>158</td>\n",
       "      <td>73</td>\n",
       "      <td>True</td>\n",
       "      <td>Kolkata Knight Riders</td>\n",
       "      <td>Royal Challengers Bangalore</td>\n",
       "      <td>False</td>\n",
       "      <td>True</td>\n",
       "      <td>False</td>\n",
       "      <td>222</td>\n",
       "      <td>2008</td>\n",
       "      <td>2008-04-18</td>\n",
       "      <td>335982</td>\n",
       "    </tr>\n",
       "  </tbody>\n",
       "</table>\n",
       "</div>"
      ],
      "text/plain": [
       "       batsman  zeros  ones  twos  threes  fours  fives  sixes  runs  \\\n",
       "0   SC Ganguly      8     2     0       0      2      0      0    10   \n",
       "1  BB McCullum     23    22     9       0     10      0     13   158   \n",
       "\n",
       "   balls_faced  not_out                   team                      against  \\\n",
       "0           12    False  Kolkata Knight Riders  Royal Challengers Bangalore   \n",
       "1           73     True  Kolkata Knight Riders  Royal Challengers Bangalore   \n",
       "\n",
       "    tied   win   toss  team_total  season        date  match_id  \n",
       "0  False  True  False         222    2008  2008-04-18    335982  \n",
       "1  False  True  False         222    2008  2008-04-18    335982  "
      ]
     },
     "execution_count": 5,
     "metadata": {},
     "output_type": "execute_result"
    }
   ],
   "source": [
    "#def fetch_all_data(table_name):\n",
    "#    c.execute(\"SELECT * FROM \"+table_name)\n",
    "#    return pd.DataFrame(c.fetchall())\n",
    "\n",
    "def fetch_all_data(table_name):\n",
    "    cmd = \"SELECT * FROM \"+table_name\n",
    "    return pd.read_sql(cmd, conn)\n",
    "\n",
    "#cmd = \"SELECT * FROM \"+table_name\n",
    "#dff = pd.read_sql(cmd, conn)\n",
    "\n",
    "table_name = 'gri0'\n",
    "dff = fetch_all_data(table_name)\n",
    "print ( dff.shape )\n",
    "dff.head(2)"
   ]
  },
  {
   "cell_type": "markdown",
   "metadata": {},
   "source": [
    "### Real Table\n",
    "**which should look like actual table**"
   ]
  },
  {
   "cell_type": "code",
   "execution_count": 18,
   "metadata": {},
   "outputs": [],
   "source": [
    "table_name = 'realtable'\n",
    "create_table_full(table_name)"
   ]
  },
  {
   "cell_type": "code",
   "execution_count": 25,
   "metadata": {},
   "outputs": [],
   "source": [
    "def push_all(table_name, years = [2008]):\n",
    "    #years=range(2008, 2009, 1)\n",
    "    for year in years:\n",
    "        df_match=get_match_list(year, data_dir=data_dir)\n",
    "        match_ids = df_match['match_id']\n",
    "        \n",
    "        for match_id in match_ids:\n",
    "            df_bat, df_bowl = print_scorecard(str(match_id)+'.yaml', data_dir=data_dir)\n",
    "            batters = df_bat.batsman.unique()\n",
    "            for batter in batters:\n",
    "                data = df_bat[df_bat['batsman']==batter].values[0]\n",
    "\n",
    "                cmd = \"INSERT INTO \"+ table_name+\" VALUES (\"\n",
    "                \n",
    "                for i, (k, v) in enumerate(col_dict.items()):\n",
    "                    if v == 'text':\n",
    "                        cmd = cmd + \"'\"+data[i]+\"', \"\n",
    "                    else:\n",
    "                        cmd = cmd + str(data[i]) +\", \"\n",
    "                cmd = cmd[:-2]+\")\" # -2 to get rid of comma from the last entry\n",
    "                c.execute(cmd)\n",
    "                conn.commit()\n",
    "        print (year, \"Done.\")\n",
    "\n",
    "#push_all(table_name)"
   ]
  },
  {
   "cell_type": "code",
   "execution_count": 20,
   "metadata": {},
   "outputs": [
    {
     "data": {
      "text/html": [
       "<div>\n",
       "<style scoped>\n",
       "    .dataframe tbody tr th:only-of-type {\n",
       "        vertical-align: middle;\n",
       "    }\n",
       "\n",
       "    .dataframe tbody tr th {\n",
       "        vertical-align: top;\n",
       "    }\n",
       "\n",
       "    .dataframe thead th {\n",
       "        text-align: right;\n",
       "    }\n",
       "</style>\n",
       "<table border=\"1\" class=\"dataframe\">\n",
       "  <thead>\n",
       "    <tr style=\"text-align: right;\">\n",
       "      <th></th>\n",
       "      <th>batsman</th>\n",
       "      <th>zeros</th>\n",
       "      <th>ones</th>\n",
       "      <th>twos</th>\n",
       "      <th>threes</th>\n",
       "      <th>fours</th>\n",
       "      <th>fives</th>\n",
       "      <th>sixes</th>\n",
       "      <th>runs</th>\n",
       "      <th>balls_faced</th>\n",
       "      <th>not_out</th>\n",
       "      <th>team</th>\n",
       "      <th>against</th>\n",
       "      <th>tied</th>\n",
       "      <th>win</th>\n",
       "      <th>toss</th>\n",
       "      <th>team_total</th>\n",
       "      <th>season</th>\n",
       "      <th>date</th>\n",
       "      <th>match_id</th>\n",
       "    </tr>\n",
       "  </thead>\n",
       "  <tbody>\n",
       "    <tr>\n",
       "      <th>0</th>\n",
       "      <td>SC Ganguly</td>\n",
       "      <td>8</td>\n",
       "      <td>2</td>\n",
       "      <td>0</td>\n",
       "      <td>0</td>\n",
       "      <td>2</td>\n",
       "      <td>0</td>\n",
       "      <td>0</td>\n",
       "      <td>10</td>\n",
       "      <td>12</td>\n",
       "      <td>False</td>\n",
       "      <td>Kolkata Knight Riders</td>\n",
       "      <td>Royal Challengers Bangalore</td>\n",
       "      <td>False</td>\n",
       "      <td>True</td>\n",
       "      <td>False</td>\n",
       "      <td>222</td>\n",
       "      <td>2008</td>\n",
       "      <td>2008-04-18</td>\n",
       "      <td>335982</td>\n",
       "    </tr>\n",
       "    <tr>\n",
       "      <th>1</th>\n",
       "      <td>BB McCullum</td>\n",
       "      <td>23</td>\n",
       "      <td>22</td>\n",
       "      <td>9</td>\n",
       "      <td>0</td>\n",
       "      <td>10</td>\n",
       "      <td>0</td>\n",
       "      <td>13</td>\n",
       "      <td>158</td>\n",
       "      <td>73</td>\n",
       "      <td>True</td>\n",
       "      <td>Kolkata Knight Riders</td>\n",
       "      <td>Royal Challengers Bangalore</td>\n",
       "      <td>False</td>\n",
       "      <td>True</td>\n",
       "      <td>False</td>\n",
       "      <td>222</td>\n",
       "      <td>2008</td>\n",
       "      <td>2008-04-18</td>\n",
       "      <td>335982</td>\n",
       "    </tr>\n",
       "  </tbody>\n",
       "</table>\n",
       "</div>"
      ],
      "text/plain": [
       "       batsman  zeros  ones  twos  threes  fours  fives  sixes  runs  \\\n",
       "0   SC Ganguly      8     2     0       0      2      0      0    10   \n",
       "1  BB McCullum     23    22     9       0     10      0     13   158   \n",
       "\n",
       "   balls_faced  not_out                   team                      against  \\\n",
       "0           12    False  Kolkata Knight Riders  Royal Challengers Bangalore   \n",
       "1           73     True  Kolkata Knight Riders  Royal Challengers Bangalore   \n",
       "\n",
       "    tied   win   toss  team_total  season        date  match_id  \n",
       "0  False  True  False         222    2008  2008-04-18    335982  \n",
       "1  False  True  False         222    2008  2008-04-18    335982  "
      ]
     },
     "execution_count": 20,
     "metadata": {},
     "output_type": "execute_result"
    }
   ],
   "source": [
    "table_name = 'realtable'\n",
    "df = fetch_all_data(table_name)\n",
    "df.head(2)"
   ]
  },
  {
   "cell_type": "code",
   "execution_count": 21,
   "metadata": {},
   "outputs": [],
   "source": [
    "table_name = 'realtable_810'\n",
    "create_table_full(table_name)"
   ]
  },
  {
   "cell_type": "code",
   "execution_count": 26,
   "metadata": {},
   "outputs": [
    {
     "name": "stdout",
     "output_type": "stream",
     "text": [
      "2008 Done.\n",
      "2009 Done.\n",
      "2010 Done.\n"
     ]
    }
   ],
   "source": [
    "years = [2008, 2009, 2010]\n",
    "push_all(table_name, years = years)"
   ]
  },
  {
   "cell_type": "code",
   "execution_count": 19,
   "metadata": {},
   "outputs": [
    {
     "name": "stdout",
     "output_type": "stream",
     "text": [
      "[13  1  1  2  1  2  1  1  9  3  1  2  1  3  2  2  1  2  2  1  1  3  1  1\n",
      "  1  1  2  2  1  1  2  2  1  3  1  1  5  1  1  4  1  6  2  3  1  1  1  1\n",
      "  1  1  3  1  7  1  1  2  6  3  2  1  1  1  1  1  1  1  1  1  2  1  1  3\n",
      "  2  3  1  3  2  1  1  1  2  1  3  1 10  1  1  2  2  3  2  3  1  2  1  1\n",
      "  1  1  3  2  1  1  1  2  1  1  2  1  2  2  2  2  1  1  1  1  1  2  1  1\n",
      "  4  2  2  3  2  1  1  1  1  1  4  4  1  1  1  1  2  2  3  3  1  1  1  1\n",
      "  1  1  2  1  2  2  1  1  1  2  1  1  1  1  1  3  1  1  1  1  1  2  1  3\n",
      "  1  1  1  1  2  3  4  4  1  3  1  1  1  4  5  1  5  3  1  2  6  1  1  2\n",
      "  3  2  1  2  2  1 11  1  3  2  1  2  2  2  2  1  1  3  2  1  6  5  1  3\n",
      "  3  2  1  2  2  2  2  3  3  1  1  4  1  1  1  1  2  1  1  1  1  1  3  1\n",
      "  2  4  3  1  2  1  2  1  1  3  4  1  3  2  1  1  1  4  2  3  2  1  2  4\n",
      "  5  2  1  1  1  3  2  2  1  6  3  2  2  2  1  1  1  2  3  1  1  1  1  1\n",
      "  1  2  1  7  1  6  1  3  3  1  1  1  4  1  1  1  3  1  4  1  1  1  1  4\n",
      "  1  2  2  2  4  1]\n"
     ]
    }
   ],
   "source": [
    "cmd = \"SELECT * FROM \"+table_name+ \" WHERE sixes >0\"\n",
    "df_sixes = pd.read_sql(cmd, conn)\n",
    "print ( df_sixes.sixes.values)"
   ]
  },
  {
   "cell_type": "code",
   "execution_count": 16,
   "metadata": {},
   "outputs": [],
   "source": [
    "cmd = \"SELECT * FROM \"+table_name+\" WHERE sixes>0\"\n",
    "dff = c.execute(cmd)"
   ]
  },
  {
   "cell_type": "code",
   "execution_count": 29,
   "metadata": {},
   "outputs": [
    {
     "name": "stdout",
     "output_type": "stream",
     "text": [
      "SELECT * FROM realtable WHERE batsman='MS Dhoni' \n"
     ]
    },
    {
     "ename": "InFailedSqlTransaction",
     "evalue": "current transaction is aborted, commands ignored until end of transaction block\n",
     "output_type": "error",
     "traceback": [
      "\u001b[0;31m---------------------------------------------------------------------------\u001b[0m",
      "\u001b[0;31mInFailedSqlTransaction\u001b[0m                    Traceback (most recent call last)",
      "\u001b[0;32m<ipython-input-29-fb127fca48b5>\u001b[0m in \u001b[0;36m<module>\u001b[0;34m\u001b[0m\n\u001b[1;32m      6\u001b[0m     \u001b[0;31m#df = pd.DataFrame(rows)\u001b[0m\u001b[0;34m\u001b[0m\u001b[0;34m\u001b[0m\u001b[0;34m\u001b[0m\u001b[0m\n\u001b[1;32m      7\u001b[0m     \u001b[0;31m#display (df.head(5))\u001b[0m\u001b[0;34m\u001b[0m\u001b[0;34m\u001b[0m\u001b[0;34m\u001b[0m\u001b[0m\n\u001b[0;32m----> 8\u001b[0;31m \u001b[0mfetch_condition\u001b[0m\u001b[0;34m(\u001b[0m\u001b[0mtable_name\u001b[0m\u001b[0;34m)\u001b[0m\u001b[0;34m\u001b[0m\u001b[0;34m\u001b[0m\u001b[0m\n\u001b[0m",
      "\u001b[0;32m<ipython-input-29-fb127fca48b5>\u001b[0m in \u001b[0;36mfetch_condition\u001b[0;34m(table_name)\u001b[0m\n\u001b[1;32m      2\u001b[0m     \u001b[0mcmd\u001b[0m \u001b[0;34m=\u001b[0m \u001b[0;34m\"SELECT * FROM \"\u001b[0m\u001b[0;34m+\u001b[0m\u001b[0mtable_name\u001b[0m\u001b[0;34m+\u001b[0m\u001b[0;34m\" WHERE batsman='MS Dhoni' \"\u001b[0m\u001b[0;34m\u001b[0m\u001b[0;34m\u001b[0m\u001b[0m\n\u001b[1;32m      3\u001b[0m     \u001b[0mprint\u001b[0m \u001b[0;34m(\u001b[0m\u001b[0mcmd\u001b[0m\u001b[0;34m)\u001b[0m\u001b[0;34m\u001b[0m\u001b[0;34m\u001b[0m\u001b[0m\n\u001b[0;32m----> 4\u001b[0;31m     \u001b[0mc\u001b[0m\u001b[0;34m.\u001b[0m\u001b[0mexecute\u001b[0m\u001b[0;34m(\u001b[0m\u001b[0mcmd\u001b[0m\u001b[0;34m)\u001b[0m\u001b[0;34m\u001b[0m\u001b[0;34m\u001b[0m\u001b[0m\n\u001b[0m\u001b[1;32m      5\u001b[0m     \u001b[0;31m#rows = c.fetchall()\u001b[0m\u001b[0;34m\u001b[0m\u001b[0;34m\u001b[0m\u001b[0;34m\u001b[0m\u001b[0m\n\u001b[1;32m      6\u001b[0m     \u001b[0;31m#df = pd.DataFrame(rows)\u001b[0m\u001b[0;34m\u001b[0m\u001b[0;34m\u001b[0m\u001b[0;34m\u001b[0m\u001b[0m\n",
      "\u001b[0;31mInFailedSqlTransaction\u001b[0m: current transaction is aborted, commands ignored until end of transaction block\n"
     ]
    }
   ],
   "source": [
    "def fetch_condition(table_name):\n",
    "    cmd = \"SELECT * FROM \"+table_name+\" WHERE sixes>0\"\n",
    "    print (cmd)\n",
    "    c.execute(cmd)\n",
    "    #rows = c.fetchall()\n",
    "    #df = pd.DataFrame(rows)\n",
    "    #display (df.head(5))\n",
    "fetch_condition(table_name)"
   ]
  },
  {
   "cell_type": "code",
   "execution_count": null,
   "metadata": {},
   "outputs": [],
   "source": []
  },
  {
   "cell_type": "code",
   "execution_count": null,
   "metadata": {},
   "outputs": [],
   "source": []
  },
  {
   "cell_type": "code",
   "execution_count": null,
   "metadata": {},
   "outputs": [],
   "source": []
  },
  {
   "cell_type": "code",
   "execution_count": null,
   "metadata": {},
   "outputs": [],
   "source": []
  },
  {
   "cell_type": "code",
   "execution_count": null,
   "metadata": {},
   "outputs": [],
   "source": []
  },
  {
   "cell_type": "code",
   "execution_count": null,
   "metadata": {},
   "outputs": [],
   "source": []
  },
  {
   "cell_type": "code",
   "execution_count": null,
   "metadata": {},
   "outputs": [],
   "source": []
  },
  {
   "cell_type": "code",
   "execution_count": null,
   "metadata": {},
   "outputs": [],
   "source": []
  }
 ],
 "metadata": {
  "kernelspec": {
   "display_name": "Python 3",
   "language": "python",
   "name": "python3"
  },
  "language_info": {
   "codemirror_mode": {
    "name": "ipython",
    "version": 3
   },
   "file_extension": ".py",
   "mimetype": "text/x-python",
   "name": "python",
   "nbconvert_exporter": "python",
   "pygments_lexer": "ipython3",
   "version": "3.8.9"
  }
 },
 "nbformat": 4,
 "nbformat_minor": 2
}
