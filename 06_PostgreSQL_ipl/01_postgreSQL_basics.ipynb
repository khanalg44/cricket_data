{
 "cells": [
  {
   "cell_type": "markdown",
   "metadata": {},
   "source": [
    "# Extracting player information\n",
    "\n",
    "- For a comparision, the 1st match has an id='335982' and it's scoreboard can be found in the [cricinfo page.](https://www.espncricinfo.com/series/8048/scorecard/335982/royal-challengers-bangalore-vs-kolkata-knight-riders-1st-match-indian-premier-league-2007-08)\n",
    "\n",
    "- The ball-by-ball data can be downloaded from (https://cricsheet.org/downloads/).\n",
    "\n"
   ]
  },
  {
   "cell_type": "code",
   "execution_count": 1,
   "metadata": {},
   "outputs": [],
   "source": [
    "import pandas as pd"
   ]
  },
  {
   "cell_type": "code",
   "execution_count": 2,
   "metadata": {},
   "outputs": [],
   "source": [
    "import psycopg2\n",
    "\n",
    "# load the postgress credentials\n",
    "import sys\n",
    "sys.path.insert(0, '/Users/gshyam/creds/')\n",
    "from load_credentials import load_credentials\n",
    "fil='/Users/gshyam/creds/postgress.dat'\n",
    "my_info = load_credentials(fil)\n",
    "\n",
    "con = psycopg2.connect(\n",
    "    host=\"127.0.0.1\",\n",
    "    database=\"myfirstdb\",\n",
    "    user = my_info[\"user\"],\n",
    "    password = my_info[\"password\"]\n",
    ")\n",
    "# cursor\n",
    "c = con.cursor()"
   ]
  },
  {
   "cell_type": "markdown",
   "metadata": {},
   "source": [
    "## CREATE, INSERT, DROP, DELETE, UPDATE"
   ]
  },
  {
   "cell_type": "code",
   "execution_count": 3,
   "metadata": {},
   "outputs": [],
   "source": [
    "def run_command(command):\n",
    "    c.execute(command)\n",
    "    con.commit()"
   ]
  },
  {
   "cell_type": "code",
   "execution_count": 4,
   "metadata": {},
   "outputs": [],
   "source": [
    "# drop a table\n",
    "cmd = \"DROP TABLE test\"\n",
    "run_command(cmd)"
   ]
  },
  {
   "cell_type": "code",
   "execution_count": 5,
   "metadata": {},
   "outputs": [],
   "source": [
    "# create a table\n",
    "cmd = \"CREATE TABLE test ( a INTEGER, b TEXT );\"\n",
    "run_command(cmd)"
   ]
  },
  {
   "cell_type": "code",
   "execution_count": 6,
   "metadata": {},
   "outputs": [],
   "source": [
    "# insert data to table\n",
    "data = [[1,'a'], [2,'b'], [3,'c']]\n",
    "for (a,b) in data:\n",
    "    cmd = \"INSERT INTO test VALUES ( \"+str(a)+\", '\"+b+\"' );\"\n",
    "    run_command(cmd)"
   ]
  },
  {
   "cell_type": "code",
   "execution_count": 7,
   "metadata": {},
   "outputs": [],
   "source": [
    "cmd = \"SELECT * FROM test \"\n",
    "run_command(cmd)\n"
   ]
  },
  {
   "cell_type": "code",
   "execution_count": 8,
   "metadata": {},
   "outputs": [
    {
     "name": "stdout",
     "output_type": "stream",
     "text": [
      "[(1, 'a'), (2, 'b'), (3, 'c')]\n"
     ]
    }
   ],
   "source": [
    "# get data from table\n",
    "c.execute(\"SELECT * FROM test\")\n",
    "data = c.fetchall()\n",
    "print (data)"
   ]
  },
  {
   "cell_type": "code",
   "execution_count": 9,
   "metadata": {},
   "outputs": [],
   "source": [
    "# delete a row with particular information\n",
    "cmd = \"DELETE FROM test where a = 3;\"\n",
    "c.execute(cmd)\n",
    "con.commit()"
   ]
  },
  {
   "cell_type": "code",
   "execution_count": 10,
   "metadata": {},
   "outputs": [
    {
     "name": "stdout",
     "output_type": "stream",
     "text": [
      "[(1, 'a'), (2, 'b')]\n"
     ]
    }
   ],
   "source": [
    "# get data from table\n",
    "c.execute(\"SELECT * FROM test\")\n",
    "data = c.fetchall()\n",
    "print (data)"
   ]
  },
  {
   "cell_type": "code",
   "execution_count": 11,
   "metadata": {},
   "outputs": [],
   "source": [
    "# drop a table\n",
    "cmd = \"DROP TABLE test\"\n",
    "run_command(cmd)"
   ]
  },
  {
   "cell_type": "code",
   "execution_count": 12,
   "metadata": {},
   "outputs": [],
   "source": [
    "# create a table\n",
    "cmd = \"CREATE TABLE test ( a INTEGER, b TEXT, c TEXT );\"\n",
    "run_command(cmd)"
   ]
  },
  {
   "cell_type": "code",
   "execution_count": 13,
   "metadata": {},
   "outputs": [],
   "source": [
    "cmd = \"INSERT INTO test ( b, c ) VALUES ( 'That', 'Over there!' );  \"\n",
    "run_command(cmd)"
   ]
  },
  {
   "cell_type": "code",
   "execution_count": 14,
   "metadata": {},
   "outputs": [
    {
     "name": "stdout",
     "output_type": "stream",
     "text": [
      "(None, 'That', 'Over there!')\n"
     ]
    }
   ],
   "source": [
    "# get data from table\n",
    "c.execute(\"SELECT * FROM test\")\n",
    "data = c.fetchall()\n",
    "for row in data:\n",
    "    print (row)"
   ]
  },
  {
   "cell_type": "code",
   "execution_count": 15,
   "metadata": {},
   "outputs": [
    {
     "name": "stdout",
     "output_type": "stream",
     "text": [
      "<class 'NoneType'> <class 'str'> <class 'str'>\n"
     ]
    }
   ],
   "source": [
    "for row in data:\n",
    "    print (type(row[0]), type(row[1]), type(row[2]))"
   ]
  },
  {
   "cell_type": "code",
   "execution_count": 16,
   "metadata": {},
   "outputs": [],
   "source": [
    "cmd = \"INSERT INTO test (a, b, c ) VALUES (1, 'That', 'Over there!' );  \"\n",
    "run_command(cmd)\n",
    "cmd = \"INSERT INTO test (a, b, c ) VALUES (2, 'That2', 'Over there2!' );  \"\n",
    "run_command(cmd)\n",
    "cmd = \"INSERT INTO test (a, b, c ) VALUES (3, 'That3', 'Over there3!' );  \"\n",
    "run_command(cmd)"
   ]
  },
  {
   "cell_type": "code",
   "execution_count": 17,
   "metadata": {},
   "outputs": [
    {
     "name": "stdout",
     "output_type": "stream",
     "text": [
      "(None, 'That', 'Over there!')\n",
      "(1, 'That', 'Over there!')\n",
      "(2, 'That2', 'Over there2!')\n",
      "(3, 'That3', 'Over there3!')\n"
     ]
    }
   ],
   "source": [
    "# get data from table\n",
    "c.execute(\"SELECT * FROM test\")\n",
    "data = c.fetchall()\n",
    "for row in data:\n",
    "    print (row)"
   ]
  },
  {
   "cell_type": "code",
   "execution_count": 18,
   "metadata": {},
   "outputs": [],
   "source": [
    "# Delete row\n",
    "cmd = \"DELETE FROM test WHERE a = 3;\"\n",
    "run_command(cmd)"
   ]
  },
  {
   "cell_type": "code",
   "execution_count": 19,
   "metadata": {},
   "outputs": [
    {
     "name": "stdout",
     "output_type": "stream",
     "text": [
      "(None, 'That', 'Over there!')\n",
      "(1, 'That', 'Over there!')\n",
      "(2, 'That2', 'Over there2!')\n"
     ]
    }
   ],
   "source": [
    "# get data from table\n",
    "c.execute(\"SELECT * FROM test\")\n",
    "data = c.fetchall()\n",
    "for row in data:\n",
    "    print (row)"
   ]
  },
  {
   "cell_type": "code",
   "execution_count": 20,
   "metadata": {},
   "outputs": [
    {
     "name": "stdout",
     "output_type": "stream",
     "text": [
      "UPDATE test SET a=10 WHERE a=1\n"
     ]
    }
   ],
   "source": [
    "# update data\n",
    "# get data from table\n",
    "cmd = \"UPDATE test SET a=10 WHERE a=1\"\n",
    "print (cmd)\n",
    "run_command(cmd)"
   ]
  },
  {
   "cell_type": "code",
   "execution_count": 21,
   "metadata": {},
   "outputs": [
    {
     "name": "stdout",
     "output_type": "stream",
     "text": [
      "[(None, 'That', 'Over there!'), (2, 'That2', 'Over there2!'), (10, 'That', 'Over there!')]\n"
     ]
    }
   ],
   "source": [
    "# get data from table\n",
    "c.execute(\"SELECT * FROM test\")\n",
    "data = c.fetchall()\n",
    "print (data)"
   ]
  },
  {
   "cell_type": "markdown",
   "metadata": {},
   "source": [
    "### ALTER table"
   ]
  },
  {
   "cell_type": "code",
   "execution_count": 22,
   "metadata": {},
   "outputs": [
    {
     "name": "stdout",
     "output_type": "stream",
     "text": [
      "[(None, 'That', 'Over there!'), (2, 'That2', 'Over there2!'), (10, 'That', 'Over there!')]\n"
     ]
    }
   ],
   "source": [
    "# get data from table\n",
    "c.execute(\"SELECT * FROM test\")\n",
    "data = c.fetchall()\n",
    "print (data)"
   ]
  },
  {
   "cell_type": "code",
   "execution_count": 23,
   "metadata": {},
   "outputs": [],
   "source": [
    "cmd = \"ALTER TABLE test ADD d TEXT\"\n",
    "run_command(cmd)"
   ]
  },
  {
   "cell_type": "code",
   "execution_count": 24,
   "metadata": {},
   "outputs": [
    {
     "name": "stdout",
     "output_type": "stream",
     "text": [
      "(None, 'That', 'Over there!', None)\n",
      "(2, 'That2', 'Over there2!', None)\n",
      "(10, 'That', 'Over there!', None)\n"
     ]
    }
   ],
   "source": [
    "# get data from table\n",
    "c.execute(\"SELECT * FROM test\")\n",
    "data = c.fetchall()\n",
    "for row in data:\n",
    "    print (row)"
   ]
  },
  {
   "cell_type": "code",
   "execution_count": 25,
   "metadata": {},
   "outputs": [],
   "source": [
    "cmd = \"ALTER TABLE test ADD e TEXT DEFAULT 'gri' \"\n",
    "run_command(cmd)"
   ]
  },
  {
   "cell_type": "code",
   "execution_count": 26,
   "metadata": {},
   "outputs": [
    {
     "name": "stdout",
     "output_type": "stream",
     "text": [
      "(None, 'That', 'Over there!', None, 'gri')\n",
      "(2, 'That2', 'Over there2!', None, 'gri')\n",
      "(10, 'That', 'Over there!', None, 'gri')\n"
     ]
    }
   ],
   "source": [
    "# get data from table\n",
    "c.execute(\"SELECT * FROM test\")\n",
    "data = c.fetchall()\n",
    "for row in data:\n",
    "    print (row)"
   ]
  },
  {
   "cell_type": "code",
   "execution_count": 27,
   "metadata": {},
   "outputs": [],
   "source": [
    "## Primary Key\n",
    "\n",
    "# First drop the table test\n",
    "cmd = \"DROP TABLE IF EXISTS test\"\n",
    "run_command(cmd)"
   ]
  },
  {
   "cell_type": "code",
   "execution_count": 28,
   "metadata": {},
   "outputs": [],
   "source": [
    "# create a table with a Primary Key\n",
    "cmd = \"\"\"CREATE TABLE test(\n",
    "        id INTEGER PRIMARY KEY, \n",
    "        a INTEGER ,\n",
    "        b TEXT);\"\"\"\n",
    "run_command(cmd)"
   ]
  },
  {
   "cell_type": "code",
   "execution_count": 29,
   "metadata": {},
   "outputs": [],
   "source": [
    "# get data from table\n",
    "c.execute(\"SELECT * FROM test\")\n",
    "data = c.fetchall()\n",
    "for row in data:\n",
    "    print (row)"
   ]
  },
  {
   "cell_type": "code",
   "execution_count": 30,
   "metadata": {},
   "outputs": [],
   "source": [
    "cmd = \"INSERT INTO test (id, a, b) VALUES (1, 10, 'ten');  \"\n",
    "run_command(cmd)"
   ]
  },
  {
   "cell_type": "code",
   "execution_count": 31,
   "metadata": {},
   "outputs": [
    {
     "name": "stdout",
     "output_type": "stream",
     "text": [
      "(1, 10, 'ten')\n"
     ]
    }
   ],
   "source": [
    "# get data from table\n",
    "c.execute(\"SELECT * FROM test\")\n",
    "data = c.fetchall()\n",
    "for row in data:\n",
    "    print (row)"
   ]
  },
  {
   "cell_type": "code",
   "execution_count": 32,
   "metadata": {},
   "outputs": [],
   "source": [
    "#cmd = \"INSERT INTO test (a, b) VALUES (20, 'twenty');  \"\n",
    "#run_command(cmd)"
   ]
  },
  {
   "cell_type": "code",
   "execution_count": 33,
   "metadata": {},
   "outputs": [
    {
     "ename": "SyntaxError",
     "evalue": "invalid syntax (<ipython-input-33-9bd08749c14b>, line 1)",
     "output_type": "error",
     "traceback": [
      "\u001b[0;36m  File \u001b[0;32m\"<ipython-input-33-9bd08749c14b>\"\u001b[0;36m, line \u001b[0;32m1\u001b[0m\n\u001b[0;31m    print (DO NOT RUN)\u001b[0m\n\u001b[0m              ^\u001b[0m\n\u001b[0;31mSyntaxError\u001b[0m\u001b[0;31m:\u001b[0m invalid syntax\n"
     ]
    }
   ],
   "source": [
    "print (DO NOT RUN)"
   ]
  },
  {
   "cell_type": "code",
   "execution_count": null,
   "metadata": {},
   "outputs": [],
   "source": [
    "del c, con"
   ]
  },
  {
   "cell_type": "code",
   "execution_count": null,
   "metadata": {},
   "outputs": [],
   "source": []
  },
  {
   "cell_type": "code",
   "execution_count": null,
   "metadata": {},
   "outputs": [],
   "source": []
  },
  {
   "cell_type": "code",
   "execution_count": null,
   "metadata": {},
   "outputs": [],
   "source": [
    "-- 09 WHERE, LIKE, and IN\n",
    "-- world.db\n",
    "\n",
    "SELECT * FROM Country;\n",
    "SELECT Name, Continent, Population FROM Country \n",
    "  WHERE Population < 100000 ORDER BY Population DESC;\n",
    "SELECT Name, Continent, Population FROM Country \n",
    "  WHERE Population < 100000 OR Population IS NULL ORDER BY Population DESC;\n",
    "SELECT Name, Continent, Population FROM Country \n",
    "  WHERE Population < 100000 AND Continent = 'Oceania' ORDER BY Population DESC;\n",
    "SELECT Name, Continent, Population FROM Country \n",
    "  WHERE Name LIKE '%island%' ORDER BY Name;\n",
    "SELECT Name, Continent, Population FROM Country \n",
    " WHERE Continent IN ( 'Europe', 'Asia' ) ORDER BY Name;\n",
    "\n",
    "-- 10 SELECT DISTINCT\n",
    "-- world.db\n",
    "\n",
    "SELECT Continent FROM Country;\n",
    "SELECT DISTINCT Continent FROM Country;\n",
    "Using the SELECT DISTINCT statement, you will get only unique results. \n",
    "\n",
    "-- test.db\n",
    "\n",
    "DROP TABLE IF EXISTS test;\n",
    "CREATE TABLE test ( a int, b int );\n",
    "INSERT INTO test VALUES ( 1, 1 );\n",
    "INSERT INTO test VALUES ( 2, 1 );\n",
    "INSERT INTO test VALUES ( 3, 1 );\n",
    "INSERT INTO test VALUES ( 4, 1 );\n",
    "INSERT INTO test VALUES ( 5, 1 );\n",
    "INSERT INTO test VALUES ( 1, 2 );\n",
    "INSERT INTO test VALUES ( 1, 2 );\n",
    "INSERT INTO test VALUES ( 1, 2 );\n",
    "INSERT INTO test VALUES ( 1, 2 );\n"
   ]
  },
  {
   "cell_type": "code",
   "execution_count": null,
   "metadata": {},
   "outputs": [],
   "source": [
    "## COUNT"
   ]
  },
  {
   "cell_type": "code",
   "execution_count": null,
   "metadata": {},
   "outputs": [],
   "source": [
    "-- 05 Selecting Columns\n",
    "  4 -- world.db\n",
    "  5 \n",
    "  6 SELECT * from Country;\n",
    "  7 SELECT Name, Continent, Region from Country;\n",
    "  8 SELECT Name AS Country, Continent, Region from Country;\n",
    "  9 SELECT Name AS Country, Region, Continent from Country;\n"
   ]
  },
  {
   "cell_type": "code",
   "execution_count": null,
   "metadata": {},
   "outputs": [],
   "source": []
  },
  {
   "cell_type": "code",
   "execution_count": null,
   "metadata": {},
   "outputs": [],
   "source": [
    "# "
   ]
  },
  {
   "cell_type": "code",
   "execution_count": null,
   "metadata": {},
   "outputs": [],
   "source": []
  },
  {
   "cell_type": "code",
   "execution_count": null,
   "metadata": {},
   "outputs": [],
   "source": []
  },
  {
   "cell_type": "code",
   "execution_count": null,
   "metadata": {},
   "outputs": [],
   "source": []
  },
  {
   "cell_type": "code",
   "execution_count": null,
   "metadata": {},
   "outputs": [],
   "source": []
  },
  {
   "cell_type": "code",
   "execution_count": null,
   "metadata": {},
   "outputs": [],
   "source": [
    "cmd = \"\"\"CREATE TABLE table00(\n",
    "    batsman text,\n",
    "    Runs int)\"\"\"\n",
    "\n",
    "c.execute(cmd)\n",
    "con.commit()"
   ]
  },
  {
   "cell_type": "code",
   "execution_count": null,
   "metadata": {},
   "outputs": [],
   "source": []
  },
  {
   "cell_type": "code",
   "execution_count": null,
   "metadata": {},
   "outputs": [],
   "source": []
  },
  {
   "cell_type": "code",
   "execution_count": null,
   "metadata": {},
   "outputs": [],
   "source": []
  },
  {
   "cell_type": "code",
   "execution_count": null,
   "metadata": {},
   "outputs": [],
   "source": []
  },
  {
   "cell_type": "code",
   "execution_count": null,
   "metadata": {},
   "outputs": [],
   "source": [
    "#CREATE TABLE test ( a TEXT, b TEXT );                                                                                                                         \n",
    "#INSERT INTO test VALUES ( 'one', 'two' );\n",
    "cmd = \"SELECT * FROM table00\" ;\n",
    "run_command(cmd)\n",
    "cmd = \"DROP TABLE table00\";\n",
    "run_command(cmd)\n"
   ]
  },
  {
   "cell_type": "code",
   "execution_count": null,
   "metadata": {},
   "outputs": [],
   "source": [
    "cmd = \"DROP TABLE IF EXISTS table00\"\n",
    "c.execute(cmd)\n",
    "c.fetchall()"
   ]
  },
  {
   "cell_type": "code",
   "execution_count": null,
   "metadata": {},
   "outputs": [],
   "source": []
  },
  {
   "cell_type": "code",
   "execution_count": null,
   "metadata": {},
   "outputs": [],
   "source": []
  },
  {
   "cell_type": "code",
   "execution_count": null,
   "metadata": {},
   "outputs": [],
   "source": [
    "def create_table0():\n",
    "    cmd = \"\"\"CREATE TABLE table2(\n",
    "    batsman text,\n",
    "    Runs int,\n",
    "    BF int,\n",
    "    Team text,\n",
    "    match_id int,\n",
    "    PRIMARY KEY (match_id) )\"\"\"\n",
    "    \n",
    "    c.execute(cmd)\n",
    "    con.commit()\n",
    "\n",
    "create_table0()"
   ]
  },
  {
   "cell_type": "code",
   "execution_count": null,
   "metadata": {},
   "outputs": [],
   "source": [
    "def push_data_table1(d):\n",
    "    cmd = \"\"\"INSERT INTO table2 VALUES ( {},\n",
    "    {}, {}, {}, {})\"\"\".format(\"'\"+d[0]+\"'\",\n",
    "                                  d[1],\n",
    "                                  d[2],\n",
    "                                  \"'\"+d[3]+\"'\",\n",
    "                                  d[4])\n",
    "    print (cmd)\n",
    "    c.execute(cmd)\n",
    "    con.commit()\n",
    "    print (\"data pushed to database\")\n",
    "\n",
    "data = [\"SR Tendulkar\", 200, 147, \"India\", 12345]\n",
    "push_data_table1(data)"
   ]
  },
  {
   "cell_type": "code",
   "execution_count": null,
   "metadata": {},
   "outputs": [],
   "source": [
    "def get_all():\n",
    "    c.execute(\"SELECT * FROM table2\")\n",
    "    rows = c.fetchall()\n",
    "    for r in rows:\n",
    "        print (r)\n",
    "get_all()"
   ]
  },
  {
   "cell_type": "code",
   "execution_count": null,
   "metadata": {
    "scrolled": true
   },
   "outputs": [],
   "source": [
    "#data = [\"BM McCullam\", 85, 62, \"KKR\", 12347]\n",
    "#push_data_table1(data)\n",
    "get_all()"
   ]
  },
  {
   "cell_type": "markdown",
   "metadata": {},
   "source": [
    "## Generalize the submission"
   ]
  },
  {
   "cell_type": "code",
   "execution_count": null,
   "metadata": {},
   "outputs": [],
   "source": [
    "col_names = ['batsman', 'zeros', 'ones', 'twos', 'threes', 'fours',\n",
    "             'fives', 'sixes', 'runs', 'balls_faced', 'not_out', 'team', 'against',\n",
    "             'tied', 'win', 'toss', 'team_total', 'season', 'date', 'match_id']\n",
    "col_types = ['text', 'int', 'int', 'int', 'int', 'int',\n",
    "             'int', 'int', 'int', 'int', 'boolean', 'text', 'text',\n",
    "             'boolean', 'boolean', 'boolean', 'int', 'int', 'text', 'int']\n",
    "\n",
    "def create_table_full(table_name, col_names=col_names, col_types=col_types):\n",
    "    cmd = \"\"\"CREATE TABLE  \"\"\"+table_name+\"\"\"( \"\"\"\n",
    "    \n",
    "    for i in range(len(col_names)):\n",
    "        cmd = cmd + col_names[i] +\" \" +col_types[i]+\", \"\n",
    "    cmd = cmd + \"\"\" PRIMARY KEY (match_id) )\"\"\"\n",
    "    \n",
    "    print (cmd)\n",
    "    c.execute(cmd)\n",
    "    con.commit()\n",
    "\n",
    "table_name = 'crictable0'\n",
    "create_table_full(table_name)"
   ]
  },
  {
   "cell_type": "code",
   "execution_count": null,
   "metadata": {},
   "outputs": [],
   "source": []
  },
  {
   "cell_type": "code",
   "execution_count": null,
   "metadata": {},
   "outputs": [],
   "source": [
    "con.setAutoCommit(True)\n",
    "def push_to_database_(match_id):\n",
    "    print (match_id)\n",
    "    df_bat, df_bowl = print_scorecard(str(match_id)+'.yaml', data_dir=data_dir)\n",
    "    batters = df_bat.batsman.unique()\n",
    "    for batter in batters[:1]:\n",
    "        data = df_bat[df_bat['batsman']==batter].values[0]\n",
    "        \n",
    "        cmd = \"\"\"INSERT INTO crictable0 VALUES (\"\"\"\n",
    "        for i in range(len(col_names)):\n",
    "            if col_types[i]=='text':\n",
    "                cmd = cmd + \"'\"+data[i]+\"', \"\n",
    "            else:\n",
    "                cmd = cmd + str(data[i]) +\", \"\n",
    "        cmd = cmd[:-2]+\")\" # -2 to get rid of comma from the last entry\n",
    "        print (cmd)\n",
    "        c.execute(cmd)\n",
    "        con.commit()\n",
    "        print (batter, \"data pushed to database\")\n",
    "\n",
    "match_id = 335982\n",
    "push_to_database_(match_id)"
   ]
  },
  {
   "cell_type": "code",
   "execution_count": null,
   "metadata": {},
   "outputs": [],
   "source": [
    "col_names = ['batsman', 'runs', 'balls_faced', 'not_out', 'team', 'match_id']\n",
    "col_types = ['text', 'int', 'int',  'boolean', 'text', 'int']\n",
    "\n",
    "def create_table_full(table_name, col_names=col_names, col_types=col_types):\n",
    "    cmd = \"\"\"CREATE TABLE  \"\"\"+table_name+\"\"\"( \"\"\"\n",
    "    \n",
    "    for i in range(len(col_names)):\n",
    "        cmd = cmd + col_names[i] +\" \" +col_types[i]+\", \"\n",
    "    cmd = cmd[:-2] + \"\"\" )\"\"\"\n",
    "    #cmd = cmd + \"\"\" PRIMARY KEY (match_id) )\"\"\"\n",
    "    \n",
    "    print (cmd)\n",
    "    c.execute(cmd)\n",
    "    con.commit()\n",
    "\n",
    "table_name = 'gri2'\n",
    "create_table_full(table_name)"
   ]
  },
  {
   "cell_type": "code",
   "execution_count": null,
   "metadata": {},
   "outputs": [],
   "source": [
    "def push_to_database_(match_id):\n",
    "    df_bat, df_bowl = print_scorecard(str(match_id)+'.yaml', data_dir=data_dir)\n",
    "    batters = df_bat.batsman.unique()\n",
    "    for batter in batters:\n",
    "        data = df_bat[df_bat['batsman']==batter].values[0]        \n",
    "        data = [data[0], data[8], data[9], data[10], data[11], match_id]\n",
    "        \n",
    "        cmd = \"\"\"INSERT INTO gri2 VALUES (\"\"\"\n",
    "        for i in range(len(col_names)):\n",
    "            if col_types[i]=='text':\n",
    "                cmd = cmd + \"'\"+data[i]+\"', \"\n",
    "            else:\n",
    "                cmd = cmd + str(data[i]) +\", \"\n",
    "        cmd = cmd[:-2]+\")\" # -2 to get rid of comma from the last entry\n",
    "        print (cmd)\n",
    "        c.execute(cmd)\n",
    "        con.commit()\n",
    "\n",
    "match_id = 335982\n",
    "push_to_database_(match_id)"
   ]
  },
  {
   "cell_type": "code",
   "execution_count": null,
   "metadata": {},
   "outputs": [],
   "source": [
    "def fetch_all_data(table_name):\n",
    "    c.execute(\"SELECT * FROM \"+table_name)\n",
    "    rows = c.fetchall()\n",
    "    for r in rows:\n",
    "        print (r)\n",
    "fetch_all_data('gri2')"
   ]
  },
  {
   "cell_type": "code",
   "execution_count": null,
   "metadata": {},
   "outputs": [],
   "source": []
  },
  {
   "cell_type": "code",
   "execution_count": null,
   "metadata": {},
   "outputs": [],
   "source": []
  },
  {
   "cell_type": "code",
   "execution_count": null,
   "metadata": {},
   "outputs": [],
   "source": []
  },
  {
   "cell_type": "code",
   "execution_count": null,
   "metadata": {},
   "outputs": [],
   "source": [
    "dd = ['SC Ganguly', 8, 2, False, 'Kolkata Knight Riders', '2008-04-18']\n",
    "dd_type = ['text', 'int', 'int', 'boolean', 'text', 'text']\n",
    "\n",
    "cmdd = 'INSERT INTO crictable0 VALUES ( '\n",
    "for i in range(len(dd)):\n",
    "    if dd_type[i]=='text':\n",
    "        cmdd = cmdd + \"'\"+dd[i]+\"' \"\n",
    "    else:\n",
    "        cmdd = cmdd + str(dd[i]) +\" \"\n",
    "cmdd = cmdd+\" )\"\n",
    "print (cmdd)\n",
    "\n",
    "#''.join(dd)\n",
    "#dd=[1,'d']\n",
    "#'{}, {}'.format(d for d in dd)"
   ]
  },
  {
   "cell_type": "code",
   "execution_count": null,
   "metadata": {
    "scrolled": true
   },
   "outputs": [],
   "source": [
    "d=['abc', 2]\n",
    "cmd = \"\"\"INSERT INTO crictable0 VALUES ( {}, {})\"\"\".format(\"'\"+d[0]+\"'\",d[1])\n",
    "print (cmd)"
   ]
  },
  {
   "cell_type": "code",
   "execution_count": null,
   "metadata": {},
   "outputs": [],
   "source": [
    "\"My name is {}, I'm {}\".format(\"John\",36)"
   ]
  },
  {
   "cell_type": "code",
   "execution_count": null,
   "metadata": {},
   "outputs": [],
   "source": [
    "def create_table_full():\n",
    "    cmd = \"\"\"CREATE TABLE crictable0(\n",
    "    \n",
    "    batsman text,\n",
    "    zeros int,\n",
    "    ones int,\n",
    "    twos int,\n",
    "    threes int,\n",
    "    fours int,\n",
    "    fives int,\n",
    "    sixes int,\n",
    "    Runs int,\n",
    "    BF int,\n",
    "    NO boolean,\n",
    "    Team text,\n",
    "    Against text,\n",
    "    Tied boolean,\n",
    "    Win boolean,\n",
    "    Toss boolean,\n",
    "    team_total int,\n",
    "    season int,\n",
    "    date text,\n",
    "    match_id int,\n",
    "    PRIMARY KEY (match_id) )\"\"\"\n",
    "    \n",
    "    c.execute(cmd)\n",
    "    con.commit()\n",
    "    \n",
    "create_table_full()"
   ]
  }
 ],
 "metadata": {
  "kernelspec": {
   "display_name": "Python 3",
   "language": "python",
   "name": "python3"
  },
  "language_info": {
   "codemirror_mode": {
    "name": "ipython",
    "version": 3
   },
   "file_extension": ".py",
   "mimetype": "text/x-python",
   "name": "python",
   "nbconvert_exporter": "python",
   "pygments_lexer": "ipython3",
   "version": "3.8.9"
  }
 },
 "nbformat": 4,
 "nbformat_minor": 2
}
