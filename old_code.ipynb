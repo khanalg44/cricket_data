{
 "cells": [
  {
   "cell_type": "markdown",
   "metadata": {},
   "source": [
    "# Analysis of the Batting scores on t20 Cricket results"
   ]
  },
  {
   "cell_type": "markdown",
   "metadata": {},
   "source": [
    "# 1. Data Extraction  \n",
    "\n",
    "## Load some random file and display the data"
   ]
  },
  {
   "cell_type": "code",
   "execution_count": 45,
   "metadata": {},
   "outputs": [],
   "source": [
    "import numpy as np\n",
    "import matplotlib.pyplot as plt\n",
    "import pandas as pd\n",
    "import os, glob"
   ]
  },
  {
   "cell_type": "code",
   "execution_count": 43,
   "metadata": {},
   "outputs": [
    {
     "data": {
      "text/html": [
       "<div>\n",
       "<style scoped>\n",
       "    .dataframe tbody tr th:only-of-type {\n",
       "        vertical-align: middle;\n",
       "    }\n",
       "\n",
       "    .dataframe tbody tr th {\n",
       "        vertical-align: top;\n",
       "    }\n",
       "\n",
       "    .dataframe thead th {\n",
       "        text-align: right;\n",
       "    }\n",
       "</style>\n",
       "<table border=\"1\" class=\"dataframe\">\n",
       "  <thead>\n",
       "    <tr style=\"text-align: right;\">\n",
       "      <th></th>\n",
       "      <th>ball</th>\n",
       "      <th>innings</th>\n",
       "      <th>overs</th>\n",
       "      <th>team</th>\n",
       "      <th>batsman1</th>\n",
       "      <th>batsman2</th>\n",
       "      <th>bowler</th>\n",
       "      <th>runs</th>\n",
       "      <th>extras</th>\n",
       "      <th>wkt_type</th>\n",
       "      <th>wkt_batsman</th>\n",
       "    </tr>\n",
       "  </thead>\n",
       "  <tbody>\n",
       "    <tr>\n",
       "      <th>0</th>\n",
       "      <td>ball</td>\n",
       "      <td>1</td>\n",
       "      <td>0.1</td>\n",
       "      <td>England</td>\n",
       "      <td>ME Trescothick</td>\n",
       "      <td>GO Jones</td>\n",
       "      <td>B Lee</td>\n",
       "      <td>0</td>\n",
       "      <td>0</td>\n",
       "      <td>NaN</td>\n",
       "      <td>NaN</td>\n",
       "    </tr>\n",
       "    <tr>\n",
       "      <th>1</th>\n",
       "      <td>ball</td>\n",
       "      <td>1</td>\n",
       "      <td>0.2</td>\n",
       "      <td>England</td>\n",
       "      <td>ME Trescothick</td>\n",
       "      <td>GO Jones</td>\n",
       "      <td>B Lee</td>\n",
       "      <td>1</td>\n",
       "      <td>0</td>\n",
       "      <td>NaN</td>\n",
       "      <td>NaN</td>\n",
       "    </tr>\n",
       "    <tr>\n",
       "      <th>2</th>\n",
       "      <td>ball</td>\n",
       "      <td>1</td>\n",
       "      <td>0.3</td>\n",
       "      <td>England</td>\n",
       "      <td>GO Jones</td>\n",
       "      <td>ME Trescothick</td>\n",
       "      <td>B Lee</td>\n",
       "      <td>0</td>\n",
       "      <td>0</td>\n",
       "      <td>NaN</td>\n",
       "      <td>NaN</td>\n",
       "    </tr>\n",
       "    <tr>\n",
       "      <th>3</th>\n",
       "      <td>ball</td>\n",
       "      <td>1</td>\n",
       "      <td>0.4</td>\n",
       "      <td>England</td>\n",
       "      <td>GO Jones</td>\n",
       "      <td>ME Trescothick</td>\n",
       "      <td>B Lee</td>\n",
       "      <td>0</td>\n",
       "      <td>0</td>\n",
       "      <td>NaN</td>\n",
       "      <td>NaN</td>\n",
       "    </tr>\n",
       "    <tr>\n",
       "      <th>4</th>\n",
       "      <td>ball</td>\n",
       "      <td>1</td>\n",
       "      <td>0.5</td>\n",
       "      <td>England</td>\n",
       "      <td>GO Jones</td>\n",
       "      <td>ME Trescothick</td>\n",
       "      <td>B Lee</td>\n",
       "      <td>0</td>\n",
       "      <td>0</td>\n",
       "      <td>NaN</td>\n",
       "      <td>NaN</td>\n",
       "    </tr>\n",
       "    <tr>\n",
       "      <th>5</th>\n",
       "      <td>ball</td>\n",
       "      <td>1</td>\n",
       "      <td>0.6</td>\n",
       "      <td>England</td>\n",
       "      <td>GO Jones</td>\n",
       "      <td>ME Trescothick</td>\n",
       "      <td>B Lee</td>\n",
       "      <td>0</td>\n",
       "      <td>1</td>\n",
       "      <td>NaN</td>\n",
       "      <td>NaN</td>\n",
       "    </tr>\n",
       "    <tr>\n",
       "      <th>6</th>\n",
       "      <td>ball</td>\n",
       "      <td>1</td>\n",
       "      <td>0.7</td>\n",
       "      <td>England</td>\n",
       "      <td>GO Jones</td>\n",
       "      <td>ME Trescothick</td>\n",
       "      <td>B Lee</td>\n",
       "      <td>2</td>\n",
       "      <td>0</td>\n",
       "      <td>NaN</td>\n",
       "      <td>NaN</td>\n",
       "    </tr>\n",
       "    <tr>\n",
       "      <th>7</th>\n",
       "      <td>ball</td>\n",
       "      <td>1</td>\n",
       "      <td>1.1</td>\n",
       "      <td>England</td>\n",
       "      <td>ME Trescothick</td>\n",
       "      <td>GO Jones</td>\n",
       "      <td>GD McGrath</td>\n",
       "      <td>0</td>\n",
       "      <td>0</td>\n",
       "      <td>NaN</td>\n",
       "      <td>NaN</td>\n",
       "    </tr>\n",
       "    <tr>\n",
       "      <th>8</th>\n",
       "      <td>ball</td>\n",
       "      <td>1</td>\n",
       "      <td>1.2</td>\n",
       "      <td>England</td>\n",
       "      <td>ME Trescothick</td>\n",
       "      <td>GO Jones</td>\n",
       "      <td>GD McGrath</td>\n",
       "      <td>0</td>\n",
       "      <td>0</td>\n",
       "      <td>NaN</td>\n",
       "      <td>NaN</td>\n",
       "    </tr>\n",
       "    <tr>\n",
       "      <th>9</th>\n",
       "      <td>ball</td>\n",
       "      <td>1</td>\n",
       "      <td>1.3</td>\n",
       "      <td>England</td>\n",
       "      <td>ME Trescothick</td>\n",
       "      <td>GO Jones</td>\n",
       "      <td>GD McGrath</td>\n",
       "      <td>0</td>\n",
       "      <td>1</td>\n",
       "      <td>NaN</td>\n",
       "      <td>NaN</td>\n",
       "    </tr>\n",
       "  </tbody>\n",
       "</table>\n",
       "</div>"
      ],
      "text/plain": [
       "   ball  innings  overs     team        batsman1        batsman2      bowler  \\\n",
       "0  ball        1    0.1  England  ME Trescothick        GO Jones       B Lee   \n",
       "1  ball        1    0.2  England  ME Trescothick        GO Jones       B Lee   \n",
       "2  ball        1    0.3  England        GO Jones  ME Trescothick       B Lee   \n",
       "3  ball        1    0.4  England        GO Jones  ME Trescothick       B Lee   \n",
       "4  ball        1    0.5  England        GO Jones  ME Trescothick       B Lee   \n",
       "5  ball        1    0.6  England        GO Jones  ME Trescothick       B Lee   \n",
       "6  ball        1    0.7  England        GO Jones  ME Trescothick       B Lee   \n",
       "7  ball        1    1.1  England  ME Trescothick        GO Jones  GD McGrath   \n",
       "8  ball        1    1.2  England  ME Trescothick        GO Jones  GD McGrath   \n",
       "9  ball        1    1.3  England  ME Trescothick        GO Jones  GD McGrath   \n",
       "\n",
       "   runs  extras wkt_type wkt_batsman  \n",
       "0     0       0      NaN         NaN  \n",
       "1     1       0      NaN         NaN  \n",
       "2     0       0      NaN         NaN  \n",
       "3     0       0      NaN         NaN  \n",
       "4     0       0      NaN         NaN  \n",
       "5     0       1      NaN         NaN  \n",
       "6     2       0      NaN         NaN  \n",
       "7     0       0      NaN         NaN  \n",
       "8     0       0      NaN         NaN  \n",
       "9     0       1      NaN         NaN  "
      ]
     },
     "execution_count": 43,
     "metadata": {},
     "output_type": "execute_result"
    }
   ],
   "source": [
    "col_names=['ball', 'innings', 'overs', 'team', 'batsman1', 'batsman2', \n",
    "           'bowler', 'runs', 'extras', 'wkt_type', 'wkt_batsman']\n",
    "\n",
    "database_dir='../dataset/csv/t20_csv_male/'\n",
    "fil=os.path.join(database_dir,  '211028.csv' )\n",
    "df=pd.read_csv(fil, skiprows=17, header=None, names=col_names)\n",
    "df.head(10)"
   ]
  },
  {
   "cell_type": "markdown",
   "metadata": {},
   "source": [
    "I want to get only the scores at over number 6(end of powerplay), over 10, over 15 and over 20(or end of the game). for each innings. So let's get rid of the non-numeric columns."
   ]
  },
  {
   "cell_type": "code",
   "execution_count": 4,
   "metadata": {},
   "outputs": [
    {
     "data": {
      "text/html": [
       "<div>\n",
       "<style scoped>\n",
       "    .dataframe tbody tr th:only-of-type {\n",
       "        vertical-align: middle;\n",
       "    }\n",
       "\n",
       "    .dataframe tbody tr th {\n",
       "        vertical-align: top;\n",
       "    }\n",
       "\n",
       "    .dataframe thead th {\n",
       "        text-align: right;\n",
       "    }\n",
       "</style>\n",
       "<table border=\"1\" class=\"dataframe\">\n",
       "  <thead>\n",
       "    <tr style=\"text-align: right;\">\n",
       "      <th></th>\n",
       "      <th>innings</th>\n",
       "      <th>overs</th>\n",
       "      <th>runs</th>\n",
       "      <th>extras</th>\n",
       "      <th>wkt_batsman</th>\n",
       "    </tr>\n",
       "  </thead>\n",
       "  <tbody>\n",
       "    <tr>\n",
       "      <th>0</th>\n",
       "      <td>1</td>\n",
       "      <td>0.1</td>\n",
       "      <td>0</td>\n",
       "      <td>0</td>\n",
       "      <td>NaN</td>\n",
       "    </tr>\n",
       "    <tr>\n",
       "      <th>1</th>\n",
       "      <td>1</td>\n",
       "      <td>0.2</td>\n",
       "      <td>1</td>\n",
       "      <td>0</td>\n",
       "      <td>NaN</td>\n",
       "    </tr>\n",
       "    <tr>\n",
       "      <th>2</th>\n",
       "      <td>1</td>\n",
       "      <td>0.3</td>\n",
       "      <td>0</td>\n",
       "      <td>0</td>\n",
       "      <td>NaN</td>\n",
       "    </tr>\n",
       "    <tr>\n",
       "      <th>3</th>\n",
       "      <td>1</td>\n",
       "      <td>0.4</td>\n",
       "      <td>0</td>\n",
       "      <td>0</td>\n",
       "      <td>NaN</td>\n",
       "    </tr>\n",
       "    <tr>\n",
       "      <th>4</th>\n",
       "      <td>1</td>\n",
       "      <td>0.5</td>\n",
       "      <td>0</td>\n",
       "      <td>0</td>\n",
       "      <td>NaN</td>\n",
       "    </tr>\n",
       "  </tbody>\n",
       "</table>\n",
       "</div>"
      ],
      "text/plain": [
       "   innings  overs  runs  extras wkt_batsman\n",
       "0        1    0.1     0       0         NaN\n",
       "1        1    0.2     1       0         NaN\n",
       "2        1    0.3     0       0         NaN\n",
       "3        1    0.4     0       0         NaN\n",
       "4        1    0.5     0       0         NaN"
      ]
     },
     "execution_count": 4,
     "metadata": {},
     "output_type": "execute_result"
    }
   ],
   "source": [
    "df1=df.drop(columns=[\"ball\",\"team\",\"batsman1\", \"batsman2\", \"bowler\", \"wkt_type\"])\n",
    "df1.head()"
   ]
  },
  {
   "cell_type": "code",
   "execution_count": 5,
   "metadata": {},
   "outputs": [
    {
     "data": {
      "text/plain": [
       "innings          1\n",
       "overs          0.6\n",
       "runs             0\n",
       "extras           1\n",
       "wkt_batsman    NaN\n",
       "Name: 5, dtype: object"
      ]
     },
     "execution_count": 5,
     "metadata": {},
     "output_type": "execute_result"
    }
   ],
   "source": [
    "df1.loc[5]"
   ]
  },
  {
   "cell_type": "code",
   "execution_count": 7,
   "metadata": {},
   "outputs": [
    {
     "ename": "NameError",
     "evalue": "name 'data1' is not defined",
     "output_type": "error",
     "traceback": [
      "\u001b[0;31m---------------------------------------------------------------------------\u001b[0m",
      "\u001b[0;31mNameError\u001b[0m                                 Traceback (most recent call last)",
      "\u001b[0;32m<ipython-input-7-95ffc7dee764>\u001b[0m in \u001b[0;36m<module>\u001b[0;34m\u001b[0m\n\u001b[1;32m     31\u001b[0m     \u001b[0;32mreturn\u001b[0m \u001b[0mnp\u001b[0m\u001b[0;34m.\u001b[0m\u001b[0marray\u001b[0m\u001b[0;34m(\u001b[0m\u001b[0mdat\u001b[0m\u001b[0;34m)\u001b[0m\u001b[0;34m\u001b[0m\u001b[0;34m\u001b[0m\u001b[0m\n\u001b[1;32m     32\u001b[0m \u001b[0;34m\u001b[0m\u001b[0m\n\u001b[0;32m---> 33\u001b[0;31m \u001b[0mRW\u001b[0m\u001b[0;34m=\u001b[0m\u001b[0mget_runs_wkts\u001b[0m\u001b[0;34m(\u001b[0m\u001b[0minn\u001b[0m\u001b[0;34m=\u001b[0m\u001b[0;36m2\u001b[0m\u001b[0;34m)\u001b[0m\u001b[0;34m\u001b[0m\u001b[0;34m\u001b[0m\u001b[0m\n\u001b[0m\u001b[1;32m     34\u001b[0m \u001b[0mRW_format\u001b[0m \u001b[0;34m=\u001b[0m\u001b[0mnp\u001b[0m\u001b[0;34m.\u001b[0m\u001b[0marray\u001b[0m\u001b[0;34m(\u001b[0m \u001b[0mlist\u001b[0m\u001b[0;34m(\u001b[0m\u001b[0mRW\u001b[0m\u001b[0;34m[\u001b[0m\u001b[0;36m0\u001b[0m\u001b[0;34m,\u001b[0m\u001b[0;36m1\u001b[0m\u001b[0;34m:\u001b[0m\u001b[0;34m]\u001b[0m\u001b[0;34m)\u001b[0m \u001b[0;34m+\u001b[0m \u001b[0mlist\u001b[0m\u001b[0;34m(\u001b[0m\u001b[0mRW\u001b[0m\u001b[0;34m[\u001b[0m\u001b[0;36m1\u001b[0m\u001b[0;34m,\u001b[0m\u001b[0;36m1\u001b[0m\u001b[0;34m:\u001b[0m\u001b[0;34m]\u001b[0m\u001b[0;34m)\u001b[0m \u001b[0;34m+\u001b[0m \u001b[0mlist\u001b[0m\u001b[0;34m(\u001b[0m\u001b[0mRW\u001b[0m\u001b[0;34m[\u001b[0m\u001b[0;36m2\u001b[0m\u001b[0;34m,\u001b[0m\u001b[0;36m1\u001b[0m\u001b[0;34m:\u001b[0m\u001b[0;34m]\u001b[0m\u001b[0;34m)\u001b[0m\u001b[0;34m+\u001b[0m \u001b[0mlist\u001b[0m\u001b[0;34m(\u001b[0m\u001b[0mRW\u001b[0m\u001b[0;34m[\u001b[0m\u001b[0;36m3\u001b[0m\u001b[0;34m,\u001b[0m\u001b[0;36m1\u001b[0m\u001b[0;34m:\u001b[0m\u001b[0;34m]\u001b[0m\u001b[0;34m)\u001b[0m \u001b[0;34m)\u001b[0m\u001b[0;34m\u001b[0m\u001b[0;34m\u001b[0m\u001b[0m\n\u001b[1;32m     35\u001b[0m \u001b[0mprint\u001b[0m \u001b[0;34m(\u001b[0m\u001b[0mRW_format\u001b[0m\u001b[0;34m)\u001b[0m\u001b[0;34m\u001b[0m\u001b[0;34m\u001b[0m\u001b[0m\n",
      "\u001b[0;32m<ipython-input-7-95ffc7dee764>\u001b[0m in \u001b[0;36mget_runs_wkts\u001b[0;34m(inn)\u001b[0m\n\u001b[1;32m     14\u001b[0m         \u001b[0mruns_bat\u001b[0m\u001b[0;34m=\u001b[0m\u001b[0mnp\u001b[0m\u001b[0;34m.\u001b[0m\u001b[0msum\u001b[0m\u001b[0;34m(\u001b[0m \u001b[0mdf1\u001b[0m\u001b[0;34m[\u001b[0m\u001b[0;34m'runs'\u001b[0m\u001b[0;34m]\u001b[0m\u001b[0;34m[\u001b[0m\u001b[0mdf1\u001b[0m\u001b[0;34m[\u001b[0m\u001b[0;34m'innings'\u001b[0m\u001b[0;34m]\u001b[0m\u001b[0;34m==\u001b[0m\u001b[0minn\u001b[0m\u001b[0;34m]\u001b[0m\u001b[0;34m.\u001b[0m\u001b[0mvalues\u001b[0m\u001b[0;34m[\u001b[0m\u001b[0;34m:\u001b[0m\u001b[0mindx\u001b[0m\u001b[0;34m]\u001b[0m\u001b[0;34m)\u001b[0m\u001b[0;34m\u001b[0m\u001b[0;34m\u001b[0m\u001b[0m\n\u001b[1;32m     15\u001b[0m         \u001b[0mruns_ext\u001b[0m\u001b[0;34m=\u001b[0m\u001b[0mnp\u001b[0m\u001b[0;34m.\u001b[0m\u001b[0msum\u001b[0m\u001b[0;34m(\u001b[0m \u001b[0mdf1\u001b[0m\u001b[0;34m[\u001b[0m\u001b[0;34m'extras'\u001b[0m\u001b[0;34m]\u001b[0m\u001b[0;34m[\u001b[0m\u001b[0mdf1\u001b[0m\u001b[0;34m[\u001b[0m\u001b[0;34m'innings'\u001b[0m\u001b[0;34m]\u001b[0m\u001b[0;34m==\u001b[0m\u001b[0minn\u001b[0m\u001b[0;34m]\u001b[0m\u001b[0;34m.\u001b[0m\u001b[0mvalues\u001b[0m\u001b[0;34m[\u001b[0m\u001b[0;34m:\u001b[0m\u001b[0mindx\u001b[0m\u001b[0;34m]\u001b[0m\u001b[0;34m)\u001b[0m\u001b[0;34m\u001b[0m\u001b[0;34m\u001b[0m\u001b[0m\n\u001b[0;32m---> 16\u001b[0;31m         \u001b[0mwkts_tot\u001b[0m\u001b[0;34m=\u001b[0m\u001b[0mlen\u001b[0m\u001b[0;34m(\u001b[0m\u001b[0mdata1\u001b[0m\u001b[0;34m[\u001b[0m\u001b[0;34m'wkt_batsman'\u001b[0m\u001b[0;34m]\u001b[0m\u001b[0;34m[\u001b[0m\u001b[0mdf1\u001b[0m\u001b[0;34m[\u001b[0m\u001b[0;34m'innings'\u001b[0m\u001b[0;34m]\u001b[0m\u001b[0;34m==\u001b[0m\u001b[0minn\u001b[0m\u001b[0;34m]\u001b[0m\u001b[0;34m[\u001b[0m\u001b[0;34m:\u001b[0m\u001b[0mindx\u001b[0m\u001b[0;34m]\u001b[0m\u001b[0;34m.\u001b[0m\u001b[0mdropna\u001b[0m\u001b[0;34m(\u001b[0m\u001b[0;34m)\u001b[0m\u001b[0;34m)\u001b[0m\u001b[0;34m\u001b[0m\u001b[0;34m\u001b[0m\u001b[0m\n\u001b[0m\u001b[1;32m     17\u001b[0m         \u001b[0;31m#print (ovr, wkts_tot)\u001b[0m\u001b[0;34m\u001b[0m\u001b[0;34m\u001b[0m\u001b[0;34m\u001b[0m\u001b[0m\n\u001b[1;32m     18\u001b[0m         \u001b[0mruns_tot\u001b[0m \u001b[0;34m=\u001b[0m \u001b[0mruns_bat\u001b[0m \u001b[0;34m+\u001b[0m \u001b[0mruns_ext\u001b[0m\u001b[0;34m\u001b[0m\u001b[0;34m\u001b[0m\u001b[0m\n",
      "\u001b[0;31mNameError\u001b[0m: name 'data1' is not defined"
     ]
    }
   ],
   "source": [
    "import numpy as np\n",
    "\n",
    "def get_runs_wkts(inn):\n",
    "    ovr_max = df1['overs'][df1['innings']==inn].values[-1]\n",
    "    ovr_L=np.array([6, 10, 15])\n",
    "    \n",
    "    # Update the over list when the innings ends before 20 over.\n",
    "    ovr_L=ovr_L[ovr_L<=ovr_max]\n",
    "    ov_dict={6:6.1, 10:10.1, 15:15.1}\n",
    "    \n",
    "    dat=[]\n",
    "    for ovr in ovr_L:\n",
    "        indx,=np.where(df1['overs'][df1['innings']==inn].values==ov_dict[ovr]); indx=indx[0]\n",
    "        runs_bat=np.sum( df1['runs'][df1['innings']==inn].values[:indx])\n",
    "        runs_ext=np.sum( df1['extras'][df1['innings']==inn].values[:indx])\n",
    "        wkts_tot=len(df1['wkt_batsman'][df1['innings']==inn][:indx].dropna())\n",
    "        #print (ovr, wkts_tot)\n",
    "        runs_tot = runs_bat + runs_ext\n",
    "        dat.append([ovr, runs_tot, wkts_tot ])\n",
    "\n",
    "    ovr=ovr_max\n",
    "    runs_bat=np.sum( df1['runs'][df1['innings']==inn].values)\n",
    "    runs_ext=np.sum( df1['extras'][df1['innings']==inn].values)\n",
    "    wkts_tot=len(data1['wkt_batsman'][df1['innings']==inn].dropna())\n",
    "    runs_tot = runs_bat + runs_ext\n",
    "    dat.append([ovr, runs_tot, wkts_tot ])\n",
    "    \n",
    "    if ovr_max <15.1:\n",
    "        dat.append([20., runs_tot, wkts_tot ])\n",
    "    \n",
    "    return np.array(dat)\n",
    "    \n",
    "RW=get_runs_wkts(inn=2)\n",
    "RW_format =np.array( list(RW[0,1:]) + list(RW[1,1:]) + list(RW[2,1:])+ list(RW[3,1:]) )\n",
    "print (RW_format)"
   ]
  },
  {
   "cell_type": "code",
   "execution_count": 1,
   "metadata": {
    "scrolled": true
   },
   "outputs": [
    {
     "ename": "NameError",
     "evalue": "name 'os' is not defined",
     "output_type": "error",
     "traceback": [
      "\u001b[0;31m---------------------------------------------------------------------------\u001b[0m",
      "\u001b[0;31mNameError\u001b[0m                                 Traceback (most recent call last)",
      "\u001b[0;32m<ipython-input-1-df0aca760e6c>\u001b[0m in \u001b[0;36m<module>\u001b[0;34m\u001b[0m\n\u001b[1;32m     13\u001b[0m \u001b[0;34m\u001b[0m\u001b[0m\n\u001b[1;32m     14\u001b[0m \u001b[0;32mfor\u001b[0m \u001b[0mn\u001b[0m \u001b[0;32min\u001b[0m \u001b[0;34m[\u001b[0m\u001b[0;34m'237242'\u001b[0m\u001b[0;34m,\u001b[0m \u001b[0;34m'238195'\u001b[0m\u001b[0;34m,\u001b[0m \u001b[0;34m'225271'\u001b[0m\u001b[0;34m,\u001b[0m \u001b[0;34m'225263'\u001b[0m\u001b[0;34m]\u001b[0m\u001b[0;34m:\u001b[0m\u001b[0;34m\u001b[0m\u001b[0;34m\u001b[0m\u001b[0m\n\u001b[0;32m---> 15\u001b[0;31m     \u001b[0mdic\u001b[0m\u001b[0;34m=\u001b[0m\u001b[0mread_scoreboard\u001b[0m\u001b[0;34m(\u001b[0m\u001b[0mn\u001b[0m\u001b[0;34m)\u001b[0m\u001b[0;34m\u001b[0m\u001b[0;34m\u001b[0m\u001b[0m\n\u001b[0m\u001b[1;32m     16\u001b[0m     \u001b[0;31m#print (n, dic)\u001b[0m\u001b[0;34m\u001b[0m\u001b[0;34m\u001b[0m\u001b[0;34m\u001b[0m\u001b[0m\n\u001b[1;32m     17\u001b[0m     \u001b[0;31m#print ('')\u001b[0m\u001b[0;34m\u001b[0m\u001b[0;34m\u001b[0m\u001b[0;34m\u001b[0m\u001b[0m\n",
      "\u001b[0;32m<ipython-input-1-df0aca760e6c>\u001b[0m in \u001b[0;36mread_scoreboard\u001b[0;34m(match_num)\u001b[0m\n\u001b[1;32m      1\u001b[0m \u001b[0;32mdef\u001b[0m \u001b[0mread_scoreboard\u001b[0m\u001b[0;34m(\u001b[0m\u001b[0mmatch_num\u001b[0m\u001b[0;34m=\u001b[0m\u001b[0;36m226374\u001b[0m\u001b[0;34m)\u001b[0m\u001b[0;34m:\u001b[0m\u001b[0;34m\u001b[0m\u001b[0;34m\u001b[0m\u001b[0m\n\u001b[1;32m      2\u001b[0m     \u001b[0mbase_dir\u001b[0m\u001b[0;34m=\u001b[0m\u001b[0;34m'../dataset/csv/t20_csv_male/'\u001b[0m\u001b[0;34m\u001b[0m\u001b[0;34m\u001b[0m\u001b[0m\n\u001b[0;32m----> 3\u001b[0;31m     \u001b[0mfil\u001b[0m\u001b[0;34m=\u001b[0m\u001b[0mos\u001b[0m\u001b[0;34m.\u001b[0m\u001b[0mpath\u001b[0m\u001b[0;34m.\u001b[0m\u001b[0mjoin\u001b[0m\u001b[0;34m(\u001b[0m\u001b[0mbase_dir\u001b[0m\u001b[0;34m,\u001b[0m \u001b[0mstr\u001b[0m\u001b[0;34m(\u001b[0m\u001b[0mmatch_num\u001b[0m\u001b[0;34m)\u001b[0m\u001b[0;34m+\u001b[0m\u001b[0;34m'.csv'\u001b[0m\u001b[0;34m)\u001b[0m\u001b[0;34m\u001b[0m\u001b[0;34m\u001b[0m\u001b[0m\n\u001b[0m\u001b[1;32m      4\u001b[0m     \u001b[0mdf2\u001b[0m\u001b[0;34m=\u001b[0m\u001b[0mpd\u001b[0m\u001b[0;34m.\u001b[0m\u001b[0mread_csv\u001b[0m\u001b[0;34m(\u001b[0m\u001b[0mfil\u001b[0m\u001b[0;34m,\u001b[0m \u001b[0mnrows\u001b[0m\u001b[0;34m=\u001b[0m\u001b[0;36m16\u001b[0m\u001b[0;34m,\u001b[0m \u001b[0mskiprows\u001b[0m\u001b[0;34m=\u001b[0m\u001b[0;36m1\u001b[0m\u001b[0;34m,\u001b[0m \u001b[0mnames\u001b[0m\u001b[0;34m=\u001b[0m\u001b[0;34m[\u001b[0m\u001b[0;34m'INFO'\u001b[0m\u001b[0;34m,\u001b[0m \u001b[0;34m'info_key'\u001b[0m\u001b[0;34m,\u001b[0m\u001b[0;34m'info_val'\u001b[0m\u001b[0;34m]\u001b[0m\u001b[0;34m)\u001b[0m\u001b[0;34m.\u001b[0m\u001b[0mT\u001b[0m\u001b[0;34m\u001b[0m\u001b[0;34m\u001b[0m\u001b[0m\n\u001b[1;32m      5\u001b[0m     \u001b[0mTeams\u001b[0m\u001b[0;34m=\u001b[0m\u001b[0;34m(\u001b[0m\u001b[0mdf2\u001b[0m\u001b[0;34m.\u001b[0m\u001b[0mvalues\u001b[0m\u001b[0;34m[\u001b[0m\u001b[0;36m2\u001b[0m\u001b[0;34m]\u001b[0m\u001b[0;34m[\u001b[0m\u001b[0;34m:\u001b[0m\u001b[0;36m2\u001b[0m\u001b[0;34m]\u001b[0m\u001b[0;34m)\u001b[0m\u001b[0;34m\u001b[0m\u001b[0;34m\u001b[0m\u001b[0m\n",
      "\u001b[0;31mNameError\u001b[0m: name 'os' is not defined"
     ]
    }
   ],
   "source": [
    "def read_scoreboard(match_num=226374):\n",
    "    base_dir='../dataset/csv/t20_csv_male/'\n",
    "    fil=os.path.join(base_dir, str(match_num)+'.csv')\n",
    "    df2=pd.read_csv(fil, nrows=16, skiprows=1, names=['INFO', 'info_key','info_val']).T\n",
    "    Teams=(df2.values[2][:2])\n",
    "    info_dict={df2.values[1][i]:df2.values[2][i] for i in range(len(df2.values[1]))}\n",
    "\n",
    "    if info_dict.get('winner'):\n",
    "        #ylabel=[0,1][Teams==info_dict.get('winner')]\n",
    "        ylabel=np.array([0,1])[Teams==info_dict.get['winner']]\n",
    "        print (ylabel)\n",
    "    return info_dict\n",
    "\n",
    "for n in ['237242', '238195', '225271', '225263']:\n",
    "    dic=read_scoreboard(n)\n",
    "    #print (n, dic)\n",
    "    #print ('')\n",
    "    print  (dic.get('toss_winner'), dic.get('winner'), dic.get('outcome') )\n",
    "    \n",
    "\n",
    "#read_scoreboard(238195)    \n",
    "    "
   ]
  },
  {
   "cell_type": "code",
   "execution_count": null,
   "metadata": {},
   "outputs": [],
   "source": []
  },
  {
   "cell_type": "code",
   "execution_count": 236,
   "metadata": {},
   "outputs": [
    {
     "name": "stdout",
     "output_type": "stream",
     "text": [
      "['211048', '211028', '222678', '226374', '237242', '238195', '225271', '225263', '255954', '251487']\n"
     ]
    }
   ],
   "source": [
    "match_num_fil=open('../dataset/yaml/match_num', 'r')\n",
    "lines=match_num_fil.readlines()\n",
    "print ([line.strip('\\n') for line in lines[:10]])"
   ]
  },
  {
   "cell_type": "code",
   "execution_count": 358,
   "metadata": {},
   "outputs": [
    {
     "data": {
      "text/plain": [
       "[array([ True, False, False, False, False])]"
      ]
     },
     "execution_count": 358,
     "metadata": {},
     "output_type": "execute_result"
    }
   ],
   "source": [
    "[np.array(['1', '2', '3', '4', '5'])=='1']"
   ]
  },
  {
   "cell_type": "code",
   "execution_count": 370,
   "metadata": {},
   "outputs": [
    {
     "name": "stdout",
     "output_type": "stream",
     "text": [
      "['Australia' 'South Africa']\n",
      "Australia\n"
     ]
    },
    {
     "data": {
      "text/plain": [
       "array([0])"
      ]
     },
     "execution_count": 370,
     "metadata": {},
     "output_type": "execute_result"
    }
   ],
   "source": [
    "match_num=226374\n",
    "base_dir='../dataset/csv/t20_csv_male/'\n",
    "fil=os.path.join(base_dir, str(match_num)+'.csv')\n",
    "df2=pd.read_csv(fil, nrows=16, skiprows=1, names=['INFO', 'info_key','info_val']).T\n",
    "Teams=(df2.values[2][:2])\n",
    "info_dict={df2.values[1][i]:df2.values[2][i] for i in range(len(df2.values[1]))}\n",
    "\n",
    "print (Teams)\n",
    "print (info_dict['winner'])\n",
    "\n",
    "np.array([0,1])[Teams==info_dict['winner']]\n",
    "#Teams[1]==info_dict['winner']\n",
    "\n",
    "#ylabel=[0,1][Teams==info_dict.get('winner')]\n",
    "    "
   ]
  },
  {
   "cell_type": "code",
   "execution_count": null,
   "metadata": {},
   "outputs": [],
   "source": []
  }
 ],
 "metadata": {
  "kernelspec": {
   "display_name": "Python 3",
   "language": "python",
   "name": "python3"
  },
  "language_info": {
   "codemirror_mode": {
    "name": "ipython",
    "version": 3
   },
   "file_extension": ".py",
   "mimetype": "text/x-python",
   "name": "python",
   "nbconvert_exporter": "python",
   "pygments_lexer": "ipython3",
   "version": "3.7.5"
  }
 },
 "nbformat": 4,
 "nbformat_minor": 2
}
